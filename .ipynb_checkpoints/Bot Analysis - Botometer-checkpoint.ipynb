{
 "cells": [
  {
   "cell_type": "markdown",
   "metadata": {},
   "source": [
    "# ANALISA AKUN BOT MENGGUNAKAN BOTOMETER PADA TWITTER"
   ]
  },
  {
   "cell_type": "code",
   "execution_count": 76,
   "metadata": {},
   "outputs": [],
   "source": [
    "import botometer\n",
    "import tweepy\n",
    "import pandas as pd\n",
    "import unicodedata\n",
    "import re\n",
    "import csv\n",
    "import xlsxwriter\n",
    "import numpy as np\n",
    "import matplotlib.pyplot as plt\n",
    "import plotly.graph_objects as go"
   ]
  },
  {
   "cell_type": "markdown",
   "metadata": {},
   "source": [
    "### TOKEN API TWITTER DAN BOTOMETER"
   ]
  },
  {
   "cell_type": "code",
   "execution_count": 8,
   "metadata": {},
   "outputs": [],
   "source": [
    "consumer_key = 'VtrwjoxddfiAsXguhdJm76NM6'\n",
    "consumer_secret = 'B5RQKNS3b7QGLwDzwcJeRbgIrtutQoVNHcBhZL1KFl7yepyObT'\n",
    "access_token = '1071372097333542912-ak1cv74M7HykSiVTuQaO1pzJcPDS6W'\n",
    "access_token_secret = '6Wg2iRn5LJTeX1MTDQ7iKdSLWKyXwm0hZ6bbuP52PiM80'\n",
    "\n",
    "auth = tweepy.OAuthHandler(consumer_key, consumer_secret)\n",
    "auth.set_access_token(access_token, access_token_secret)\n",
    "api = tweepy.API(auth)"
   ]
  },
  {
   "cell_type": "code",
   "execution_count": 9,
   "metadata": {},
   "outputs": [],
   "source": [
    "rapidapi_key = \"69ba76c6f1msh08f4419a225be26p1b541ejsnb2367cceaf31\" # now it's called rapidapi key\n",
    "twitter_app_auth = {\n",
    "    'consumer_key': 'VtrwjoxddfiAsXguhdJm76NM6',\n",
    "    'consumer_secret': 'B5RQKNS3b7QGLwDzwcJeRbgIrtutQoVNHcBhZL1KFl7yepyObT',\n",
    "    'access_token': '1071372097333542912-ak1cv74M7HykSiVTuQaO1pzJcPDS6W',\n",
    "    'access_token_secret': '6Wg2iRn5LJTeX1MTDQ7iKdSLWKyXwm0hZ6bbuP52PiM80',\n",
    "  }"
   ]
  },
  {
   "cell_type": "markdown",
   "metadata": {},
   "source": [
    "### WRITING ON CSV"
   ]
  },
  {
   "cell_type": "code",
   "execution_count": 10,
   "metadata": {},
   "outputs": [],
   "source": [
    "csvFile = open(\"Bot_Analysis2.csv\", \"a\", encoding=\"utf-8\")\n",
    "csvWriter = csv.writer(csvFile)"
   ]
  },
  {
   "cell_type": "code",
   "execution_count": 11,
   "metadata": {},
   "outputs": [
    {
     "data": {
      "text/plain": [
       "136"
      ]
     },
     "execution_count": 11,
     "metadata": {},
     "output_type": "execute_result"
    }
   ],
   "source": [
    "header = ['tanggal','tweet','rt_count','fav_count',\n",
    "          'username','scree_name', 'location', 'geo_enabled', 'friends', 'followers', 'statuteses_count', 'default_profil_img'\n",
    "          ,'scores']\n",
    "csvWriter.writerow(header)"
   ]
  },
  {
   "cell_type": "markdown",
   "metadata": {},
   "source": [
    "##### Crawling data from Twitter using \"Corona\" and \"Covid\" as the keyword"
   ]
  },
  {
   "cell_type": "code",
   "execution_count": 12,
   "metadata": {},
   "outputs": [
    {
     "name": "stdout",
     "output_type": "stream",
     "text": [
      " virus corona kalah di taiwan dgn tanpa lockdown entah mereka percaya konspirasi elit global atau engga tapi satu negar \n",
      " virus corona kalah di taiwan dgn tanpa lockdown entah mereka percaya konspirasi elit global atau engga tapi satu negar \n",
      " virus corona kalah di taiwan dgn tanpa lockdown entah mereka percaya konspirasi elit global atau engga tapi satu negar \n",
      " hasil debat tudingan konspirasi corona erinx tidak percaya data covid 19 dari pemerintah dia hanya percaya pak jokowi \n",
      " virus corona kalah di taiwan dgn tanpa lockdown entah mereka percaya konspirasi elit global atau engga tapi satu negar \n",
      " virus corona kalah di taiwan dgn tanpa lockdown entah mereka percaya konspirasi elit global atau engga tapi satu negar \n",
      " hasil debat tudingan konspirasi corona erinx tidak percaya data covid 19 dari pemerintah dia hanya percaya pak jokowi \n",
      " virus corona kalah di taiwan dgn tanpa lockdown entah mereka percaya konspirasi elit global atau engga tapi satu negar \n",
      " virus corona kalah di taiwan dgn tanpa lockdown entah mereka percaya konspirasi elit global atau engga tapi satu negar \n",
      " virus corona kalah di taiwan dgn tanpa lockdown entah mereka percaya konspirasi elit global atau engga tapi satu negar \n",
      " virus corona kalah di taiwan dgn tanpa lockdown entah mereka percaya konspirasi elit global atau engga tapi satu negar \n",
      " virus corona kalah di taiwan dgn tanpa lockdown entah mereka percaya konspirasi elit global atau engga tapi satu negar \n",
      " virus corona kalah di taiwan dgn tanpa lockdown entah mereka percaya konspirasi elit global atau engga tapi satu negar \n",
      " hasil debat tudingan konspirasi corona erinx tidak percaya data covid 19 dari pemerintah dia hanya percaya pak jokowi \n",
      " aiman pun sempat tertawa saat menjelaskan konspirasi virus corona jerinx ajj gk tau beda rapid test ma swa \n",
      " hasil debat tudingan konspirasi corona erinx tidak percaya data covid 19 dari pemerintah dia hanya percaya pak jokowi \n",
      " hasil debat tudingan konspirasi corona erinx tidak percaya data covid 19 dari pemerintah dia hanya percaya pak jokowi \n",
      " aiman pun sempat tertawa saat menjelaskan konspirasi virus corona jerinx ajj gk tau beda rapid test ma swa \n",
      " mbak pahami dulu narasinya jrx ya saya bukan fans dia apa yg disampaikan dia itu maksudnya gini virus \n",
      " aiman pun sempat tertawa saat menjelaskan konspirasi virus corona jerinx ajj gk tau beda rapid test ma swa \n",
      " virus corona kalah di taiwan dgn tanpa lockdown entah mereka percaya konspirasi elit global atau engga tapi satu negar \n",
      " virus corona kalah di taiwan dgn tanpa lockdown entah mereka percaya konspirasi elit global atau engga tapi satu negar \n",
      " aiman pun sempat tertawa saat menjelaskan konspirasi virus corona jerinx ajj gk tau beda rapid test ma swa \n",
      " virus corona kalah di taiwan dgn tanpa lockdown entah mereka percaya konspirasi elit global atau engga tapi satu negar \n",
      " virus corona kalah di taiwan dgn tanpa lockdown entah mereka percaya konspirasi elit global atau engga tapi satu negar \n",
      " virus corona kalah di taiwan dgn tanpa lockdown entah mereka percaya konspirasi elit global atau engga tapi satu negar \n",
      " virus corona kalah di taiwan dgn tanpa lockdown entah mereka percaya konspirasi elit global atau engga tapi satu negar \n",
      " hasil debat tudingan konspirasi corona erinx tidak percaya data covid 19 dari pemerintah dia hanya percaya pak jokowi \n",
      " virus corona kalah di taiwan dgn tanpa lockdown entah mereka percaya konspirasi elit global atau engga tapi satu negar \n",
      " virus corona kalah di taiwan dgn tanpa lockdown entah mereka percaya konspirasi elit global atau engga tapi satu negar \n",
      "apa covid ini konspirasi kok ku jdi kpikir begitu ga salah kn coba demam berdarah dianggap pnyakit pandemi juga knpa corona aja \n",
      " aiman pun sempat tertawa saat menjelaskan konspirasi virus corona jerinx ajj gk tau beda rapid test ma swa \n",
      " yang bilang corona konspirasi ini contoh paru paru kena corona\n",
      " virus corona kalah di taiwan dgn tanpa lockdown entah mereka percaya konspirasi elit global atau engga tapi satu negar \n",
      " hasil debat tudingan konspirasi corona erinx tidak percaya data covid 19 dari pemerintah dia hanya percaya pak jokowi \n",
      " teori konspirasi wabah covid 19 sulit dibantah setelah sebelumnya seorang peneliti berkeban \n",
      " virus corona kalah di taiwan dgn tanpa lockdown entah mereka percaya konspirasi elit global atau engga tapi satu negar \n",
      " virus corona kalah di taiwan dgn tanpa lockdown entah mereka percaya konspirasi elit global atau engga tapi satu negar \n",
      " hasil debat tudingan konspirasi corona erinx tidak percaya data covid 19 dari pemerintah dia hanya percaya pak jokowi \n",
      " hasil debat tudingan konspirasi corona erinx tidak percaya data covid 19 dari pemerintah dia hanya percaya pak jokowi \n",
      " virus corona kalah di taiwan dgn tanpa lockdown entah mereka percaya konspirasi elit global atau engga tapi satu negar \n",
      " teori konspirasi wabah covid 19 sulit dibantah setelah sebelumnya seorang peneliti berkeban \n",
      " virus corona kalah di taiwan dgn tanpa lockdown entah mereka percaya konspirasi elit global atau engga tapi satu negar \n",
      " virus corona kalah di taiwan dgn tanpa lockdown entah mereka percaya konspirasi elit global atau engga tapi satu negar \n",
      " hasil debat tudingan konspirasi corona erinx tidak percaya data covid 19 dari pemerintah dia hanya percaya pak jokowi \n",
      " aiman pun sempat tertawa saat menjelaskan konspirasi virus corona jerinx ajj gk tau beda rapid test ma swa \n",
      " hasil debat tudingan konspirasi corona erinx tidak percaya data covid 19 dari pemerintah dia hanya percaya pak jokowi \n",
      " virus corona kalah di taiwan dgn tanpa lockdown entah mereka percaya konspirasi elit global atau engga tapi satu negar \n",
      " virus corona kalah di taiwan dgn tanpa lockdown entah mereka percaya konspirasi elit global atau engga tapi satu negar \n",
      " virus corona kalah di taiwan dgn tanpa lockdown entah mereka percaya konspirasi elit global atau engga tapi satu negar \n",
      " aiman pun sempat tertawa saat menjelaskan konspirasi virus corona jerinx ajj gk tau beda rapid test ma swa \n",
      " virus corona kalah di taiwan dgn tanpa lockdown entah mereka percaya konspirasi elit global atau engga tapi satu negar \n",
      " aiman pun sempat tertawa saat menjelaskan konspirasi virus corona jerinx ajj gk tau beda rapid test ma swa \n",
      " virus corona kalah di taiwan dgn tanpa lockdown entah mereka percaya konspirasi elit global atau engga tapi satu negar \n",
      " hasil debat tudingan konspirasi corona erinx tidak percaya data covid 19 dari pemerintah dia hanya percaya pak jokowi \n",
      " virus corona kalah di taiwan dgn tanpa lockdown entah mereka percaya konspirasi elit global atau engga tapi satu negar \n",
      " virus corona kalah di taiwan dgn tanpa lockdown entah mereka percaya konspirasi elit global atau engga tapi satu negar \n",
      " virus corona kalah di taiwan dgn tanpa lockdown entah mereka percaya konspirasi elit global atau engga tapi satu negar \n",
      " virus corona kalah di taiwan dgn tanpa lockdown entah mereka percaya konspirasi elit global atau engga tapi satu negar \n",
      " aiman pun sempat tertawa saat menjelaskan konspirasi virus corona jerinx ajj gk tau beda rapid test ma swa \n",
      " hasil debat tudingan konspirasi corona erinx tidak percaya data covid 19 dari pemerintah dia hanya percaya pak jokowi \n",
      " virus corona kalah di taiwan dgn tanpa lockdown entah mereka percaya konspirasi elit global atau engga tapi satu negar \n",
      " aiman pun sempat tertawa saat menjelaskan konspirasi virus corona jerinx ajj gk tau beda rapid test ma swa \n",
      " aiman pun sempat tertawa saat menjelaskan konspirasi virus corona jerinx ajj gk tau beda rapid test ma swa \n",
      " aiman pun sempat tertawa saat menjelaskan konspirasi virus corona jerinx ajj gk tau beda rapid test ma swa \n",
      " virus corona kalah di taiwan dgn tanpa lockdown entah mereka percaya konspirasi elit global atau engga tapi satu negar \n",
      " virus corona kalah di taiwan dgn tanpa lockdown entah mereka percaya konspirasi elit global atau engga tapi satu negar \n",
      " teori konspirasi wabah covid 19 sulit dibantah setelah sebelumnya seorang peneliti berke \n",
      " hasil debat tudingan konspirasi corona erinx tidak percaya data covid 19 dari pemerintah dia hanya percaya pak jokowi \n",
      " virus corona kalah di taiwan dgn tanpa lockdown entah mereka percaya konspirasi elit global atau engga tapi satu negar \n",
      " hasil debat tudingan konspirasi corona erinx tidak percaya data covid 19 dari pemerintah dia hanya percaya pak jokowi \n",
      " hasil debat tudingan konspirasi corona erinx tidak percaya data covid 19 dari pemerintah dia hanya percaya pak jokowi \n",
      "pendukung teori konspirasi ini sumpah nyebelin data apa dari youtube artikel2 yg gak jelas sumber penelitiannya \n",
      " china pinter banget buat konspirasi dunia dengan membuat viru corona yg sangat mematikan d \n",
      " aiman pun sempat tertawa saat menjelaskan konspirasi virus corona jerinx ajj gk tau beda rapid test ma swa \n"
     ]
    },
    {
     "name": "stdout",
     "output_type": "stream",
     "text": [
      " hasil debat tudingan konspirasi corona erinx tidak percaya data covid 19 dari pemerintah dia hanya percaya pak jokowi \n",
      " aiman pun sempat tertawa saat menjelaskan konspirasi virus corona jerinx ajj gk tau beda rapid test ma swa \n",
      " virus corona kalah di taiwan dgn tanpa lockdown entah mereka percaya konspirasi elit global atau engga tapi satu negar \n",
      " aiman pun sempat tertawa saat menjelaskan konspirasi virus corona jerinx ajj gk tau beda rapid test ma swa \n",
      " virus corona kalah di taiwan dgn tanpa lockdown entah mereka percaya konspirasi elit global atau engga tapi satu negar \n",
      " aiman pun sempat tertawa saat menjelaskan konspirasi virus corona jerinx ajj gk tau beda rapid test ma swa \n",
      " aiman pun sempat tertawa saat menjelaskan konspirasi virus corona jerinx ajj gk tau beda rapid test ma swa \n",
      " virus corona kalah di taiwan dgn tanpa lockdown entah mereka percaya konspirasi elit global atau engga tapi satu negar \n",
      " aiman pun sempat tertawa saat menjelaskan konspirasi virus corona jerinx ajj gk tau beda rapid test ma swa \n",
      " aiman pun sempat tertawa saat menjelaskan konspirasi virus corona jerinx ajj gk tau beda rapid test ma swa \n",
      " awalnya yg bikin diprotes tuh blinjer bilang corona gak berbahaya jelas itu salah meng \n",
      " aiman pun sempat tertawa saat menjelaskan konspirasi virus corona jerinx ajj gk tau beda rapid test ma swa \n",
      " soal e momen e mas ketika dia ngomongin ini corona konspirasi pas udah selesai besok ga masalah tp k \n",
      " aiman pun sempat tertawa saat menjelaskan konspirasi virus corona jerinx ajj gk tau beda rapid test ma swa \n",
      " aiman pun sempat tertawa saat menjelaskan konspirasi virus corona jerinx ajj gk tau beda rapid test ma swa \n",
      " virus corona kalah di taiwan dgn tanpa lockdown entah mereka percaya konspirasi elit global atau engga tapi satu negar \n",
      " aiman pun sempat tertawa saat menjelaskan konspirasi virus corona jerinx ajj gk tau beda rapid test ma swa \n",
      " aiman pun sempat tertawa saat menjelaskan konspirasi virus corona jerinx ajj gk tau beda rapid test ma swa \n",
      " aiman pun sempat tertawa saat menjelaskan konspirasi virus corona jerinx ajj gk tau beda rapid test ma swa \n",
      " aiman pun sempat tertawa saat menjelaskan konspirasi virus corona jerinx ajj gk tau beda rapid test ma swa \n",
      " aiman pun sempat tertawa saat menjelaskan konspirasi virus corona jerinx ajj gk tau beda rapid test ma swa \n",
      " aiman pun sempat tertawa saat menjelaskan konspirasi virus corona jerinx ajj gk tau beda rapid test ma swa \n",
      " aiman pun sempat tertawa saat menjelaskan konspirasi virus corona jerinx ajj gk tau beda rapid test ma swa \n",
      "hasil debat tudingan konspirasi corona erinx tidak percaya data covid 19 dari pemerintah dia hanya percaya pa \n",
      " virus corona kalah di taiwan dgn tanpa lockdown entah mereka percaya konspirasi elit global atau engga tapi satu negar \n",
      " aiman pun sempat tertawa saat menjelaskan konspirasi virus corona jerinx ajj gk tau beda rapid test ma swa \n",
      " aiman pun sempat tertawa saat menjelaskan konspirasi virus corona jerinx ajj gk tau beda rapid test ma swa \n",
      " virus corona kalah di taiwan dgn tanpa lockdown entah mereka percaya konspirasi elit global atau engga tapi satu negar \n",
      " aiman pun sempat tertawa saat menjelaskan konspirasi virus corona jerinx ajj gk tau beda rapid test ma swa \n",
      " virus corona kalah di taiwan dgn tanpa lockdown entah mereka percaya konspirasi elit global atau engga tapi satu negar \n",
      " aiman pun sempat tertawa saat menjelaskan konspirasi virus corona jerinx ajj gk tau beda rapid test ma swa \n",
      " virus corona kalah di taiwan dgn tanpa lockdown entah mereka percaya konspirasi elit global atau engga tapi satu negar \n",
      " virus corona kalah di taiwan dgn tanpa lockdown entah mereka percaya konspirasi elit global atau engga tapi satu negar \n",
      " aiman pun sempat tertawa saat menjelaskan konspirasi virus corona jerinx ajj gk tau beda rapid test ma swa \n",
      " aiman pun sempat tertawa saat menjelaskan konspirasi virus corona jerinx ajj gk tau beda rapid test ma swa \n",
      " aiman pun sempat tertawa saat menjelaskan konspirasi virus corona jerinx ajj gk tau beda rapid test ma swa \n",
      "aiman pun sempat tertawa saat menjelaskan konspirasi virus corona jerinx ajj gk tau beda rapid test m \n",
      " virus corona kalah di taiwan dgn tanpa lockdown entah mereka percaya konspirasi elit global atau engga tapi satu negar \n",
      " virus corona kalah di taiwan dgn tanpa lockdown entah mereka percaya konspirasi elit global atau engga tapi satu negar \n",
      " virus corona kalah di taiwan dgn tanpa lockdown entah mereka percaya konspirasi elit global atau engga tapi satu negar \n",
      " virus corona kalah di taiwan dgn tanpa lockdown entah mereka percaya konspirasi elit global atau engga tapi satu negar \n",
      " virus corona kalah di taiwan dgn tanpa lockdown entah mereka percaya konspirasi elit global atau engga tapi satu negar \n",
      "topik covid itu sendiri udah mulai ilang alhasil nyari topik lain lhah mau corona konspirasi buatan lab di cina k \n",
      " virus corona kalah di taiwan dgn tanpa lockdown entah mereka percaya konspirasi elit global atau engga tapi satu negar \n",
      " virus corona kalah di taiwan dgn tanpa lockdown entah mereka percaya konspirasi elit global atau engga tapi satu negar \n",
      " virus corona kalah di taiwan dgn tanpa lockdown entah mereka percaya konspirasi elit global atau engga tapi satu negar \n",
      " virus corona kalah di taiwan dgn tanpa lockdown entah mereka percaya konspirasi elit global atau engga tapi satu negar \n",
      " virus corona kalah di taiwan dgn tanpa lockdown entah mereka percaya konspirasi elit global atau engga tapi satu negar \n",
      " virus corona kalah di taiwan dgn tanpa lockdown entah mereka percaya konspirasi elit global atau engga tapi satu negar \n",
      " virus corona kalah di taiwan dgn tanpa lockdown entah mereka percaya konspirasi elit global atau engga tapi satu negar \n",
      " virus corona kalah di taiwan dgn tanpa lockdown entah mereka percaya konspirasi elit global atau engga tapi satu negar \n",
      " virus corona kalah di taiwan dgn tanpa lockdown entah mereka percaya konspirasi elit global atau engga tapi satu negar \n",
      " virus corona kalah di taiwan dgn tanpa lockdown entah mereka percaya konspirasi elit global atau engga tapi satu negar \n",
      " virus corona kalah di taiwan dgn tanpa lockdown entah mereka percaya konspirasi elit global atau engga tapi satu negar \n",
      " virus corona kalah di taiwan dgn tanpa lockdown entah mereka percaya konspirasi elit global atau engga tapi satu negar \n",
      " virus corona kalah di taiwan dgn tanpa lockdown entah mereka percaya konspirasi elit global atau engga tapi satu negar \n",
      " virus corona kalah di taiwan dgn tanpa lockdown entah mereka percaya konspirasi elit global atau engga tapi satu negar \n",
      " virus corona kalah di taiwan dgn tanpa lockdown entah mereka percaya konspirasi elit global atau engga tapi satu negar \n",
      " virus corona kalah di taiwan dgn tanpa lockdown entah mereka percaya konspirasi elit global atau engga tapi satu negar \n",
      " virus corona kalah di taiwan dgn tanpa lockdown entah mereka percaya konspirasi elit global atau engga tapi satu negar \n",
      " virus corona kalah di taiwan dgn tanpa lockdown entah mereka percaya konspirasi elit global atau engga tapi satu negar \n",
      " virus corona kalah di taiwan dgn tanpa lockdown entah mereka percaya konspirasi elit global atau engga tapi satu negar \n",
      " virus corona kalah di taiwan dgn tanpa lockdown entah mereka percaya konspirasi elit global atau engga tapi satu negar \n",
      " virus corona kalah di taiwan dgn tanpa lockdown entah mereka percaya konspirasi elit global atau engga tapi satu negar \n",
      " virus corona kalah di taiwan dgn tanpa lockdown entah mereka percaya konspirasi elit global atau engga tapi satu negar \n",
      " virus corona kalah di taiwan dgn tanpa lockdown entah mereka percaya konspirasi elit global atau engga tapi satu negar \n",
      " virus corona kalah di taiwan dgn tanpa lockdown entah mereka percaya konspirasi elit global atau engga tapi satu negar \n",
      " virus corona kalah di taiwan dgn tanpa lockdown entah mereka percaya konspirasi elit global atau engga tapi satu negar \n",
      " virus corona kalah di taiwan dgn tanpa lockdown entah mereka percaya konspirasi elit global atau engga tapi satu negar \n",
      " virus corona kalah di taiwan dgn tanpa lockdown entah mereka percaya konspirasi elit global atau engga tapi satu negar \n",
      " virus corona kalah di taiwan dgn tanpa lockdown entah mereka percaya konspirasi elit global atau engga tapi satu negar \n",
      " virus corona kalah di taiwan dgn tanpa lockdown entah mereka percaya konspirasi elit global atau engga tapi satu negar \n",
      " virus corona kalah di taiwan dgn tanpa lockdown entah mereka percaya konspirasi elit global atau engga tapi satu negar \n",
      " virus corona kalah di taiwan dgn tanpa lockdown entah mereka percaya konspirasi elit global atau engga tapi satu negar \n",
      " virus corona kalah di taiwan dgn tanpa lockdown entah mereka percaya konspirasi elit global atau engga tapi satu negar \n"
     ]
    },
    {
     "name": "stdout",
     "output_type": "stream",
     "text": [
      " virus corona kalah di taiwan dgn tanpa lockdown entah mereka percaya konspirasi elit global atau engga tapi satu negar \n",
      " virus corona kalah di taiwan dgn tanpa lockdown entah mereka percaya konspirasi elit global atau engga tapi satu negar \n",
      " virus corona kalah di taiwan dgn tanpa lockdown entah mereka percaya konspirasi elit global atau engga tapi satu negar \n",
      " virus corona kalah di taiwan dgn tanpa lockdown entah mereka percaya konspirasi elit global atau engga tapi satu negar \n",
      " virus corona kalah di taiwan dgn tanpa lockdown entah mereka percaya konspirasi elit global atau engga tapi satu negar \n",
      " virus corona kalah di taiwan dgn tanpa lockdown entah mereka percaya konspirasi elit global atau engga tapi satu negar \n",
      " virus corona kalah di taiwan dgn tanpa lockdown entah mereka percaya konspirasi elit global atau engga tapi satu negar \n",
      " virus corona kalah di taiwan dgn tanpa lockdown entah mereka percaya konspirasi elit global atau engga tapi satu negar \n",
      " virus corona kalah di taiwan dgn tanpa lockdown entah mereka percaya konspirasi elit global atau engga tapi satu negar \n",
      " virus corona kalah di taiwan dgn tanpa lockdown entah mereka percaya konspirasi elit global atau engga tapi satu negar \n",
      " virus corona kalah di taiwan dgn tanpa lockdown entah mereka percaya konspirasi elit global atau engga tapi satu negar \n",
      " virus corona kalah di taiwan dgn tanpa lockdown entah mereka percaya konspirasi elit global atau engga tapi satu negar \n",
      " virus corona kalah di taiwan dgn tanpa lockdown entah mereka percaya konspirasi elit global atau engga tapi satu negar \n",
      " virus corona kalah di taiwan dgn tanpa lockdown entah mereka percaya konspirasi elit global atau engga tapi satu negar \n",
      " virus corona kalah di taiwan dgn tanpa lockdown entah mereka percaya konspirasi elit global atau engga tapi satu negar \n",
      " virus corona kalah di taiwan dgn tanpa lockdown entah mereka percaya konspirasi elit global atau engga tapi satu negar \n",
      " virus corona kalah di taiwan dgn tanpa lockdown entah mereka percaya konspirasi elit global atau engga tapi satu negar \n",
      " virus corona kalah di taiwan dgn tanpa lockdown entah mereka percaya konspirasi elit global atau engga tapi satu negar \n",
      " virus corona kalah di taiwan dgn tanpa lockdown entah mereka percaya konspirasi elit global atau engga tapi satu negar \n",
      " virus corona kalah di taiwan dgn tanpa lockdown entah mereka percaya konspirasi elit global atau engga tapi satu negar \n",
      " virus corona kalah di taiwan dgn tanpa lockdown entah mereka percaya konspirasi elit global atau engga tapi satu negar \n",
      " virus corona kalah di taiwan dgn tanpa lockdown entah mereka percaya konspirasi elit global atau engga tapi satu negar \n",
      " virus corona kalah di taiwan dgn tanpa lockdown entah mereka percaya konspirasi elit global atau engga tapi satu negar \n",
      " virus corona kalah di taiwan dgn tanpa lockdown entah mereka percaya konspirasi elit global atau engga tapi satu negar \n",
      " virus corona kalah di taiwan dgn tanpa lockdown entah mereka percaya konspirasi elit global atau engga tapi satu negar \n",
      " virus corona kalah di taiwan dgn tanpa lockdown entah mereka percaya konspirasi elit global atau engga tapi satu negar \n",
      " virus corona kalah di taiwan dgn tanpa lockdown entah mereka percaya konspirasi elit global atau engga tapi satu negar \n",
      " virus corona kalah di taiwan dgn tanpa lockdown entah mereka percaya konspirasi elit global atau engga tapi satu negar \n",
      " virus corona kalah di taiwan dgn tanpa lockdown entah mereka percaya konspirasi elit global atau engga tapi satu negar \n",
      " virus corona kalah di taiwan dgn tanpa lockdown entah mereka percaya konspirasi elit global atau engga tapi satu negar \n",
      " virus corona kalah di taiwan dgn tanpa lockdown entah mereka percaya konspirasi elit global atau engga tapi satu negar \n",
      " virus corona kalah di taiwan dgn tanpa lockdown entah mereka percaya konspirasi elit global atau engga tapi satu negar \n",
      " virus corona kalah di taiwan dgn tanpa lockdown entah mereka percaya konspirasi elit global atau engga tapi satu negar \n",
      " virus corona kalah di taiwan dgn tanpa lockdown entah mereka percaya konspirasi elit global atau engga tapi satu negar \n",
      " virus corona kalah di taiwan dgn tanpa lockdown entah mereka percaya konspirasi elit global atau engga tapi satu negar \n",
      " virus corona kalah di taiwan dgn tanpa lockdown entah mereka percaya konspirasi elit global atau engga tapi satu negar \n",
      " virus corona kalah di taiwan dgn tanpa lockdown entah mereka percaya konspirasi elit global atau engga tapi satu negar \n",
      " virus corona kalah di taiwan dgn tanpa lockdown entah mereka percaya konspirasi elit global atau engga tapi satu negar \n",
      " virus corona kalah di taiwan dgn tanpa lockdown entah mereka percaya konspirasi elit global atau engga tapi satu negar \n",
      " virus corona kalah di taiwan dgn tanpa lockdown entah mereka percaya konspirasi elit global atau engga tapi satu negar \n",
      " virus corona kalah di taiwan dgn tanpa lockdown entah mereka percaya konspirasi elit global atau engga tapi satu negar \n",
      " virus corona kalah di taiwan dgn tanpa lockdown entah mereka percaya konspirasi elit global atau engga tapi satu negar \n",
      " virus corona kalah di taiwan dgn tanpa lockdown entah mereka percaya konspirasi elit global atau engga tapi satu negar \n",
      " virus corona kalah di taiwan dgn tanpa lockdown entah mereka percaya konspirasi elit global atau engga tapi satu negar \n",
      " virus corona kalah di taiwan dgn tanpa lockdown entah mereka percaya konspirasi elit global atau engga tapi satu negar \n",
      "teori konspirasi menyerang bill gates yang gencar mendanai vaksin covid 19 \n",
      " virus corona kalah di taiwan dgn tanpa lockdown entah mereka percaya konspirasi elit global atau engga tapi satu negar \n",
      " virus corona kalah di taiwan dgn tanpa lockdown entah mereka percaya konspirasi elit global atau engga tapi satu negar \n",
      " virus corona kalah di taiwan dgn tanpa lockdown entah mereka percaya konspirasi elit global atau engga tapi satu negar \n",
      " virus corona kalah di taiwan dgn tanpa lockdown entah mereka percaya konspirasi elit global atau engga tapi satu negar \n",
      " virus corona kalah di taiwan dgn tanpa lockdown entah mereka percaya konspirasi elit global atau engga tapi satu negar \n",
      " virus corona kalah di taiwan dgn tanpa lockdown entah mereka percaya konspirasi elit global atau engga tapi satu negar \n",
      " virus corona kalah di taiwan dgn tanpa lockdown entah mereka percaya konspirasi elit global atau engga tapi satu negar \n",
      " virus corona kalah di taiwan dgn tanpa lockdown entah mereka percaya konspirasi elit global atau engga tapi satu negar \n",
      " virus corona kalah di taiwan dgn tanpa lockdown entah mereka percaya konspirasi elit global atau engga tapi satu negar \n",
      " virus corona kalah di taiwan dgn tanpa lockdown entah mereka percaya konspirasi elit global atau engga tapi satu negar \n",
      " virus corona kalah di taiwan dgn tanpa lockdown entah mereka percaya konspirasi elit global atau engga tapi satu negar \n",
      " virus corona kalah di taiwan dgn tanpa lockdown entah mereka percaya konspirasi elit global atau engga tapi satu negar \n",
      " virus corona kalah di taiwan dgn tanpa lockdown entah mereka percaya konspirasi elit global atau engga tapi satu negar \n",
      " virus corona kalah di taiwan dgn tanpa lockdown entah mereka percaya konspirasi elit global atau engga tapi satu negar \n",
      " virus corona kalah di taiwan dgn tanpa lockdown entah mereka percaya konspirasi elit global atau engga tapi satu negar \n",
      " virus corona kalah di taiwan dgn tanpa lockdown entah mereka percaya konspirasi elit global atau engga tapi satu negar \n",
      " virus corona kalah di taiwan dgn tanpa lockdown entah mereka percaya konspirasi elit global atau engga tapi satu negar \n",
      " virus corona kalah di taiwan dgn tanpa lockdown entah mereka percaya konspirasi elit global atau engga tapi satu negar \n",
      " virus corona kalah di taiwan dgn tanpa lockdown entah mereka percaya konspirasi elit global atau engga tapi satu negar \n",
      " virus corona kalah di taiwan dgn tanpa lockdown entah mereka percaya konspirasi elit global atau engga tapi satu negar \n",
      " virus corona kalah di taiwan dgn tanpa lockdown entah mereka percaya konspirasi elit global atau engga tapi satu negar \n",
      " virus corona kalah di taiwan dgn tanpa lockdown entah mereka percaya konspirasi elit global atau engga tapi satu negar \n",
      " virus corona kalah di taiwan dgn tanpa lockdown entah mereka percaya konspirasi elit global atau engga tapi satu negar \n",
      " virus corona kalah di taiwan dgn tanpa lockdown entah mereka percaya konspirasi elit global atau engga tapi satu negar \n",
      " virus corona kalah di taiwan dgn tanpa lockdown entah mereka percaya konspirasi elit global atau engga tapi satu negar \n",
      " virus corona kalah di taiwan dgn tanpa lockdown entah mereka percaya konspirasi elit global atau engga tapi satu negar \n",
      " virus corona kalah di taiwan dgn tanpa lockdown entah mereka percaya konspirasi elit global atau engga tapi satu negar \n",
      " virus corona kalah di taiwan dgn tanpa lockdown entah mereka percaya konspirasi elit global atau engga tapi satu negar \n",
      " virus corona kalah di taiwan dgn tanpa lockdown entah mereka percaya konspirasi elit global atau engga tapi satu negar \n"
     ]
    },
    {
     "name": "stdout",
     "output_type": "stream",
     "text": [
      " virus corona kalah di taiwan dgn tanpa lockdown entah mereka percaya konspirasi elit global atau engga tapi satu negar \n",
      " virus corona kalah di taiwan dgn tanpa lockdown entah mereka percaya konspirasi elit global atau engga tapi satu negar \n",
      " virus corona kalah di taiwan dgn tanpa lockdown entah mereka percaya konspirasi elit global atau engga tapi satu negar \n",
      " virus corona kalah di taiwan dgn tanpa lockdown entah mereka percaya konspirasi elit global atau engga tapi satu negar \n",
      " virus corona kalah di taiwan dgn tanpa lockdown entah mereka percaya konspirasi elit global atau engga tapi satu negar \n",
      " virus corona kalah di taiwan dgn tanpa lockdown entah mereka percaya konspirasi elit global atau engga tapi satu negar \n",
      " virus corona kalah di taiwan dgn tanpa lockdown entah mereka percaya konspirasi elit global atau engga tapi satu negar \n",
      " virus corona kalah di taiwan dgn tanpa lockdown entah mereka percaya konspirasi elit global atau engga tapi satu negar \n",
      " virus corona kalah di taiwan dgn tanpa lockdown entah mereka percaya konspirasi elit global atau engga tapi satu negar \n",
      " virus corona kalah di taiwan dgn tanpa lockdown entah mereka percaya konspirasi elit global atau engga tapi satu negar \n",
      " virus corona kalah di taiwan dgn tanpa lockdown entah mereka percaya konspirasi elit global atau engga tapi satu negar \n",
      " virus corona kalah di taiwan dgn tanpa lockdown entah mereka percaya konspirasi elit global atau engga tapi satu negar \n",
      " virus corona kalah di taiwan dgn tanpa lockdown entah mereka percaya konspirasi elit global atau engga tapi satu negar \n",
      " virus corona kalah di taiwan dgn tanpa lockdown entah mereka percaya konspirasi elit global atau engga tapi satu negar \n",
      " virus corona kalah di taiwan dgn tanpa lockdown entah mereka percaya konspirasi elit global atau engga tapi satu negar \n",
      " virus corona kalah di taiwan dgn tanpa lockdown entah mereka percaya konspirasi elit global atau engga tapi satu negar \n",
      " virus corona kalah di taiwan dgn tanpa lockdown entah mereka percaya konspirasi elit global atau engga tapi satu negar \n",
      " virus corona kalah di taiwan dgn tanpa lockdown entah mereka percaya konspirasi elit global atau engga tapi satu negar \n",
      " virus corona kalah di taiwan dgn tanpa lockdown entah mereka percaya konspirasi elit global atau engga tapi satu negar \n",
      " virus corona kalah di taiwan dgn tanpa lockdown entah mereka percaya konspirasi elit global atau engga tapi satu negar \n",
      " virus corona kalah di taiwan dgn tanpa lockdown entah mereka percaya konspirasi elit global atau engga tapi satu negar \n",
      " virus corona kalah di taiwan dgn tanpa lockdown entah mereka percaya konspirasi elit global atau engga tapi satu negar \n",
      " virus corona kalah di taiwan dgn tanpa lockdown entah mereka percaya konspirasi elit global atau engga tapi satu negar \n",
      " virus corona kalah di taiwan dgn tanpa lockdown entah mereka percaya konspirasi elit global atau engga tapi satu negar \n",
      "stop propaganda konstipasi ehhh konspirasi jawaban untuk apakah virus corona covid 19 berasal dari amerika seri \n",
      " virus corona kalah di taiwan dgn tanpa lockdown entah mereka percaya konspirasi elit global atau engga tapi satu negar \n",
      " virus corona kalah di taiwan dgn tanpa lockdown entah mereka percaya konspirasi elit global atau engga tapi satu negar \n",
      " virus corona kalah di taiwan dgn tanpa lockdown entah mereka percaya konspirasi elit global atau engga tapi satu negar \n",
      " virus corona kalah di taiwan dgn tanpa lockdown entah mereka percaya konspirasi elit global atau engga tapi satu negar \n",
      " virus corona kalah di taiwan dgn tanpa lockdown entah mereka percaya konspirasi elit global atau engga tapi satu negar \n",
      " virus corona kalah di taiwan dgn tanpa lockdown entah mereka percaya konspirasi elit global atau engga tapi satu negar \n",
      " virus corona kalah di taiwan dgn tanpa lockdown entah mereka percaya konspirasi elit global atau engga tapi satu negar \n",
      " virus corona kalah di taiwan dgn tanpa lockdown entah mereka percaya konspirasi elit global atau engga tapi satu negar \n",
      " virus corona kalah di taiwan dgn tanpa lockdown entah mereka percaya konspirasi elit global atau engga tapi satu negar \n",
      " virus corona kalah di taiwan dgn tanpa lockdown entah mereka percaya konspirasi elit global atau engga tapi satu negar \n",
      " virus corona kalah di taiwan dgn tanpa lockdown entah mereka percaya konspirasi elit global atau engga tapi satu negar \n",
      " virus corona kalah di taiwan dgn tanpa lockdown entah mereka percaya konspirasi elit global atau engga tapi satu negar \n",
      " virus corona kalah di taiwan dgn tanpa lockdown entah mereka percaya konspirasi elit global atau engga tapi satu negar \n",
      " virus corona kalah di taiwan dgn tanpa lockdown entah mereka percaya konspirasi elit global atau engga tapi satu negar \n",
      " virus corona kalah di taiwan dgn tanpa lockdown entah mereka percaya konspirasi elit global atau engga tapi satu negar \n",
      " virus corona kalah di taiwan dgn tanpa lockdown entah mereka percaya konspirasi elit global atau engga tapi satu negar \n",
      " virus corona kalah di taiwan dgn tanpa lockdown entah mereka percaya konspirasi elit global atau engga tapi satu negar \n",
      " virus corona kalah di taiwan dgn tanpa lockdown entah mereka percaya konspirasi elit global atau engga tapi satu negar \n",
      " virus corona kalah di taiwan dgn tanpa lockdown entah mereka percaya konspirasi elit global atau engga tapi satu negar \n",
      " virus corona kalah di taiwan dgn tanpa lockdown entah mereka percaya konspirasi elit global atau engga tapi satu negar \n",
      " virus corona kalah di taiwan dgn tanpa lockdown entah mereka percaya konspirasi elit global atau engga tapi satu negar \n",
      " virus corona kalah di taiwan dgn tanpa lockdown entah mereka percaya konspirasi elit global atau engga tapi satu negar \n",
      " virus corona kalah di taiwan dgn tanpa lockdown entah mereka percaya konspirasi elit global atau engga tapi satu negar \n",
      " virus corona kalah di taiwan dgn tanpa lockdown entah mereka percaya konspirasi elit global atau engga tapi satu negar \n",
      " virus corona kalah di taiwan dgn tanpa lockdown entah mereka percaya konspirasi elit global atau engga tapi satu negar \n",
      " virus corona kalah di taiwan dgn tanpa lockdown entah mereka percaya konspirasi elit global atau engga tapi satu negar \n",
      " virus corona kalah di taiwan dgn tanpa lockdown entah mereka percaya konspirasi elit global atau engga tapi satu negar \n",
      " virus corona kalah di taiwan dgn tanpa lockdown entah mereka percaya konspirasi elit global atau engga tapi satu negar \n",
      " virus corona kalah di taiwan dgn tanpa lockdown entah mereka percaya konspirasi elit global atau engga tapi satu negar \n",
      " virus corona kalah di taiwan dgn tanpa lockdown entah mereka percaya konspirasi elit global atau engga tapi satu negar \n",
      " virus corona kalah di taiwan dgn tanpa lockdown entah mereka percaya konspirasi elit global atau engga tapi satu negar \n",
      " virus corona kalah di taiwan dgn tanpa lockdown entah mereka percaya konspirasi elit global atau engga tapi satu negar \n",
      " virus corona kalah di taiwan dgn tanpa lockdown entah mereka percaya konspirasi elit global atau engga tapi satu negar \n",
      " virus corona kalah di taiwan dgn tanpa lockdown entah mereka percaya konspirasi elit global atau engga tapi satu negar \n",
      " virus corona kalah di taiwan dgn tanpa lockdown entah mereka percaya konspirasi elit global atau engga tapi satu negar \n",
      " virus corona kalah di taiwan dgn tanpa lockdown entah mereka percaya konspirasi elit global atau engga tapi satu negar \n",
      " virus corona kalah di taiwan dgn tanpa lockdown entah mereka percaya konspirasi elit global atau engga tapi satu negar \n",
      " virus corona kalah di taiwan dgn tanpa lockdown entah mereka percaya konspirasi elit global atau engga tapi satu negar \n",
      " virus corona kalah di taiwan dgn tanpa lockdown entah mereka percaya konspirasi elit global atau engga tapi satu negar \n",
      " virus corona kalah di taiwan dgn tanpa lockdown entah mereka percaya konspirasi elit global atau engga tapi satu negar \n",
      " virus corona kalah di taiwan dgn tanpa lockdown entah mereka percaya konspirasi elit global atau engga tapi satu negar \n",
      " virus corona kalah di taiwan dgn tanpa lockdown entah mereka percaya konspirasi elit global atau engga tapi satu negar \n",
      " virus corona kalah di taiwan dgn tanpa lockdown entah mereka percaya konspirasi elit global atau engga tapi satu negar \n",
      " virus corona kalah di taiwan dgn tanpa lockdown entah mereka percaya konspirasi elit global atau engga tapi satu negar \n",
      " virus corona kalah di taiwan dgn tanpa lockdown entah mereka percaya konspirasi elit global atau engga tapi satu negar \n",
      " virus corona kalah di taiwan dgn tanpa lockdown entah mereka percaya konspirasi elit global atau engga tapi satu negar \n",
      " virus corona kalah di taiwan dgn tanpa lockdown entah mereka percaya konspirasi elit global atau engga tapi satu negar \n",
      " virus corona kalah di taiwan dgn tanpa lockdown entah mereka percaya konspirasi elit global atau engga tapi satu negar \n",
      " virus corona kalah di taiwan dgn tanpa lockdown entah mereka percaya konspirasi elit global atau engga tapi satu negar \n",
      " virus corona kalah di taiwan dgn tanpa lockdown entah mereka percaya konspirasi elit global atau engga tapi satu negar \n"
     ]
    },
    {
     "name": "stdout",
     "output_type": "stream",
     "text": [
      " virus corona kalah di taiwan dgn tanpa lockdown entah mereka percaya konspirasi elit global atau engga tapi satu negar \n",
      " virus corona kalah di taiwan dgn tanpa lockdown entah mereka percaya konspirasi elit global atau engga tapi satu negar \n",
      " virus corona kalah di taiwan dgn tanpa lockdown entah mereka percaya konspirasi elit global atau engga tapi satu negar \n",
      " virus corona kalah di taiwan dgn tanpa lockdown entah mereka percaya konspirasi elit global atau engga tapi satu negar \n",
      " virus corona kalah di taiwan dgn tanpa lockdown entah mereka percaya konspirasi elit global atau engga tapi satu negar \n",
      " virus corona kalah di taiwan dgn tanpa lockdown entah mereka percaya konspirasi elit global atau engga tapi satu negar \n",
      " virus corona kalah di taiwan dgn tanpa lockdown entah mereka percaya konspirasi elit global atau engga tapi satu negar \n",
      " virus corona kalah di taiwan dgn tanpa lockdown entah mereka percaya konspirasi elit global atau engga tapi satu negar \n",
      " virus corona kalah di taiwan dgn tanpa lockdown entah mereka percaya konspirasi elit global atau engga tapi satu negar \n",
      " virus corona kalah di taiwan dgn tanpa lockdown entah mereka percaya konspirasi elit global atau engga tapi satu negar \n",
      " virus corona kalah di taiwan dgn tanpa lockdown entah mereka percaya konspirasi elit global atau engga tapi satu negar \n",
      " virus corona kalah di taiwan dgn tanpa lockdown entah mereka percaya konspirasi elit global atau engga tapi satu negar \n",
      " virus corona kalah di taiwan dgn tanpa lockdown entah mereka percaya konspirasi elit global atau engga tapi satu negar \n",
      " virus corona kalah di taiwan dgn tanpa lockdown entah mereka percaya konspirasi elit global atau engga tapi satu negar \n",
      " virus corona kalah di taiwan dgn tanpa lockdown entah mereka percaya konspirasi elit global atau engga tapi satu negar \n",
      " virus corona kalah di taiwan dgn tanpa lockdown entah mereka percaya konspirasi elit global atau engga tapi satu negar \n",
      " virus corona kalah di taiwan dgn tanpa lockdown entah mereka percaya konspirasi elit global atau engga tapi satu negar \n",
      " virus corona kalah di taiwan dgn tanpa lockdown entah mereka percaya konspirasi elit global atau engga tapi satu negar \n",
      " virus corona kalah di taiwan dgn tanpa lockdown entah mereka percaya konspirasi elit global atau engga tapi satu negar \n",
      " virus corona kalah di taiwan dgn tanpa lockdown entah mereka percaya konspirasi elit global atau engga tapi satu negar \n",
      " virus corona kalah di taiwan dgn tanpa lockdown entah mereka percaya konspirasi elit global atau engga tapi satu negar \n",
      " virus corona kalah di taiwan dgn tanpa lockdown entah mereka percaya konspirasi elit global atau engga tapi satu negar \n",
      " virus corona kalah di taiwan dgn tanpa lockdown entah mereka percaya konspirasi elit global atau engga tapi satu negar \n",
      " virus corona kalah di taiwan dgn tanpa lockdown entah mereka percaya konspirasi elit global atau engga tapi satu negar \n",
      " virus corona kalah di taiwan dgn tanpa lockdown entah mereka percaya konspirasi elit global atau engga tapi satu negar \n",
      " virus corona kalah di taiwan dgn tanpa lockdown entah mereka percaya konspirasi elit global atau engga tapi satu negar \n",
      " virus corona kalah di taiwan dgn tanpa lockdown entah mereka percaya konspirasi elit global atau engga tapi satu negar \n",
      " virus corona kalah di taiwan dgn tanpa lockdown entah mereka percaya konspirasi elit global atau engga tapi satu negar \n",
      " virus corona kalah di taiwan dgn tanpa lockdown entah mereka percaya konspirasi elit global atau engga tapi satu negar \n",
      " virus corona kalah di taiwan dgn tanpa lockdown entah mereka percaya konspirasi elit global atau engga tapi satu negar \n",
      " virus corona kalah di taiwan dgn tanpa lockdown entah mereka percaya konspirasi elit global atau engga tapi satu negar \n",
      " virus corona kalah di taiwan dgn tanpa lockdown entah mereka percaya konspirasi elit global atau engga tapi satu negar \n",
      " virus corona kalah di taiwan dgn tanpa lockdown entah mereka percaya konspirasi elit global atau engga tapi satu negar \n",
      " virus corona kalah di taiwan dgn tanpa lockdown entah mereka percaya konspirasi elit global atau engga tapi satu negar \n",
      " virus corona kalah di taiwan dgn tanpa lockdown entah mereka percaya konspirasi elit global atau engga tapi satu negar \n",
      " virus corona kalah di taiwan dgn tanpa lockdown entah mereka percaya konspirasi elit global atau engga tapi satu negar \n",
      " virus corona kalah di taiwan dgn tanpa lockdown entah mereka percaya konspirasi elit global atau engga tapi satu negar \n",
      " virus corona kalah di taiwan dgn tanpa lockdown entah mereka percaya konspirasi elit global atau engga tapi satu negar \n",
      " virus corona kalah di taiwan dgn tanpa lockdown entah mereka percaya konspirasi elit global atau engga tapi satu negar \n",
      " virus corona kalah di taiwan dgn tanpa lockdown entah mereka percaya konspirasi elit global atau engga tapi satu negar \n",
      " virus corona kalah di taiwan dgn tanpa lockdown entah mereka percaya konspirasi elit global atau engga tapi satu negar \n",
      " virus corona kalah di taiwan dgn tanpa lockdown entah mereka percaya konspirasi elit global atau engga tapi satu negar \n",
      " virus corona kalah di taiwan dgn tanpa lockdown entah mereka percaya konspirasi elit global atau engga tapi satu negar \n",
      " virus corona kalah di taiwan dgn tanpa lockdown entah mereka percaya konspirasi elit global atau engga tapi satu negar \n",
      " virus corona kalah di taiwan dgn tanpa lockdown entah mereka percaya konspirasi elit global atau engga tapi satu negar \n",
      " virus corona kalah di taiwan dgn tanpa lockdown entah mereka percaya konspirasi elit global atau engga tapi satu negar \n",
      " virus corona kalah di taiwan dgn tanpa lockdown entah mereka percaya konspirasi elit global atau engga tapi satu negar \n",
      " virus corona kalah di taiwan dgn tanpa lockdown entah mereka percaya konspirasi elit global atau engga tapi satu negar \n",
      " virus corona kalah di taiwan dgn tanpa lockdown entah mereka percaya konspirasi elit global atau engga tapi satu negar \n",
      " virus corona kalah di taiwan dgn tanpa lockdown entah mereka percaya konspirasi elit global atau engga tapi satu negar \n",
      " virus corona kalah di taiwan dgn tanpa lockdown entah mereka percaya konspirasi elit global atau engga tapi satu negar \n",
      " virus corona kalah di taiwan dgn tanpa lockdown entah mereka percaya konspirasi elit global atau engga tapi satu negar \n",
      " virus corona kalah di taiwan dgn tanpa lockdown entah mereka percaya konspirasi elit global atau engga tapi satu negar \n",
      " virus corona kalah di taiwan dgn tanpa lockdown entah mereka percaya konspirasi elit global atau engga tapi satu negar \n",
      " virus corona kalah di taiwan dgn tanpa lockdown entah mereka percaya konspirasi elit global atau engga tapi satu negar \n",
      " virus corona kalah di taiwan dgn tanpa lockdown entah mereka percaya konspirasi elit global atau engga tapi satu negar \n",
      " virus corona kalah di taiwan dgn tanpa lockdown entah mereka percaya konspirasi elit global atau engga tapi satu negar \n",
      " virus corona kalah di taiwan dgn tanpa lockdown entah mereka percaya konspirasi elit global atau engga tapi satu negar \n",
      " virus corona kalah di taiwan dgn tanpa lockdown entah mereka percaya konspirasi elit global atau engga tapi satu negar \n",
      " virus corona kalah di taiwan dgn tanpa lockdown entah mereka percaya konspirasi elit global atau engga tapi satu negar \n",
      " virus corona kalah di taiwan dgn tanpa lockdown entah mereka percaya konspirasi elit global atau engga tapi satu negar \n",
      " virus corona kalah di taiwan dgn tanpa lockdown entah mereka percaya konspirasi elit global atau engga tapi satu negar \n",
      " virus corona kalah di taiwan dgn tanpa lockdown entah mereka percaya konspirasi elit global atau engga tapi satu negar \n",
      " virus corona kalah di taiwan dgn tanpa lockdown entah mereka percaya konspirasi elit global atau engga tapi satu negar \n",
      " virus corona kalah di taiwan dgn tanpa lockdown entah mereka percaya konspirasi elit global atau engga tapi satu negar \n",
      " virus corona kalah di taiwan dgn tanpa lockdown entah mereka percaya konspirasi elit global atau engga tapi satu negar \n",
      " virus corona kalah di taiwan dgn tanpa lockdown entah mereka percaya konspirasi elit global atau engga tapi satu negar \n",
      " virus corona kalah di taiwan dgn tanpa lockdown entah mereka percaya konspirasi elit global atau engga tapi satu negar \n",
      " virus corona kalah di taiwan dgn tanpa lockdown entah mereka percaya konspirasi elit global atau engga tapi satu negar \n",
      " virus corona kalah di taiwan dgn tanpa lockdown entah mereka percaya konspirasi elit global atau engga tapi satu negar \n",
      " virus corona kalah di taiwan dgn tanpa lockdown entah mereka percaya konspirasi elit global atau engga tapi satu negar \n",
      " virus corona kalah di taiwan dgn tanpa lockdown entah mereka percaya konspirasi elit global atau engga tapi satu negar \n",
      " virus corona kalah di taiwan dgn tanpa lockdown entah mereka percaya konspirasi elit global atau engga tapi satu negar \n",
      " virus corona kalah di taiwan dgn tanpa lockdown entah mereka percaya konspirasi elit global atau engga tapi satu negar \n",
      " virus corona kalah di taiwan dgn tanpa lockdown entah mereka percaya konspirasi elit global atau engga tapi satu negar \n"
     ]
    },
    {
     "name": "stdout",
     "output_type": "stream",
     "text": [
      " virus corona kalah di taiwan dgn tanpa lockdown entah mereka percaya konspirasi elit global atau engga tapi satu negar \n",
      " virus corona kalah di taiwan dgn tanpa lockdown entah mereka percaya konspirasi elit global atau engga tapi satu negar \n",
      " virus corona kalah di taiwan dgn tanpa lockdown entah mereka percaya konspirasi elit global atau engga tapi satu negar \n",
      " virus corona kalah di taiwan dgn tanpa lockdown entah mereka percaya konspirasi elit global atau engga tapi satu negar \n",
      " virus corona kalah di taiwan dgn tanpa lockdown entah mereka percaya konspirasi elit global atau engga tapi satu negar \n",
      " virus corona kalah di taiwan dgn tanpa lockdown entah mereka percaya konspirasi elit global atau engga tapi satu negar \n",
      " virus corona kalah di taiwan dgn tanpa lockdown entah mereka percaya konspirasi elit global atau engga tapi satu negar \n",
      " virus corona kalah di taiwan dgn tanpa lockdown entah mereka percaya konspirasi elit global atau engga tapi satu negar \n",
      " virus corona kalah di taiwan dgn tanpa lockdown entah mereka percaya konspirasi elit global atau engga tapi satu negar \n",
      " virus corona kalah di taiwan dgn tanpa lockdown entah mereka percaya konspirasi elit global atau engga tapi satu negar \n",
      " virus corona kalah di taiwan dgn tanpa lockdown entah mereka percaya konspirasi elit global atau engga tapi satu negar \n",
      " virus corona kalah di taiwan dgn tanpa lockdown entah mereka percaya konspirasi elit global atau engga tapi satu negar \n",
      " virus corona kalah di taiwan dgn tanpa lockdown entah mereka percaya konspirasi elit global atau engga tapi satu negar \n",
      " virus corona kalah di taiwan dgn tanpa lockdown entah mereka percaya konspirasi elit global atau engga tapi satu negar \n",
      " virus corona kalah di taiwan dgn tanpa lockdown entah mereka percaya konspirasi elit global atau engga tapi satu negar \n",
      " virus corona kalah di taiwan dgn tanpa lockdown entah mereka percaya konspirasi elit global atau engga tapi satu negar \n",
      " virus corona kalah di taiwan dgn tanpa lockdown entah mereka percaya konspirasi elit global atau engga tapi satu negar \n",
      " virus corona kalah di taiwan dgn tanpa lockdown entah mereka percaya konspirasi elit global atau engga tapi satu negar \n",
      " virus corona kalah di taiwan dgn tanpa lockdown entah mereka percaya konspirasi elit global atau engga tapi satu negar \n",
      " virus corona kalah di taiwan dgn tanpa lockdown entah mereka percaya konspirasi elit global atau engga tapi satu negar \n",
      " virus corona kalah di taiwan dgn tanpa lockdown entah mereka percaya konspirasi elit global atau engga tapi satu negar \n",
      " virus corona kalah di taiwan dgn tanpa lockdown entah mereka percaya konspirasi elit global atau engga tapi satu negar \n",
      " virus corona kalah di taiwan dgn tanpa lockdown entah mereka percaya konspirasi elit global atau engga tapi satu negar \n",
      " virus corona kalah di taiwan dgn tanpa lockdown entah mereka percaya konspirasi elit global atau engga tapi satu negar \n",
      " virus corona kalah di taiwan dgn tanpa lockdown entah mereka percaya konspirasi elit global atau engga tapi satu negar \n",
      " virus corona kalah di taiwan dgn tanpa lockdown entah mereka percaya konspirasi elit global atau engga tapi satu negar \n",
      " virus corona kalah di taiwan dgn tanpa lockdown entah mereka percaya konspirasi elit global atau engga tapi satu negar \n",
      " virus corona kalah di taiwan dgn tanpa lockdown entah mereka percaya konspirasi elit global atau engga tapi satu negar \n",
      " virus corona kalah di taiwan dgn tanpa lockdown entah mereka percaya konspirasi elit global atau engga tapi satu negar \n",
      " virus corona kalah di taiwan dgn tanpa lockdown entah mereka percaya konspirasi elit global atau engga tapi satu negar \n",
      " virus corona kalah di taiwan dgn tanpa lockdown entah mereka percaya konspirasi elit global atau engga tapi satu negar \n",
      " virus corona kalah di taiwan dgn tanpa lockdown entah mereka percaya konspirasi elit global atau engga tapi satu negar \n",
      " virus corona kalah di taiwan dgn tanpa lockdown entah mereka percaya konspirasi elit global atau engga tapi satu negar \n",
      " virus corona kalah di taiwan dgn tanpa lockdown entah mereka percaya konspirasi elit global atau engga tapi satu negar \n",
      " virus corona kalah di taiwan dgn tanpa lockdown entah mereka percaya konspirasi elit global atau engga tapi satu negar \n",
      " virus corona kalah di taiwan dgn tanpa lockdown entah mereka percaya konspirasi elit global atau engga tapi satu negar \n",
      " virus corona kalah di taiwan dgn tanpa lockdown entah mereka percaya konspirasi elit global atau engga tapi satu negar \n",
      " virus corona kalah di taiwan dgn tanpa lockdown entah mereka percaya konspirasi elit global atau engga tapi satu negar \n",
      " virus corona kalah di taiwan dgn tanpa lockdown entah mereka percaya konspirasi elit global atau engga tapi satu negar \n",
      " virus corona kalah di taiwan dgn tanpa lockdown entah mereka percaya konspirasi elit global atau engga tapi satu negar \n",
      " virus corona kalah di taiwan dgn tanpa lockdown entah mereka percaya konspirasi elit global atau engga tapi satu negar \n",
      " virus corona kalah di taiwan dgn tanpa lockdown entah mereka percaya konspirasi elit global atau engga tapi satu negar \n",
      " virus corona kalah di taiwan dgn tanpa lockdown entah mereka percaya konspirasi elit global atau engga tapi satu negar \n",
      " virus corona kalah di taiwan dgn tanpa lockdown entah mereka percaya konspirasi elit global atau engga tapi satu negar \n",
      " virus corona kalah di taiwan dgn tanpa lockdown entah mereka percaya konspirasi elit global atau engga tapi satu negar \n",
      " virus corona kalah di taiwan dgn tanpa lockdown entah mereka percaya konspirasi elit global atau engga tapi satu negar \n",
      " a thread teori konspirasi virus corona covid 19 berasal dari pasar wuhan atau lab dekat pasar wuhan atau mungkin senja \n",
      " virus corona kalah di taiwan dgn tanpa lockdown entah mereka percaya konspirasi elit global atau engga tapi satu negar \n",
      " virus corona kalah di taiwan dgn tanpa lockdown entah mereka percaya konspirasi elit global atau engga tapi satu negar \n",
      " virus corona kalah di taiwan dgn tanpa lockdown entah mereka percaya konspirasi elit global atau engga tapi satu negar \n",
      " virus corona kalah di taiwan dgn tanpa lockdown entah mereka percaya konspirasi elit global atau engga tapi satu negar \n",
      " virus corona kalah di taiwan dgn tanpa lockdown entah mereka percaya konspirasi elit global atau engga tapi satu negar \n",
      " virus corona kalah di taiwan dgn tanpa lockdown entah mereka percaya konspirasi elit global atau engga tapi satu negar \n",
      " virus corona kalah di taiwan dgn tanpa lockdown entah mereka percaya konspirasi elit global atau engga tapi satu negar \n",
      " virus corona kalah di taiwan dgn tanpa lockdown entah mereka percaya konspirasi elit global atau engga tapi satu negar \n",
      " virus corona kalah di taiwan dgn tanpa lockdown entah mereka percaya konspirasi elit global atau engga tapi satu negar \n",
      " virus corona kalah di taiwan dgn tanpa lockdown entah mereka percaya konspirasi elit global atau engga tapi satu negar \n",
      " virus corona kalah di taiwan dgn tanpa lockdown entah mereka percaya konspirasi elit global atau engga tapi satu negar \n",
      " virus corona kalah di taiwan dgn tanpa lockdown entah mereka percaya konspirasi elit global atau engga tapi satu negar \n",
      " virus corona kalah di taiwan dgn tanpa lockdown entah mereka percaya konspirasi elit global atau engga tapi satu negar \n",
      " virus corona kalah di taiwan dgn tanpa lockdown entah mereka percaya konspirasi elit global atau engga tapi satu negar \n",
      " virus corona kalah di taiwan dgn tanpa lockdown entah mereka percaya konspirasi elit global atau engga tapi satu negar \n",
      " virus corona kalah di taiwan dgn tanpa lockdown entah mereka percaya konspirasi elit global atau engga tapi satu negar \n",
      " virus corona kalah di taiwan dgn tanpa lockdown entah mereka percaya konspirasi elit global atau engga tapi satu negar \n",
      " virus corona kalah di taiwan dgn tanpa lockdown entah mereka percaya konspirasi elit global atau engga tapi satu negar \n",
      " virus corona kalah di taiwan dgn tanpa lockdown entah mereka percaya konspirasi elit global atau engga tapi satu negar \n",
      " virus corona kalah di taiwan dgn tanpa lockdown entah mereka percaya konspirasi elit global atau engga tapi satu negar \n",
      " virus corona kalah di taiwan dgn tanpa lockdown entah mereka percaya konspirasi elit global atau engga tapi satu negar \n",
      " virus corona kalah di taiwan dgn tanpa lockdown entah mereka percaya konspirasi elit global atau engga tapi satu negar \n",
      " virus corona kalah di taiwan dgn tanpa lockdown entah mereka percaya konspirasi elit global atau engga tapi satu negar \n",
      "corona aording to their point of view is kaum ilmia penyakit menular yg bernama virus sars cov 2 covid 19 kri \n",
      " virus corona kalah di taiwan dgn tanpa lockdown entah mereka percaya konspirasi elit global atau engga tapi satu negar \n",
      " virus corona kalah di taiwan dgn tanpa lockdown entah mereka percaya konspirasi elit global atau engga tapi satu negar \n",
      " virus corona kalah di taiwan dgn tanpa lockdown entah mereka percaya konspirasi elit global atau engga tapi satu negar \n",
      " virus corona kalah di taiwan dgn tanpa lockdown entah mereka percaya konspirasi elit global atau engga tapi satu negar \n"
     ]
    },
    {
     "name": "stdout",
     "output_type": "stream",
     "text": [
      " virus corona kalah di taiwan dgn tanpa lockdown entah mereka percaya konspirasi elit global atau engga tapi satu negar \n",
      " virus corona kalah di taiwan dgn tanpa lockdown entah mereka percaya konspirasi elit global atau engga tapi satu negar \n",
      " virus corona kalah di taiwan dgn tanpa lockdown entah mereka percaya konspirasi elit global atau engga tapi satu negar \n",
      " virus corona kalah di taiwan dgn tanpa lockdown entah mereka percaya konspirasi elit global atau engga tapi satu negar \n",
      " virus corona kalah di taiwan dgn tanpa lockdown entah mereka percaya konspirasi elit global atau engga tapi satu negar \n",
      " virus corona kalah di taiwan dgn tanpa lockdown entah mereka percaya konspirasi elit global atau engga tapi satu negar \n",
      " virus corona kalah di taiwan dgn tanpa lockdown entah mereka percaya konspirasi elit global atau engga tapi satu negar \n",
      " virus corona kalah di taiwan dgn tanpa lockdown entah mereka percaya konspirasi elit global atau engga tapi satu negar \n",
      " virus corona kalah di taiwan dgn tanpa lockdown entah mereka percaya konspirasi elit global atau engga tapi satu negar \n",
      " virus corona kalah di taiwan dgn tanpa lockdown entah mereka percaya konspirasi elit global atau engga tapi satu negar \n",
      " virus corona kalah di taiwan dgn tanpa lockdown entah mereka percaya konspirasi elit global atau engga tapi satu negar \n",
      " virus corona kalah di taiwan dgn tanpa lockdown entah mereka percaya konspirasi elit global atau engga tapi satu negar \n",
      " virus corona kalah di taiwan dgn tanpa lockdown entah mereka percaya konspirasi elit global atau engga tapi satu negar \n",
      " virus corona kalah di taiwan dgn tanpa lockdown entah mereka percaya konspirasi elit global atau engga tapi satu negar \n",
      " virus corona kalah di taiwan dgn tanpa lockdown entah mereka percaya konspirasi elit global atau engga tapi satu negar \n",
      " virus corona kalah di taiwan dgn tanpa lockdown entah mereka percaya konspirasi elit global atau engga tapi satu negar \n",
      " virus corona kalah di taiwan dgn tanpa lockdown entah mereka percaya konspirasi elit global atau engga tapi satu negar \n",
      " virus corona kalah di taiwan dgn tanpa lockdown entah mereka percaya konspirasi elit global atau engga tapi satu negar \n",
      " virus corona kalah di taiwan dgn tanpa lockdown entah mereka percaya konspirasi elit global atau engga tapi satu negar \n",
      " virus corona kalah di taiwan dgn tanpa lockdown entah mereka percaya konspirasi elit global atau engga tapi satu negar \n",
      " sok konspirasi punya nggak rekaman kondisi pasien covid di rs dan cara perawata \n",
      " virus corona kalah di taiwan dgn tanpa lockdown entah mereka percaya konspirasi elit global atau engga tapi satu negar \n",
      " virus corona kalah di taiwan dgn tanpa lockdown entah mereka percaya konspirasi elit global atau engga tapi satu negar \n",
      " virus corona kalah di taiwan dgn tanpa lockdown entah mereka percaya konspirasi elit global atau engga tapi satu negar \n",
      " virus corona kalah di taiwan dgn tanpa lockdown entah mereka percaya konspirasi elit global atau engga tapi satu negar \n",
      " virus corona kalah di taiwan dgn tanpa lockdown entah mereka percaya konspirasi elit global atau engga tapi satu negar \n",
      " virus corona kalah di taiwan dgn tanpa lockdown entah mereka percaya konspirasi elit global atau engga tapi satu negar \n",
      " virus corona kalah di taiwan dgn tanpa lockdown entah mereka percaya konspirasi elit global atau engga tapi satu negar \n",
      " virus corona kalah di taiwan dgn tanpa lockdown entah mereka percaya konspirasi elit global atau engga tapi satu negar \n",
      " virus corona kalah di taiwan dgn tanpa lockdown entah mereka percaya konspirasi elit global atau engga tapi satu negar \n",
      " virus corona kalah di taiwan dgn tanpa lockdown entah mereka percaya konspirasi elit global atau engga tapi satu negar \n",
      " virus corona kalah di taiwan dgn tanpa lockdown entah mereka percaya konspirasi elit global atau engga tapi satu negar \n",
      " virus corona kalah di taiwan dgn tanpa lockdown entah mereka percaya konspirasi elit global atau engga tapi satu negar \n",
      " virus corona kalah di taiwan dgn tanpa lockdown entah mereka percaya konspirasi elit global atau engga tapi satu negar \n",
      " virus corona kalah di taiwan dgn tanpa lockdown entah mereka percaya konspirasi elit global atau engga tapi satu negar \n",
      " virus corona kalah di taiwan dgn tanpa lockdown entah mereka percaya konspirasi elit global atau engga tapi satu negar \n",
      " virus corona kalah di taiwan dgn tanpa lockdown entah mereka percaya konspirasi elit global atau engga tapi satu negar \n",
      " virus corona kalah di taiwan dgn tanpa lockdown entah mereka percaya konspirasi elit global atau engga tapi satu negar \n",
      " virus corona kalah di taiwan dgn tanpa lockdown entah mereka percaya konspirasi elit global atau engga tapi satu negar \n",
      " virus corona kalah di taiwan dgn tanpa lockdown entah mereka percaya konspirasi elit global atau engga tapi satu negar \n",
      " virus corona kalah di taiwan dgn tanpa lockdown entah mereka percaya konspirasi elit global atau engga tapi satu negar \n",
      " virus corona kalah di taiwan dgn tanpa lockdown entah mereka percaya konspirasi elit global atau engga tapi satu negar \n",
      " virus corona kalah di taiwan dgn tanpa lockdown entah mereka percaya konspirasi elit global atau engga tapi satu negar \n",
      " virus corona kalah di taiwan dgn tanpa lockdown entah mereka percaya konspirasi elit global atau engga tapi satu negar \n",
      " virus corona kalah di taiwan dgn tanpa lockdown entah mereka percaya konspirasi elit global atau engga tapi satu negar \n",
      " virus corona kalah di taiwan dgn tanpa lockdown entah mereka percaya konspirasi elit global atau engga tapi satu negar \n",
      " virus corona kalah di taiwan dgn tanpa lockdown entah mereka percaya konspirasi elit global atau engga tapi satu negar \n",
      " virus corona kalah di taiwan dgn tanpa lockdown entah mereka percaya konspirasi elit global atau engga tapi satu negar \n",
      " virus corona kalah di taiwan dgn tanpa lockdown entah mereka percaya konspirasi elit global atau engga tapi satu negar \n",
      " virus corona kalah di taiwan dgn tanpa lockdown entah mereka percaya konspirasi elit global atau engga tapi satu negar \n",
      " against the conspiracy bill gates dan corona assalamualaikum wr wb izinkan saya penulis menjelaskan beberapa hal men \n",
      " virus corona kalah di taiwan dgn tanpa lockdown entah mereka percaya konspirasi elit global atau engga tapi satu negar \n",
      " virus corona kalah di taiwan dgn tanpa lockdown entah mereka percaya konspirasi elit global atau engga tapi satu negar \n",
      " virus corona kalah di taiwan dgn tanpa lockdown entah mereka percaya konspirasi elit global atau engga tapi satu negar \n",
      " virus corona kalah di taiwan dgn tanpa lockdown entah mereka percaya konspirasi elit global atau engga tapi satu negar \n",
      " virus corona kalah di taiwan dgn tanpa lockdown entah mereka percaya konspirasi elit global atau engga tapi satu negar \n",
      "teori konspirasi covid 19 virus corona \n",
      " virus corona kalah di taiwan dgn tanpa lockdown entah mereka percaya konspirasi elit global atau engga tapi satu negar \n",
      " virus corona kalah di taiwan dgn tanpa lockdown entah mereka percaya konspirasi elit global atau engga tapi satu negar \n",
      " virus corona kalah di taiwan dgn tanpa lockdown entah mereka percaya konspirasi elit global atau engga tapi satu negar \n",
      " virus corona kalah di taiwan dgn tanpa lockdown entah mereka percaya konspirasi elit global atau engga tapi satu negar \n",
      " virus corona kalah di taiwan dgn tanpa lockdown entah mereka percaya konspirasi elit global atau engga tapi satu negar \n",
      " virus corona kalah di taiwan dgn tanpa lockdown entah mereka percaya konspirasi elit global atau engga tapi satu negar \n",
      " virus corona kalah di taiwan dgn tanpa lockdown entah mereka percaya konspirasi elit global atau engga tapi satu negar \n",
      " virus corona kalah di taiwan dgn tanpa lockdown entah mereka percaya konspirasi elit global atau engga tapi satu negar \n",
      " virus corona kalah di taiwan dgn tanpa lockdown entah mereka percaya konspirasi elit global atau engga tapi satu negar \n",
      "dan setelah baca baca teori konspirasi orang orang yg percaya bahwa corona itu ga bikin mati atau ga perlu ikut te \n",
      " virus corona kalah di taiwan dgn tanpa lockdown entah mereka percaya konspirasi elit global atau engga tapi satu negar \n",
      " virus corona kalah di taiwan dgn tanpa lockdown entah mereka percaya konspirasi elit global atau engga tapi satu negar \n",
      " virus corona kalah di taiwan dgn tanpa lockdown entah mereka percaya konspirasi elit global atau engga tapi satu negar \n",
      " virus corona kalah di taiwan dgn tanpa lockdown entah mereka percaya konspirasi elit global atau engga tapi satu negar \n",
      " virus corona kalah di taiwan dgn tanpa lockdown entah mereka percaya konspirasi elit global atau engga tapi satu negar \n",
      " virus corona kalah di taiwan dgn tanpa lockdown entah mereka percaya konspirasi elit global atau engga tapi satu negar \n",
      " virus corona kalah di taiwan dgn tanpa lockdown entah mereka percaya konspirasi elit global atau engga tapi satu negar \n",
      " virus corona kalah di taiwan dgn tanpa lockdown entah mereka percaya konspirasi elit global atau engga tapi satu negar \n"
     ]
    },
    {
     "name": "stdout",
     "output_type": "stream",
     "text": [
      " virus corona kalah di taiwan dgn tanpa lockdown entah mereka percaya konspirasi elit global atau engga tapi satu negar \n",
      " virus corona kalah di taiwan dgn tanpa lockdown entah mereka percaya konspirasi elit global atau engga tapi satu negar \n",
      " virus corona kalah di taiwan dgn tanpa lockdown entah mereka percaya konspirasi elit global atau engga tapi satu negar \n",
      " virus corona kalah di taiwan dgn tanpa lockdown entah mereka percaya konspirasi elit global atau engga tapi satu negar \n",
      " virus corona kalah di taiwan dgn tanpa lockdown entah mereka percaya konspirasi elit global atau engga tapi satu negar \n",
      " virus corona kalah di taiwan dgn tanpa lockdown entah mereka percaya konspirasi elit global atau engga tapi satu negar \n",
      " virus corona kalah di taiwan dgn tanpa lockdown entah mereka percaya konspirasi elit global atau engga tapi satu negar \n",
      " virus corona kalah di taiwan dgn tanpa lockdown entah mereka percaya konspirasi elit global atau engga tapi satu negar \n",
      " virus corona kalah di taiwan dgn tanpa lockdown entah mereka percaya konspirasi elit global atau engga tapi satu negar \n",
      " virus corona kalah di taiwan dgn tanpa lockdown entah mereka percaya konspirasi elit global atau engga tapi satu negar \n",
      " virus corona kalah di taiwan dgn tanpa lockdown entah mereka percaya konspirasi elit global atau engga tapi satu negar \n",
      " virus corona kalah di taiwan dgn tanpa lockdown entah mereka percaya konspirasi elit global atau engga tapi satu negar \n",
      " virus corona kalah di taiwan dgn tanpa lockdown entah mereka percaya konspirasi elit global atau engga tapi satu negar \n",
      " virus corona kalah di taiwan dgn tanpa lockdown entah mereka percaya konspirasi elit global atau engga tapi satu negar \n",
      " virus corona kalah di taiwan dgn tanpa lockdown entah mereka percaya konspirasi elit global atau engga tapi satu negar \n",
      " virus corona kalah di taiwan dgn tanpa lockdown entah mereka percaya konspirasi elit global atau engga tapi satu negar \n",
      " virus corona kalah di taiwan dgn tanpa lockdown entah mereka percaya konspirasi elit global atau engga tapi satu negar \n",
      " virus corona kalah di taiwan dgn tanpa lockdown entah mereka percaya konspirasi elit global atau engga tapi satu negar \n",
      " virus corona kalah di taiwan dgn tanpa lockdown entah mereka percaya konspirasi elit global atau engga tapi satu negar \n",
      " virus corona kalah di taiwan dgn tanpa lockdown entah mereka percaya konspirasi elit global atau engga tapi satu negar \n",
      " virus corona kalah di taiwan dgn tanpa lockdown entah mereka percaya konspirasi elit global atau engga tapi satu negar \n",
      " virus corona kalah di taiwan dgn tanpa lockdown entah mereka percaya konspirasi elit global atau engga tapi satu negar \n",
      " virus corona kalah di taiwan dgn tanpa lockdown entah mereka percaya konspirasi elit global atau engga tapi satu negar \n",
      " virus corona kalah di taiwan dgn tanpa lockdown entah mereka percaya konspirasi elit global atau engga tapi satu negar \n",
      " virus corona kalah di taiwan dgn tanpa lockdown entah mereka percaya konspirasi elit global atau engga tapi satu negar \n",
      " virus corona kalah di taiwan dgn tanpa lockdown entah mereka percaya konspirasi elit global atau engga tapi satu negar \n",
      " virus corona kalah di taiwan dgn tanpa lockdown entah mereka percaya konspirasi elit global atau engga tapi satu negar \n",
      " virus corona kalah di taiwan dgn tanpa lockdown entah mereka percaya konspirasi elit global atau engga tapi satu negar \n",
      " virus corona kalah di taiwan dgn tanpa lockdown entah mereka percaya konspirasi elit global atau engga tapi satu negar \n",
      " virus corona kalah di taiwan dgn tanpa lockdown entah mereka percaya konspirasi elit global atau engga tapi satu negar \n",
      " virus corona kalah di taiwan dgn tanpa lockdown entah mereka percaya konspirasi elit global atau engga tapi satu negar \n",
      " virus corona kalah di taiwan dgn tanpa lockdown entah mereka percaya konspirasi elit global atau engga tapi satu negar \n",
      " virus corona kalah di taiwan dgn tanpa lockdown entah mereka percaya konspirasi elit global atau engga tapi satu negar \n",
      " virus corona kalah di taiwan dgn tanpa lockdown entah mereka percaya konspirasi elit global atau engga tapi satu negar \n",
      " virus corona kalah di taiwan dgn tanpa lockdown entah mereka percaya konspirasi elit global atau engga tapi satu negar \n",
      " virus corona kalah di taiwan dgn tanpa lockdown entah mereka percaya konspirasi elit global atau engga tapi satu negar \n",
      " virus corona kalah di taiwan dgn tanpa lockdown entah mereka percaya konspirasi elit global atau engga tapi satu negar \n",
      " virus corona kalah di taiwan dgn tanpa lockdown entah mereka percaya konspirasi elit global atau engga tapi satu negar \n",
      " virus corona kalah di taiwan dgn tanpa lockdown entah mereka percaya konspirasi elit global atau engga tapi satu negar \n",
      " virus corona kalah di taiwan dgn tanpa lockdown entah mereka percaya konspirasi elit global atau engga tapi satu negar \n",
      " virus corona kalah di taiwan dgn tanpa lockdown entah mereka percaya konspirasi elit global atau engga tapi satu negar \n",
      " virus corona kalah di taiwan dgn tanpa lockdown entah mereka percaya konspirasi elit global atau engga tapi satu negar \n",
      " virus corona kalah di taiwan dgn tanpa lockdown entah mereka percaya konspirasi elit global atau engga tapi satu negar \n",
      " virus corona kalah di taiwan dgn tanpa lockdown entah mereka percaya konspirasi elit global atau engga tapi satu negar \n",
      " virus corona kalah di taiwan dgn tanpa lockdown entah mereka percaya konspirasi elit global atau engga tapi satu negar \n",
      " virus corona kalah di taiwan dgn tanpa lockdown entah mereka percaya konspirasi elit global atau engga tapi satu negar \n",
      " virus corona kalah di taiwan dgn tanpa lockdown entah mereka percaya konspirasi elit global atau engga tapi satu negar \n",
      " virus corona kalah di taiwan dgn tanpa lockdown entah mereka percaya konspirasi elit global atau engga tapi satu negar \n",
      " virus corona kalah di taiwan dgn tanpa lockdown entah mereka percaya konspirasi elit global atau engga tapi satu negar \n",
      " virus corona kalah di taiwan dgn tanpa lockdown entah mereka percaya konspirasi elit global atau engga tapi satu negar \n",
      " virus corona kalah di taiwan dgn tanpa lockdown entah mereka percaya konspirasi elit global atau engga tapi satu negar \n",
      " virus corona kalah di taiwan dgn tanpa lockdown entah mereka percaya konspirasi elit global atau engga tapi satu negar \n",
      " virus corona kalah di taiwan dgn tanpa lockdown entah mereka percaya konspirasi elit global atau engga tapi satu negar \n",
      " virus corona kalah di taiwan dgn tanpa lockdown entah mereka percaya konspirasi elit global atau engga tapi satu negar \n",
      " virus corona kalah di taiwan dgn tanpa lockdown entah mereka percaya konspirasi elit global atau engga tapi satu negar \n",
      " virus corona kalah di taiwan dgn tanpa lockdown entah mereka percaya konspirasi elit global atau engga tapi satu negar \n",
      " virus corona kalah di taiwan dgn tanpa lockdown entah mereka percaya konspirasi elit global atau engga tapi satu negar \n",
      " virus corona kalah di taiwan dgn tanpa lockdown entah mereka percaya konspirasi elit global atau engga tapi satu negar \n",
      " virus corona kalah di taiwan dgn tanpa lockdown entah mereka percaya konspirasi elit global atau engga tapi satu negar \n",
      " virus corona kalah di taiwan dgn tanpa lockdown entah mereka percaya konspirasi elit global atau engga tapi satu negar \n",
      " virus corona kalah di taiwan dgn tanpa lockdown entah mereka percaya konspirasi elit global atau engga tapi satu negar \n",
      " virus corona kalah di taiwan dgn tanpa lockdown entah mereka percaya konspirasi elit global atau engga tapi satu negar \n",
      " virus corona kalah di taiwan dgn tanpa lockdown entah mereka percaya konspirasi elit global atau engga tapi satu negar \n",
      " virus corona kalah di taiwan dgn tanpa lockdown entah mereka percaya konspirasi elit global atau engga tapi satu negar \n",
      " virus corona kalah di taiwan dgn tanpa lockdown entah mereka percaya konspirasi elit global atau engga tapi satu negar \n",
      " virus corona kalah di taiwan dgn tanpa lockdown entah mereka percaya konspirasi elit global atau engga tapi satu negar \n",
      " virus corona kalah di taiwan dgn tanpa lockdown entah mereka percaya konspirasi elit global atau engga tapi satu negar \n",
      " virus corona kalah di taiwan dgn tanpa lockdown entah mereka percaya konspirasi elit global atau engga tapi satu negar \n",
      " virus corona kalah di taiwan dgn tanpa lockdown entah mereka percaya konspirasi elit global atau engga tapi satu negar \n",
      " virus corona kalah di taiwan dgn tanpa lockdown entah mereka percaya konspirasi elit global atau engga tapi satu negar \n",
      " virus corona kalah di taiwan dgn tanpa lockdown entah mereka percaya konspirasi elit global atau engga tapi satu negar \n",
      " virus corona kalah di taiwan dgn tanpa lockdown entah mereka percaya konspirasi elit global atau engga tapi satu negar \n",
      " virus corona kalah di taiwan dgn tanpa lockdown entah mereka percaya konspirasi elit global atau engga tapi satu negar \n",
      " virus corona kalah di taiwan dgn tanpa lockdown entah mereka percaya konspirasi elit global atau engga tapi satu negar \n",
      " virus corona kalah di taiwan dgn tanpa lockdown entah mereka percaya konspirasi elit global atau engga tapi satu negar \n"
     ]
    },
    {
     "name": "stdout",
     "output_type": "stream",
     "text": [
      " virus corona kalah di taiwan dgn tanpa lockdown entah mereka percaya konspirasi elit global atau engga tapi satu negar \n",
      " virus corona kalah di taiwan dgn tanpa lockdown entah mereka percaya konspirasi elit global atau engga tapi satu negar \n",
      " virus corona kalah di taiwan dgn tanpa lockdown entah mereka percaya konspirasi elit global atau engga tapi satu negar \n",
      " virus corona kalah di taiwan dgn tanpa lockdown entah mereka percaya konspirasi elit global atau engga tapi satu negar \n",
      " virus corona kalah di taiwan dgn tanpa lockdown entah mereka percaya konspirasi elit global atau engga tapi satu negar \n",
      " virus corona kalah di taiwan dgn tanpa lockdown entah mereka percaya konspirasi elit global atau engga tapi satu negar \n",
      " virus corona kalah di taiwan dgn tanpa lockdown entah mereka percaya konspirasi elit global atau engga tapi satu negar \n",
      " virus corona kalah di taiwan dgn tanpa lockdown entah mereka percaya konspirasi elit global atau engga tapi satu negar \n",
      " virus corona kalah di taiwan dgn tanpa lockdown entah mereka percaya konspirasi elit global atau engga tapi satu negar \n",
      " virus corona kalah di taiwan dgn tanpa lockdown entah mereka percaya konspirasi elit global atau engga tapi satu negar \n",
      " virus corona kalah di taiwan dgn tanpa lockdown entah mereka percaya konspirasi elit global atau engga tapi satu negar \n",
      " virus corona kalah di taiwan dgn tanpa lockdown entah mereka percaya konspirasi elit global atau engga tapi satu negar \n",
      " virus corona kalah di taiwan dgn tanpa lockdown entah mereka percaya konspirasi elit global atau engga tapi satu negar \n",
      " virus corona kalah di taiwan dgn tanpa lockdown entah mereka percaya konspirasi elit global atau engga tapi satu negar \n",
      " virus corona kalah di taiwan dgn tanpa lockdown entah mereka percaya konspirasi elit global atau engga tapi satu negar \n",
      " virus corona kalah di taiwan dgn tanpa lockdown entah mereka percaya konspirasi elit global atau engga tapi satu negar \n",
      " virus corona kalah di taiwan dgn tanpa lockdown entah mereka percaya konspirasi elit global atau engga tapi satu negar \n",
      " virus corona kalah di taiwan dgn tanpa lockdown entah mereka percaya konspirasi elit global atau engga tapi satu negar \n",
      " virus corona kalah di taiwan dgn tanpa lockdown entah mereka percaya konspirasi elit global atau engga tapi satu negar \n",
      " virus corona kalah di taiwan dgn tanpa lockdown entah mereka percaya konspirasi elit global atau engga tapi satu negar \n",
      " virus corona kalah di taiwan dgn tanpa lockdown entah mereka percaya konspirasi elit global atau engga tapi satu negar \n",
      " virus corona kalah di taiwan dgn tanpa lockdown entah mereka percaya konspirasi elit global atau engga tapi satu negar \n",
      " virus corona kalah di taiwan dgn tanpa lockdown entah mereka percaya konspirasi elit global atau engga tapi satu negar \n",
      " virus corona kalah di taiwan dgn tanpa lockdown entah mereka percaya konspirasi elit global atau engga tapi satu negar \n",
      " virus corona kalah di taiwan dgn tanpa lockdown entah mereka percaya konspirasi elit global atau engga tapi satu negar \n",
      " virus corona kalah di taiwan dgn tanpa lockdown entah mereka percaya konspirasi elit global atau engga tapi satu negar \n",
      " virus corona kalah di taiwan dgn tanpa lockdown entah mereka percaya konspirasi elit global atau engga tapi satu negar \n",
      " virus corona kalah di taiwan dgn tanpa lockdown entah mereka percaya konspirasi elit global atau engga tapi satu negar \n",
      " virus corona kalah di taiwan dgn tanpa lockdown entah mereka percaya konspirasi elit global atau engga tapi satu negar \n",
      " virus corona kalah di taiwan dgn tanpa lockdown entah mereka percaya konspirasi elit global atau engga tapi satu negar \n",
      " virus corona kalah di taiwan dgn tanpa lockdown entah mereka percaya konspirasi elit global atau engga tapi satu negar \n",
      " dari mulai mitos hoaks sampai konspirasi soal covid 19 bertebaran di sosial media berikut beberapa di antaranya yang \n",
      " virus corona kalah di taiwan dgn tanpa lockdown entah mereka percaya konspirasi elit global atau engga tapi satu negar \n",
      " virus corona kalah di taiwan dgn tanpa lockdown entah mereka percaya konspirasi elit global atau engga tapi satu negar \n",
      " virus corona kalah di taiwan dgn tanpa lockdown entah mereka percaya konspirasi elit global atau engga tapi satu negar \n",
      " virus corona kalah di taiwan dgn tanpa lockdown entah mereka percaya konspirasi elit global atau engga tapi satu negar \n",
      " virus corona kalah di taiwan dgn tanpa lockdown entah mereka percaya konspirasi elit global atau engga tapi satu negar \n",
      " virus corona kalah di taiwan dgn tanpa lockdown entah mereka percaya konspirasi elit global atau engga tapi satu negar \n",
      " virus corona kalah di taiwan dgn tanpa lockdown entah mereka percaya konspirasi elit global atau engga tapi satu negar \n",
      " virus corona kalah di taiwan dgn tanpa lockdown entah mereka percaya konspirasi elit global atau engga tapi satu negar \n",
      " virus corona kalah di taiwan dgn tanpa lockdown entah mereka percaya konspirasi elit global atau engga tapi satu negar \n",
      " virus corona kalah di taiwan dgn tanpa lockdown entah mereka percaya konspirasi elit global atau engga tapi satu negar \n",
      " virus corona kalah di taiwan dgn tanpa lockdown entah mereka percaya konspirasi elit global atau engga tapi satu negar \n",
      " virus corona kalah di taiwan dgn tanpa lockdown entah mereka percaya konspirasi elit global atau engga tapi satu negar \n",
      " virus corona kalah di taiwan dgn tanpa lockdown entah mereka percaya konspirasi elit global atau engga tapi satu negar \n",
      " virus corona kalah di taiwan dgn tanpa lockdown entah mereka percaya konspirasi elit global atau engga tapi satu negar \n",
      " virus corona kalah di taiwan dgn tanpa lockdown entah mereka percaya konspirasi elit global atau engga tapi satu negar \n",
      " virus corona kalah di taiwan dgn tanpa lockdown entah mereka percaya konspirasi elit global atau engga tapi satu negar \n",
      " virus corona kalah di taiwan dgn tanpa lockdown entah mereka percaya konspirasi elit global atau engga tapi satu negar \n",
      " virus corona kalah di taiwan dgn tanpa lockdown entah mereka percaya konspirasi elit global atau engga tapi satu negar \n",
      " virus corona kalah di taiwan dgn tanpa lockdown entah mereka percaya konspirasi elit global atau engga tapi satu negar \n",
      " virus corona kalah di taiwan dgn tanpa lockdown entah mereka percaya konspirasi elit global atau engga tapi satu negar \n",
      " virus corona kalah di taiwan dgn tanpa lockdown entah mereka percaya konspirasi elit global atau engga tapi satu negar \n",
      " virus corona kalah di taiwan dgn tanpa lockdown entah mereka percaya konspirasi elit global atau engga tapi satu negar \n",
      " virus corona kalah di taiwan dgn tanpa lockdown entah mereka percaya konspirasi elit global atau engga tapi satu negar \n",
      " virus corona kalah di taiwan dgn tanpa lockdown entah mereka percaya konspirasi elit global atau engga tapi satu negar \n",
      " virus corona kalah di taiwan dgn tanpa lockdown entah mereka percaya konspirasi elit global atau engga tapi satu negar \n",
      " virus corona kalah di taiwan dgn tanpa lockdown entah mereka percaya konspirasi elit global atau engga tapi satu negar \n",
      " virus corona kalah di taiwan dgn tanpa lockdown entah mereka percaya konspirasi elit global atau engga tapi satu negar \n",
      " virus corona kalah di taiwan dgn tanpa lockdown entah mereka percaya konspirasi elit global atau engga tapi satu negar \n",
      " virus corona kalah di taiwan dgn tanpa lockdown entah mereka percaya konspirasi elit global atau engga tapi satu negar \n",
      " virus corona kalah di taiwan dgn tanpa lockdown entah mereka percaya konspirasi elit global atau engga tapi satu negar \n",
      " virus corona kalah di taiwan dgn tanpa lockdown entah mereka percaya konspirasi elit global atau engga tapi satu negar \n",
      " virus corona kalah di taiwan dgn tanpa lockdown entah mereka percaya konspirasi elit global atau engga tapi satu negar \n",
      " virus corona kalah di taiwan dgn tanpa lockdown entah mereka percaya konspirasi elit global atau engga tapi satu negar \n",
      " virus corona kalah di taiwan dgn tanpa lockdown entah mereka percaya konspirasi elit global atau engga tapi satu negar \n",
      " virus corona kalah di taiwan dgn tanpa lockdown entah mereka percaya konspirasi elit global atau engga tapi satu negar \n",
      " virus corona kalah di taiwan dgn tanpa lockdown entah mereka percaya konspirasi elit global atau engga tapi satu negar \n",
      " virus corona kalah di taiwan dgn tanpa lockdown entah mereka percaya konspirasi elit global atau engga tapi satu negar \n",
      " virus corona kalah di taiwan dgn tanpa lockdown entah mereka percaya konspirasi elit global atau engga tapi satu negar \n",
      " virus corona kalah di taiwan dgn tanpa lockdown entah mereka percaya konspirasi elit global atau engga tapi satu negar \n",
      " virus corona kalah di taiwan dgn tanpa lockdown entah mereka percaya konspirasi elit global atau engga tapi satu negar \n",
      " virus corona kalah di taiwan dgn tanpa lockdown entah mereka percaya konspirasi elit global atau engga tapi satu negar \n",
      " virus corona kalah di taiwan dgn tanpa lockdown entah mereka percaya konspirasi elit global atau engga tapi satu negar \n",
      " virus corona kalah di taiwan dgn tanpa lockdown entah mereka percaya konspirasi elit global atau engga tapi satu negar \n"
     ]
    },
    {
     "name": "stdout",
     "output_type": "stream",
     "text": [
      " virus corona kalah di taiwan dgn tanpa lockdown entah mereka percaya konspirasi elit global atau engga tapi satu negar \n",
      " virus corona kalah di taiwan dgn tanpa lockdown entah mereka percaya konspirasi elit global atau engga tapi satu negar \n",
      " virus corona kalah di taiwan dgn tanpa lockdown entah mereka percaya konspirasi elit global atau engga tapi satu negar \n",
      " virus corona kalah di taiwan dgn tanpa lockdown entah mereka percaya konspirasi elit global atau engga tapi satu negar \n",
      " virus corona kalah di taiwan dgn tanpa lockdown entah mereka percaya konspirasi elit global atau engga tapi satu negar \n",
      " virus corona kalah di taiwan dgn tanpa lockdown entah mereka percaya konspirasi elit global atau engga tapi satu negar \n",
      " virus corona kalah di taiwan dgn tanpa lockdown entah mereka percaya konspirasi elit global atau engga tapi satu negar \n",
      " virus corona kalah di taiwan dgn tanpa lockdown entah mereka percaya konspirasi elit global atau engga tapi satu negar \n",
      " virus corona kalah di taiwan dgn tanpa lockdown entah mereka percaya konspirasi elit global atau engga tapi satu negar \n",
      " virus corona kalah di taiwan dgn tanpa lockdown entah mereka percaya konspirasi elit global atau engga tapi satu negar \n",
      " virus corona kalah di taiwan dgn tanpa lockdown entah mereka percaya konspirasi elit global atau engga tapi satu negar \n",
      " virus corona kalah di taiwan dgn tanpa lockdown entah mereka percaya konspirasi elit global atau engga tapi satu negar \n",
      " virus corona kalah di taiwan dgn tanpa lockdown entah mereka percaya konspirasi elit global atau engga tapi satu negar \n",
      " virus corona kalah di taiwan dgn tanpa lockdown entah mereka percaya konspirasi elit global atau engga tapi satu negar \n",
      " virus corona kalah di taiwan dgn tanpa lockdown entah mereka percaya konspirasi elit global atau engga tapi satu negar \n",
      " virus corona kalah di taiwan dgn tanpa lockdown entah mereka percaya konspirasi elit global atau engga tapi satu negar \n",
      " virus corona kalah di taiwan dgn tanpa lockdown entah mereka percaya konspirasi elit global atau engga tapi satu negar \n",
      " virus corona kalah di taiwan dgn tanpa lockdown entah mereka percaya konspirasi elit global atau engga tapi satu negar \n",
      " virus corona kalah di taiwan dgn tanpa lockdown entah mereka percaya konspirasi elit global atau engga tapi satu negar \n",
      " virus corona kalah di taiwan dgn tanpa lockdown entah mereka percaya konspirasi elit global atau engga tapi satu negar \n",
      " virus corona kalah di taiwan dgn tanpa lockdown entah mereka percaya konspirasi elit global atau engga tapi satu negar \n",
      " virus corona kalah di taiwan dgn tanpa lockdown entah mereka percaya konspirasi elit global atau engga tapi satu negar \n",
      " virus corona kalah di taiwan dgn tanpa lockdown entah mereka percaya konspirasi elit global atau engga tapi satu negar \n",
      " virus corona kalah di taiwan dgn tanpa lockdown entah mereka percaya konspirasi elit global atau engga tapi satu negar \n",
      " virus corona kalah di taiwan dgn tanpa lockdown entah mereka percaya konspirasi elit global atau engga tapi satu negar \n",
      " virus corona kalah di taiwan dgn tanpa lockdown entah mereka percaya konspirasi elit global atau engga tapi satu negar \n",
      " virus corona kalah di taiwan dgn tanpa lockdown entah mereka percaya konspirasi elit global atau engga tapi satu negar \n",
      " virus corona kalah di taiwan dgn tanpa lockdown entah mereka percaya konspirasi elit global atau engga tapi satu negar \n",
      " virus corona kalah di taiwan dgn tanpa lockdown entah mereka percaya konspirasi elit global atau engga tapi satu negar \n",
      " virus corona kalah di taiwan dgn tanpa lockdown entah mereka percaya konspirasi elit global atau engga tapi satu negar \n",
      " virus corona kalah di taiwan dgn tanpa lockdown entah mereka percaya konspirasi elit global atau engga tapi satu negar \n",
      " virus corona kalah di taiwan dgn tanpa lockdown entah mereka percaya konspirasi elit global atau engga tapi satu negar \n",
      " virus corona kalah di taiwan dgn tanpa lockdown entah mereka percaya konspirasi elit global atau engga tapi satu negar \n",
      " virus corona kalah di taiwan dgn tanpa lockdown entah mereka percaya konspirasi elit global atau engga tapi satu negar \n",
      " virus corona kalah di taiwan dgn tanpa lockdown entah mereka percaya konspirasi elit global atau engga tapi satu negar \n",
      " virus corona kalah di taiwan dgn tanpa lockdown entah mereka percaya konspirasi elit global atau engga tapi satu negar \n",
      " virus corona kalah di taiwan dgn tanpa lockdown entah mereka percaya konspirasi elit global atau engga tapi satu negar \n",
      " virus corona kalah di taiwan dgn tanpa lockdown entah mereka percaya konspirasi elit global atau engga tapi satu negar \n",
      " virus corona kalah di taiwan dgn tanpa lockdown entah mereka percaya konspirasi elit global atau engga tapi satu negar \n",
      " virus corona kalah di taiwan dgn tanpa lockdown entah mereka percaya konspirasi elit global atau engga tapi satu negar \n",
      " virus corona kalah di taiwan dgn tanpa lockdown entah mereka percaya konspirasi elit global atau engga tapi satu negar \n",
      " virus corona kalah di taiwan dgn tanpa lockdown entah mereka percaya konspirasi elit global atau engga tapi satu negar \n",
      " virus corona kalah di taiwan dgn tanpa lockdown entah mereka percaya konspirasi elit global atau engga tapi satu negar \n",
      " virus corona kalah di taiwan dgn tanpa lockdown entah mereka percaya konspirasi elit global atau engga tapi satu negar \n",
      " virus corona kalah di taiwan dgn tanpa lockdown entah mereka percaya konspirasi elit global atau engga tapi satu negar \n",
      " virus corona kalah di taiwan dgn tanpa lockdown entah mereka percaya konspirasi elit global atau engga tapi satu negar \n",
      " virus corona kalah di taiwan dgn tanpa lockdown entah mereka percaya konspirasi elit global atau engga tapi satu negar \n",
      " virus corona kalah di taiwan dgn tanpa lockdown entah mereka percaya konspirasi elit global atau engga tapi satu negar \n",
      " virus corona kalah di taiwan dgn tanpa lockdown entah mereka percaya konspirasi elit global atau engga tapi satu negar \n",
      " virus corona kalah di taiwan dgn tanpa lockdown entah mereka percaya konspirasi elit global atau engga tapi satu negar \n",
      " virus corona kalah di taiwan dgn tanpa lockdown entah mereka percaya konspirasi elit global atau engga tapi satu negar \n",
      " virus corona kalah di taiwan dgn tanpa lockdown entah mereka percaya konspirasi elit global atau engga tapi satu negar \n",
      " virus corona kalah di taiwan dgn tanpa lockdown entah mereka percaya konspirasi elit global atau engga tapi satu negar \n",
      " virus corona kalah di taiwan dgn tanpa lockdown entah mereka percaya konspirasi elit global atau engga tapi satu negar \n",
      " virus corona kalah di taiwan dgn tanpa lockdown entah mereka percaya konspirasi elit global atau engga tapi satu negar \n",
      " virus corona kalah di taiwan dgn tanpa lockdown entah mereka percaya konspirasi elit global atau engga tapi satu negar \n",
      " virus corona kalah di taiwan dgn tanpa lockdown entah mereka percaya konspirasi elit global atau engga tapi satu negar \n",
      " virus corona kalah di taiwan dgn tanpa lockdown entah mereka percaya konspirasi elit global atau engga tapi satu negar \n",
      " virus corona kalah di taiwan dgn tanpa lockdown entah mereka percaya konspirasi elit global atau engga tapi satu negar \n",
      " virus corona kalah di taiwan dgn tanpa lockdown entah mereka percaya konspirasi elit global atau engga tapi satu negar \n",
      " virus corona kalah di taiwan dgn tanpa lockdown entah mereka percaya konspirasi elit global atau engga tapi satu negar \n",
      " virus corona kalah di taiwan dgn tanpa lockdown entah mereka percaya konspirasi elit global atau engga tapi satu negar \n",
      " virus corona kalah di taiwan dgn tanpa lockdown entah mereka percaya konspirasi elit global atau engga tapi satu negar \n",
      " virus corona kalah di taiwan dgn tanpa lockdown entah mereka percaya konspirasi elit global atau engga tapi satu negar \n",
      " virus corona kalah di taiwan dgn tanpa lockdown entah mereka percaya konspirasi elit global atau engga tapi satu negar \n",
      " virus corona kalah di taiwan dgn tanpa lockdown entah mereka percaya konspirasi elit global atau engga tapi satu negar \n",
      " virus corona kalah di taiwan dgn tanpa lockdown entah mereka percaya konspirasi elit global atau engga tapi satu negar \n",
      " virus corona kalah di taiwan dgn tanpa lockdown entah mereka percaya konspirasi elit global atau engga tapi satu negar \n",
      " virus corona kalah di taiwan dgn tanpa lockdown entah mereka percaya konspirasi elit global atau engga tapi satu negar \n",
      " virus corona kalah di taiwan dgn tanpa lockdown entah mereka percaya konspirasi elit global atau engga tapi satu negar \n",
      " virus corona kalah di taiwan dgn tanpa lockdown entah mereka percaya konspirasi elit global atau engga tapi satu negar \n",
      " virus corona kalah di taiwan dgn tanpa lockdown entah mereka percaya konspirasi elit global atau engga tapi satu negar \n",
      " virus corona kalah di taiwan dgn tanpa lockdown entah mereka percaya konspirasi elit global atau engga tapi satu negar \n",
      " virus corona kalah di taiwan dgn tanpa lockdown entah mereka percaya konspirasi elit global atau engga tapi satu negar \n",
      " virus corona kalah di taiwan dgn tanpa lockdown entah mereka percaya konspirasi elit global atau engga tapi satu negar \n"
     ]
    },
    {
     "name": "stdout",
     "output_type": "stream",
     "text": [
      " virus corona kalah di taiwan dgn tanpa lockdown entah mereka percaya konspirasi elit global atau engga tapi satu negar \n",
      " virus corona kalah di taiwan dgn tanpa lockdown entah mereka percaya konspirasi elit global atau engga tapi satu negar \n",
      " virus corona kalah di taiwan dgn tanpa lockdown entah mereka percaya konspirasi elit global atau engga tapi satu negar \n",
      " virus corona kalah di taiwan dgn tanpa lockdown entah mereka percaya konspirasi elit global atau engga tapi satu negar \n",
      " virus corona kalah di taiwan dgn tanpa lockdown entah mereka percaya konspirasi elit global atau engga tapi satu negar \n",
      " virus corona kalah di taiwan dgn tanpa lockdown entah mereka percaya konspirasi elit global atau engga tapi satu negar \n",
      " virus corona kalah di taiwan dgn tanpa lockdown entah mereka percaya konspirasi elit global atau engga tapi satu negar \n",
      " virus corona kalah di taiwan dgn tanpa lockdown entah mereka percaya konspirasi elit global atau engga tapi satu negar \n",
      " virus corona kalah di taiwan dgn tanpa lockdown entah mereka percaya konspirasi elit global atau engga tapi satu negar \n",
      " virus corona kalah di taiwan dgn tanpa lockdown entah mereka percaya konspirasi elit global atau engga tapi satu negar \n",
      " virus corona kalah di taiwan dgn tanpa lockdown entah mereka percaya konspirasi elit global atau engga tapi satu negar \n",
      " virus corona kalah di taiwan dgn tanpa lockdown entah mereka percaya konspirasi elit global atau engga tapi satu negar \n",
      " virus corona kalah di taiwan dgn tanpa lockdown entah mereka percaya konspirasi elit global atau engga tapi satu negar \n",
      " virus corona kalah di taiwan dgn tanpa lockdown entah mereka percaya konspirasi elit global atau engga tapi satu negar \n",
      " virus corona kalah di taiwan dgn tanpa lockdown entah mereka percaya konspirasi elit global atau engga tapi satu negar \n",
      " virus corona kalah di taiwan dgn tanpa lockdown entah mereka percaya konspirasi elit global atau engga tapi satu negar \n",
      " virus corona kalah di taiwan dgn tanpa lockdown entah mereka percaya konspirasi elit global atau engga tapi satu negar \n",
      " virus corona kalah di taiwan dgn tanpa lockdown entah mereka percaya konspirasi elit global atau engga tapi satu negar \n",
      " virus corona kalah di taiwan dgn tanpa lockdown entah mereka percaya konspirasi elit global atau engga tapi satu negar \n",
      " virus corona kalah di taiwan dgn tanpa lockdown entah mereka percaya konspirasi elit global atau engga tapi satu negar \n",
      " virus corona kalah di taiwan dgn tanpa lockdown entah mereka percaya konspirasi elit global atau engga tapi satu negar \n",
      " virus corona kalah di taiwan dgn tanpa lockdown entah mereka percaya konspirasi elit global atau engga tapi satu negar \n",
      " virus corona kalah di taiwan dgn tanpa lockdown entah mereka percaya konspirasi elit global atau engga tapi satu negar \n",
      " bisnis twice bar lo lagi sepi karna corona bro udah gapapa istirahatin dulu aja karyawan nanti kalo covid \n",
      " virus corona kalah di taiwan dgn tanpa lockdown entah mereka percaya konspirasi elit global atau engga tapi satu negar \n",
      " virus corona kalah di taiwan dgn tanpa lockdown entah mereka percaya konspirasi elit global atau engga tapi satu negar \n",
      " virus corona kalah di taiwan dgn tanpa lockdown entah mereka percaya konspirasi elit global atau engga tapi satu negar \n",
      " virus corona kalah di taiwan dgn tanpa lockdown entah mereka percaya konspirasi elit global atau engga tapi satu negar \n",
      " virus corona kalah di taiwan dgn tanpa lockdown entah mereka percaya konspirasi elit global atau engga tapi satu negar \n",
      " virus corona kalah di taiwan dgn tanpa lockdown entah mereka percaya konspirasi elit global atau engga tapi satu negar \n",
      " virus corona kalah di taiwan dgn tanpa lockdown entah mereka percaya konspirasi elit global atau engga tapi satu negar \n",
      " virus corona kalah di taiwan dgn tanpa lockdown entah mereka percaya konspirasi elit global atau engga tapi satu negar \n",
      " virus corona kalah di taiwan dgn tanpa lockdown entah mereka percaya konspirasi elit global atau engga tapi satu negar \n",
      " virus corona kalah di taiwan dgn tanpa lockdown entah mereka percaya konspirasi elit global atau engga tapi satu negar \n",
      " virus corona kalah di taiwan dgn tanpa lockdown entah mereka percaya konspirasi elit global atau engga tapi satu negar \n",
      " virus corona kalah di taiwan dgn tanpa lockdown entah mereka percaya konspirasi elit global atau engga tapi satu negar \n",
      " virus corona kalah di taiwan dgn tanpa lockdown entah mereka percaya konspirasi elit global atau engga tapi satu negar \n",
      " virus corona kalah di taiwan dgn tanpa lockdown entah mereka percaya konspirasi elit global atau engga tapi satu negar \n",
      " virus corona kalah di taiwan dgn tanpa lockdown entah mereka percaya konspirasi elit global atau engga tapi satu negar \n",
      " virus corona kalah di taiwan dgn tanpa lockdown entah mereka percaya konspirasi elit global atau engga tapi satu negar \n",
      " virus corona kalah di taiwan dgn tanpa lockdown entah mereka percaya konspirasi elit global atau engga tapi satu negar \n",
      " virus corona kalah di taiwan dgn tanpa lockdown entah mereka percaya konspirasi elit global atau engga tapi satu negar \n",
      " virus corona kalah di taiwan dgn tanpa lockdown entah mereka percaya konspirasi elit global atau engga tapi satu negar \n",
      " virus corona kalah di taiwan dgn tanpa lockdown entah mereka percaya konspirasi elit global atau engga tapi satu negar \n",
      " virus corona kalah di taiwan dgn tanpa lockdown entah mereka percaya konspirasi elit global atau engga tapi satu negar \n",
      " virus corona kalah di taiwan dgn tanpa lockdown entah mereka percaya konspirasi elit global atau engga tapi satu negar \n",
      " virus corona kalah di taiwan dgn tanpa lockdown entah mereka percaya konspirasi elit global atau engga tapi satu negar \n",
      " virus corona kalah di taiwan dgn tanpa lockdown entah mereka percaya konspirasi elit global atau engga tapi satu negar \n",
      " virus corona kalah di taiwan dgn tanpa lockdown entah mereka percaya konspirasi elit global atau engga tapi satu negar \n",
      " virus corona kalah di taiwan dgn tanpa lockdown entah mereka percaya konspirasi elit global atau engga tapi satu negar \n",
      " virus corona kalah di taiwan dgn tanpa lockdown entah mereka percaya konspirasi elit global atau engga tapi satu negar \n",
      " virus corona kalah di taiwan dgn tanpa lockdown entah mereka percaya konspirasi elit global atau engga tapi satu negar \n",
      " virus corona kalah di taiwan dgn tanpa lockdown entah mereka percaya konspirasi elit global atau engga tapi satu negar \n",
      " virus corona kalah di taiwan dgn tanpa lockdown entah mereka percaya konspirasi elit global atau engga tapi satu negar \n",
      " virus corona kalah di taiwan dgn tanpa lockdown entah mereka percaya konspirasi elit global atau engga tapi satu negar \n",
      " virus corona kalah di taiwan dgn tanpa lockdown entah mereka percaya konspirasi elit global atau engga tapi satu negar \n",
      " virus corona kalah di taiwan dgn tanpa lockdown entah mereka percaya konspirasi elit global atau engga tapi satu negar \n",
      " virus corona kalah di taiwan dgn tanpa lockdown entah mereka percaya konspirasi elit global atau engga tapi satu negar \n",
      " virus corona kalah di taiwan dgn tanpa lockdown entah mereka percaya konspirasi elit global atau engga tapi satu negar \n",
      " virus corona kalah di taiwan dgn tanpa lockdown entah mereka percaya konspirasi elit global atau engga tapi satu negar \n",
      " virus corona kalah di taiwan dgn tanpa lockdown entah mereka percaya konspirasi elit global atau engga tapi satu negar \n",
      " virus corona kalah di taiwan dgn tanpa lockdown entah mereka percaya konspirasi elit global atau engga tapi satu negar \n",
      " virus corona kalah di taiwan dgn tanpa lockdown entah mereka percaya konspirasi elit global atau engga tapi satu negar \n",
      " virus corona kalah di taiwan dgn tanpa lockdown entah mereka percaya konspirasi elit global atau engga tapi satu negar \n",
      " virus corona kalah di taiwan dgn tanpa lockdown entah mereka percaya konspirasi elit global atau engga tapi satu negar \n",
      " virus corona kalah di taiwan dgn tanpa lockdown entah mereka percaya konspirasi elit global atau engga tapi satu negar \n",
      " virus corona kalah di taiwan dgn tanpa lockdown entah mereka percaya konspirasi elit global atau engga tapi satu negar \n",
      " dari mulai mitos hoaks sampai konspirasi soal covid 19 bertebaran di sosial media berikut beberapa di antaranya yang \n",
      " virus corona kalah di taiwan dgn tanpa lockdown entah mereka percaya konspirasi elit global atau engga tapi satu negar \n",
      " virus corona kalah di taiwan dgn tanpa lockdown entah mereka percaya konspirasi elit global atau engga tapi satu negar \n",
      " virus corona kalah di taiwan dgn tanpa lockdown entah mereka percaya konspirasi elit global atau engga tapi satu negar \n",
      " virus corona kalah di taiwan dgn tanpa lockdown entah mereka percaya konspirasi elit global atau engga tapi satu negar \n",
      " virus corona kalah di taiwan dgn tanpa lockdown entah mereka percaya konspirasi elit global atau engga tapi satu negar \n",
      " virus corona kalah di taiwan dgn tanpa lockdown entah mereka percaya konspirasi elit global atau engga tapi satu negar \n",
      " virus corona kalah di taiwan dgn tanpa lockdown entah mereka percaya konspirasi elit global atau engga tapi satu negar \n"
     ]
    },
    {
     "name": "stdout",
     "output_type": "stream",
     "text": [
      " virus corona kalah di taiwan dgn tanpa lockdown entah mereka percaya konspirasi elit global atau engga tapi satu negar \n",
      " virus corona kalah di taiwan dgn tanpa lockdown entah mereka percaya konspirasi elit global atau engga tapi satu negar \n",
      " virus corona kalah di taiwan dgn tanpa lockdown entah mereka percaya konspirasi elit global atau engga tapi satu negar \n",
      " virus corona kalah di taiwan dgn tanpa lockdown entah mereka percaya konspirasi elit global atau engga tapi satu negar \n",
      " virus corona kalah di taiwan dgn tanpa lockdown entah mereka percaya konspirasi elit global atau engga tapi satu negar \n",
      " virus corona kalah di taiwan dgn tanpa lockdown entah mereka percaya konspirasi elit global atau engga tapi satu negar \n",
      " virus corona kalah di taiwan dgn tanpa lockdown entah mereka percaya konspirasi elit global atau engga tapi satu negar \n",
      " virus corona kalah di taiwan dgn tanpa lockdown entah mereka percaya konspirasi elit global atau engga tapi satu negar \n",
      " virus corona kalah di taiwan dgn tanpa lockdown entah mereka percaya konspirasi elit global atau engga tapi satu negar \n",
      " virus corona kalah di taiwan dgn tanpa lockdown entah mereka percaya konspirasi elit global atau engga tapi satu negar \n",
      " virus corona kalah di taiwan dgn tanpa lockdown entah mereka percaya konspirasi elit global atau engga tapi satu negar \n",
      " virus corona kalah di taiwan dgn tanpa lockdown entah mereka percaya konspirasi elit global atau engga tapi satu negar \n",
      " virus corona kalah di taiwan dgn tanpa lockdown entah mereka percaya konspirasi elit global atau engga tapi satu negar \n",
      " virus corona kalah di taiwan dgn tanpa lockdown entah mereka percaya konspirasi elit global atau engga tapi satu negar \n",
      " virus corona kalah di taiwan dgn tanpa lockdown entah mereka percaya konspirasi elit global atau engga tapi satu negar \n",
      " virus corona kalah di taiwan dgn tanpa lockdown entah mereka percaya konspirasi elit global atau engga tapi satu negar \n",
      " virus corona kalah di taiwan dgn tanpa lockdown entah mereka percaya konspirasi elit global atau engga tapi satu negar \n",
      " virus corona kalah di taiwan dgn tanpa lockdown entah mereka percaya konspirasi elit global atau engga tapi satu negar \n",
      " virus corona kalah di taiwan dgn tanpa lockdown entah mereka percaya konspirasi elit global atau engga tapi satu negar \n",
      " virus corona kalah di taiwan dgn tanpa lockdown entah mereka percaya konspirasi elit global atau engga tapi satu negar \n",
      " virus corona kalah di taiwan dgn tanpa lockdown entah mereka percaya konspirasi elit global atau engga tapi satu negar \n",
      " virus corona kalah di taiwan dgn tanpa lockdown entah mereka percaya konspirasi elit global atau engga tapi satu negar \n",
      " virus corona kalah di taiwan dgn tanpa lockdown entah mereka percaya konspirasi elit global atau engga tapi satu negar \n",
      " virus corona kalah di taiwan dgn tanpa lockdown entah mereka percaya konspirasi elit global atau engga tapi satu negar \n",
      " virus corona kalah di taiwan dgn tanpa lockdown entah mereka percaya konspirasi elit global atau engga tapi satu negar \n",
      " virus corona kalah di taiwan dgn tanpa lockdown entah mereka percaya konspirasi elit global atau engga tapi satu negar \n",
      " virus corona kalah di taiwan dgn tanpa lockdown entah mereka percaya konspirasi elit global atau engga tapi satu negar \n",
      " virus corona kalah di taiwan dgn tanpa lockdown entah mereka percaya konspirasi elit global atau engga tapi satu negar \n",
      " virus corona kalah di taiwan dgn tanpa lockdown entah mereka percaya konspirasi elit global atau engga tapi satu negar \n",
      " virus corona kalah di taiwan dgn tanpa lockdown entah mereka percaya konspirasi elit global atau engga tapi satu negar \n",
      " virus corona kalah di taiwan dgn tanpa lockdown entah mereka percaya konspirasi elit global atau engga tapi satu negar \n",
      " virus corona kalah di taiwan dgn tanpa lockdown entah mereka percaya konspirasi elit global atau engga tapi satu negar \n",
      " virus corona kalah di taiwan dgn tanpa lockdown entah mereka percaya konspirasi elit global atau engga tapi satu negar \n",
      " virus corona kalah di taiwan dgn tanpa lockdown entah mereka percaya konspirasi elit global atau engga tapi satu negar \n",
      " virus corona kalah di taiwan dgn tanpa lockdown entah mereka percaya konspirasi elit global atau engga tapi satu negar \n",
      " virus corona kalah di taiwan dgn tanpa lockdown entah mereka percaya konspirasi elit global atau engga tapi satu negar \n",
      " virus corona kalah di taiwan dgn tanpa lockdown entah mereka percaya konspirasi elit global atau engga tapi satu negar \n",
      " virus corona kalah di taiwan dgn tanpa lockdown entah mereka percaya konspirasi elit global atau engga tapi satu negar \n",
      " virus corona kalah di taiwan dgn tanpa lockdown entah mereka percaya konspirasi elit global atau engga tapi satu negar \n",
      " virus corona kalah di taiwan dgn tanpa lockdown entah mereka percaya konspirasi elit global atau engga tapi satu negar \n",
      " virus corona kalah di taiwan dgn tanpa lockdown entah mereka percaya konspirasi elit global atau engga tapi satu negar \n",
      " virus corona kalah di taiwan dgn tanpa lockdown entah mereka percaya konspirasi elit global atau engga tapi satu negar \n",
      " virus corona kalah di taiwan dgn tanpa lockdown entah mereka percaya konspirasi elit global atau engga tapi satu negar \n",
      " virus corona kalah di taiwan dgn tanpa lockdown entah mereka percaya konspirasi elit global atau engga tapi satu negar \n",
      " virus corona kalah di taiwan dgn tanpa lockdown entah mereka percaya konspirasi elit global atau engga tapi satu negar \n",
      " virus corona kalah di taiwan dgn tanpa lockdown entah mereka percaya konspirasi elit global atau engga tapi satu negar \n",
      " virus corona kalah di taiwan dgn tanpa lockdown entah mereka percaya konspirasi elit global atau engga tapi satu negar \n",
      " virus corona kalah di taiwan dgn tanpa lockdown entah mereka percaya konspirasi elit global atau engga tapi satu negar \n",
      " virus corona kalah di taiwan dgn tanpa lockdown entah mereka percaya konspirasi elit global atau engga tapi satu negar \n",
      " virus corona kalah di taiwan dgn tanpa lockdown entah mereka percaya konspirasi elit global atau engga tapi satu negar \n",
      " virus corona kalah di taiwan dgn tanpa lockdown entah mereka percaya konspirasi elit global atau engga tapi satu negar \n",
      " virus corona kalah di taiwan dgn tanpa lockdown entah mereka percaya konspirasi elit global atau engga tapi satu negar \n",
      " virus corona kalah di taiwan dgn tanpa lockdown entah mereka percaya konspirasi elit global atau engga tapi satu negar \n",
      " dari mulai mitos hoaks sampai konspirasi soal covid 19 bertebaran di sosial media berikut beberapa di antaranya yang \n",
      " virus corona kalah di taiwan dgn tanpa lockdown entah mereka percaya konspirasi elit global atau engga tapi satu negar \n",
      " virus corona kalah di taiwan dgn tanpa lockdown entah mereka percaya konspirasi elit global atau engga tapi satu negar \n",
      " virus corona kalah di taiwan dgn tanpa lockdown entah mereka percaya konspirasi elit global atau engga tapi satu negar \n",
      " virus corona kalah di taiwan dgn tanpa lockdown entah mereka percaya konspirasi elit global atau engga tapi satu negar \n",
      " virus corona kalah di taiwan dgn tanpa lockdown entah mereka percaya konspirasi elit global atau engga tapi satu negar \n",
      " virus corona kalah di taiwan dgn tanpa lockdown entah mereka percaya konspirasi elit global atau engga tapi satu negar \n",
      " dari mulai mitos hoaks sampai konspirasi soal covid 19 bertebaran di sosial media berikut beberapa di antaranya yang \n",
      " virus corona kalah di taiwan dgn tanpa lockdown entah mereka percaya konspirasi elit global atau engga tapi satu negar \n",
      "dari mulai mitos hoaks sampai konspirasi soal covid 19 bertebaran di sosial media berikut beberapa di antaranya \n",
      " virus corona kalah di taiwan dgn tanpa lockdown entah mereka percaya konspirasi elit global atau engga tapi satu negar \n",
      " virus corona kalah di taiwan dgn tanpa lockdown entah mereka percaya konspirasi elit global atau engga tapi satu negar \n",
      " virus corona kalah di taiwan dgn tanpa lockdown entah mereka percaya konspirasi elit global atau engga tapi satu negar \n",
      " virus corona kalah di taiwan dgn tanpa lockdown entah mereka percaya konspirasi elit global atau engga tapi satu negar \n",
      " virus corona kalah di taiwan dgn tanpa lockdown entah mereka percaya konspirasi elit global atau engga tapi satu negar \n",
      " virus corona kalah di taiwan dgn tanpa lockdown entah mereka percaya konspirasi elit global atau engga tapi satu negar \n",
      " virus corona kalah di taiwan dgn tanpa lockdown entah mereka percaya konspirasi elit global atau engga tapi satu negar \n",
      " virus corona kalah di taiwan dgn tanpa lockdown entah mereka percaya konspirasi elit global atau engga tapi satu negar \n",
      " virus corona kalah di taiwan dgn tanpa lockdown entah mereka percaya konspirasi elit global atau engga tapi satu negar \n",
      " virus corona kalah di taiwan dgn tanpa lockdown entah mereka percaya konspirasi elit global atau engga tapi satu negar \n",
      " virus corona kalah di taiwan dgn tanpa lockdown entah mereka percaya konspirasi elit global atau engga tapi satu negar \n",
      " virus corona kalah di taiwan dgn tanpa lockdown entah mereka percaya konspirasi elit global atau engga tapi satu negar \n"
     ]
    },
    {
     "name": "stdout",
     "output_type": "stream",
     "text": [
      " virus corona kalah di taiwan dgn tanpa lockdown entah mereka percaya konspirasi elit global atau engga tapi satu negar \n",
      " virus corona kalah di taiwan dgn tanpa lockdown entah mereka percaya konspirasi elit global atau engga tapi satu negar \n",
      " virus corona kalah di taiwan dgn tanpa lockdown entah mereka percaya konspirasi elit global atau engga tapi satu negar \n",
      " virus corona kalah di taiwan dgn tanpa lockdown entah mereka percaya konspirasi elit global atau engga tapi satu negar \n",
      " virus corona kalah di taiwan dgn tanpa lockdown entah mereka percaya konspirasi elit global atau engga tapi satu negar \n",
      " virus corona kalah di taiwan dgn tanpa lockdown entah mereka percaya konspirasi elit global atau engga tapi satu negar \n",
      " virus corona kalah di taiwan dgn tanpa lockdown entah mereka percaya konspirasi elit global atau engga tapi satu negar \n",
      " virus corona kalah di taiwan dgn tanpa lockdown entah mereka percaya konspirasi elit global atau engga tapi satu negar \n",
      " virus corona kalah di taiwan dgn tanpa lockdown entah mereka percaya konspirasi elit global atau engga tapi satu negar \n",
      " virus corona kalah di taiwan dgn tanpa lockdown entah mereka percaya konspirasi elit global atau engga tapi satu negar \n",
      " virus corona kalah di taiwan dgn tanpa lockdown entah mereka percaya konspirasi elit global atau engga tapi satu negar \n",
      " virus corona kalah di taiwan dgn tanpa lockdown entah mereka percaya konspirasi elit global atau engga tapi satu negar \n",
      " virus corona kalah di taiwan dgn tanpa lockdown entah mereka percaya konspirasi elit global atau engga tapi satu negar \n",
      " virus corona kalah di taiwan dgn tanpa lockdown entah mereka percaya konspirasi elit global atau engga tapi satu negar \n",
      " virus corona kalah di taiwan dgn tanpa lockdown entah mereka percaya konspirasi elit global atau engga tapi satu negar \n",
      " virus corona kalah di taiwan dgn tanpa lockdown entah mereka percaya konspirasi elit global atau engga tapi satu negar \n",
      " virus corona kalah di taiwan dgn tanpa lockdown entah mereka percaya konspirasi elit global atau engga tapi satu negar \n",
      " virus corona kalah di taiwan dgn tanpa lockdown entah mereka percaya konspirasi elit global atau engga tapi satu negar \n",
      " virus corona kalah di taiwan dgn tanpa lockdown entah mereka percaya konspirasi elit global atau engga tapi satu negar \n",
      " virus corona kalah di taiwan dgn tanpa lockdown entah mereka percaya konspirasi elit global atau engga tapi satu negar \n",
      " virus corona kalah di taiwan dgn tanpa lockdown entah mereka percaya konspirasi elit global atau engga tapi satu negar \n",
      " virus corona kalah di taiwan dgn tanpa lockdown entah mereka percaya konspirasi elit global atau engga tapi satu negar \n",
      " virus corona kalah di taiwan dgn tanpa lockdown entah mereka percaya konspirasi elit global atau engga tapi satu negar \n",
      " virus corona kalah di taiwan dgn tanpa lockdown entah mereka percaya konspirasi elit global atau engga tapi satu negar \n",
      " virus corona kalah di taiwan dgn tanpa lockdown entah mereka percaya konspirasi elit global atau engga tapi satu negar \n",
      " virus corona kalah di taiwan dgn tanpa lockdown entah mereka percaya konspirasi elit global atau engga tapi satu negar \n",
      " virus corona kalah di taiwan dgn tanpa lockdown entah mereka percaya konspirasi elit global atau engga tapi satu negar \n",
      " virus corona kalah di taiwan dgn tanpa lockdown entah mereka percaya konspirasi elit global atau engga tapi satu negar \n",
      " virus corona kalah di taiwan dgn tanpa lockdown entah mereka percaya konspirasi elit global atau engga tapi satu negar \n",
      " virus corona kalah di taiwan dgn tanpa lockdown entah mereka percaya konspirasi elit global atau engga tapi satu negar \n",
      " virus corona kalah di taiwan dgn tanpa lockdown entah mereka percaya konspirasi elit global atau engga tapi satu negar \n",
      " virus corona kalah di taiwan dgn tanpa lockdown entah mereka percaya konspirasi elit global atau engga tapi satu negar \n",
      " virus corona kalah di taiwan dgn tanpa lockdown entah mereka percaya konspirasi elit global atau engga tapi satu negar \n",
      " virus corona kalah di taiwan dgn tanpa lockdown entah mereka percaya konspirasi elit global atau engga tapi satu negar \n",
      " virus corona kalah di taiwan dgn tanpa lockdown entah mereka percaya konspirasi elit global atau engga tapi satu negar \n",
      " virus corona kalah di taiwan dgn tanpa lockdown entah mereka percaya konspirasi elit global atau engga tapi satu negar \n",
      " virus corona kalah di taiwan dgn tanpa lockdown entah mereka percaya konspirasi elit global atau engga tapi satu negar \n",
      " virus corona kalah di taiwan dgn tanpa lockdown entah mereka percaya konspirasi elit global atau engga tapi satu negar \n",
      " virus corona kalah di taiwan dgn tanpa lockdown entah mereka percaya konspirasi elit global atau engga tapi satu negar \n",
      " virus corona kalah di taiwan dgn tanpa lockdown entah mereka percaya konspirasi elit global atau engga tapi satu negar \n",
      " virus corona kalah di taiwan dgn tanpa lockdown entah mereka percaya konspirasi elit global atau engga tapi satu negar \n",
      " virus corona kalah di taiwan dgn tanpa lockdown entah mereka percaya konspirasi elit global atau engga tapi satu negar \n",
      " virus corona kalah di taiwan dgn tanpa lockdown entah mereka percaya konspirasi elit global atau engga tapi satu negar \n",
      " virus corona kalah di taiwan dgn tanpa lockdown entah mereka percaya konspirasi elit global atau engga tapi satu negar \n",
      " virus corona kalah di taiwan dgn tanpa lockdown entah mereka percaya konspirasi elit global atau engga tapi satu negar \n",
      " virus corona kalah di taiwan dgn tanpa lockdown entah mereka percaya konspirasi elit global atau engga tapi satu negar \n",
      " virus corona kalah di taiwan dgn tanpa lockdown entah mereka percaya konspirasi elit global atau engga tapi satu negar \n",
      " virus corona kalah di taiwan dgn tanpa lockdown entah mereka percaya konspirasi elit global atau engga tapi satu negar \n",
      " virus corona kalah di taiwan dgn tanpa lockdown entah mereka percaya konspirasi elit global atau engga tapi satu negar \n",
      " virus corona kalah di taiwan dgn tanpa lockdown entah mereka percaya konspirasi elit global atau engga tapi satu negar \n",
      " virus corona kalah di taiwan dgn tanpa lockdown entah mereka percaya konspirasi elit global atau engga tapi satu negar \n",
      " virus corona kalah di taiwan dgn tanpa lockdown entah mereka percaya konspirasi elit global atau engga tapi satu negar \n",
      " virus corona kalah di taiwan dgn tanpa lockdown entah mereka percaya konspirasi elit global atau engga tapi satu negar \n",
      " virus corona kalah di taiwan dgn tanpa lockdown entah mereka percaya konspirasi elit global atau engga tapi satu negar \n",
      " virus corona kalah di taiwan dgn tanpa lockdown entah mereka percaya konspirasi elit global atau engga tapi satu negar \n",
      " virus corona kalah di taiwan dgn tanpa lockdown entah mereka percaya konspirasi elit global atau engga tapi satu negar \n",
      " virus corona kalah di taiwan dgn tanpa lockdown entah mereka percaya konspirasi elit global atau engga tapi satu negar \n",
      " virus corona kalah di taiwan dgn tanpa lockdown entah mereka percaya konspirasi elit global atau engga tapi satu negar \n",
      " virus corona kalah di taiwan dgn tanpa lockdown entah mereka percaya konspirasi elit global atau engga tapi satu negar \n",
      " virus corona kalah di taiwan dgn tanpa lockdown entah mereka percaya konspirasi elit global atau engga tapi satu negar \n",
      " virus corona kalah di taiwan dgn tanpa lockdown entah mereka percaya konspirasi elit global atau engga tapi satu negar \n",
      " virus corona kalah di taiwan dgn tanpa lockdown entah mereka percaya konspirasi elit global atau engga tapi satu negar \n",
      " virus corona kalah di taiwan dgn tanpa lockdown entah mereka percaya konspirasi elit global atau engga tapi satu negar \n",
      " virus corona kalah di taiwan dgn tanpa lockdown entah mereka percaya konspirasi elit global atau engga tapi satu negar \n",
      " virus corona kalah di taiwan dgn tanpa lockdown entah mereka percaya konspirasi elit global atau engga tapi satu negar \n",
      " virus corona kalah di taiwan dgn tanpa lockdown entah mereka percaya konspirasi elit global atau engga tapi satu negar \n",
      " virus corona kalah di taiwan dgn tanpa lockdown entah mereka percaya konspirasi elit global atau engga tapi satu negar \n",
      " virus corona kalah di taiwan dgn tanpa lockdown entah mereka percaya konspirasi elit global atau engga tapi satu negar \n",
      " virus corona kalah di taiwan dgn tanpa lockdown entah mereka percaya konspirasi elit global atau engga tapi satu negar \n",
      " virus corona kalah di taiwan dgn tanpa lockdown entah mereka percaya konspirasi elit global atau engga tapi satu negar \n",
      " virus corona kalah di taiwan dgn tanpa lockdown entah mereka percaya konspirasi elit global atau engga tapi satu negar \n",
      " virus corona kalah di taiwan dgn tanpa lockdown entah mereka percaya konspirasi elit global atau engga tapi satu negar \n",
      " virus corona kalah di taiwan dgn tanpa lockdown entah mereka percaya konspirasi elit global atau engga tapi satu negar \n",
      " virus corona kalah di taiwan dgn tanpa lockdown entah mereka percaya konspirasi elit global atau engga tapi satu negar \n",
      " virus corona kalah di taiwan dgn tanpa lockdown entah mereka percaya konspirasi elit global atau engga tapi satu negar \n"
     ]
    },
    {
     "name": "stdout",
     "output_type": "stream",
     "text": [
      " virus corona kalah di taiwan dgn tanpa lockdown entah mereka percaya konspirasi elit global atau engga tapi satu negar \n",
      " virus corona kalah di taiwan dgn tanpa lockdown entah mereka percaya konspirasi elit global atau engga tapi satu negar \n",
      " virus corona kalah di taiwan dgn tanpa lockdown entah mereka percaya konspirasi elit global atau engga tapi satu negar \n",
      " virus corona kalah di taiwan dgn tanpa lockdown entah mereka percaya konspirasi elit global atau engga tapi satu negar \n",
      " virus corona kalah di taiwan dgn tanpa lockdown entah mereka percaya konspirasi elit global atau engga tapi satu negar \n",
      " virus corona kalah di taiwan dgn tanpa lockdown entah mereka percaya konspirasi elit global atau engga tapi satu negar \n",
      " virus corona kalah di taiwan dgn tanpa lockdown entah mereka percaya konspirasi elit global atau engga tapi satu negar \n",
      " virus corona kalah di taiwan dgn tanpa lockdown entah mereka percaya konspirasi elit global atau engga tapi satu negar \n",
      " virus corona kalah di taiwan dgn tanpa lockdown entah mereka percaya konspirasi elit global atau engga tapi satu negar \n",
      " virus corona kalah di taiwan dgn tanpa lockdown entah mereka percaya konspirasi elit global atau engga tapi satu negar \n",
      " virus corona kalah di taiwan dgn tanpa lockdown entah mereka percaya konspirasi elit global atau engga tapi satu negar \n",
      " virus corona kalah di taiwan dgn tanpa lockdown entah mereka percaya konspirasi elit global atau engga tapi satu negar \n",
      " virus corona kalah di taiwan dgn tanpa lockdown entah mereka percaya konspirasi elit global atau engga tapi satu negar \n",
      " virus corona kalah di taiwan dgn tanpa lockdown entah mereka percaya konspirasi elit global atau engga tapi satu negar \n",
      " virus corona kalah di taiwan dgn tanpa lockdown entah mereka percaya konspirasi elit global atau engga tapi satu negar \n",
      " virus corona kalah di taiwan dgn tanpa lockdown entah mereka percaya konspirasi elit global atau engga tapi satu negar \n",
      " virus corona kalah di taiwan dgn tanpa lockdown entah mereka percaya konspirasi elit global atau engga tapi satu negar \n",
      " virus corona kalah di taiwan dgn tanpa lockdown entah mereka percaya konspirasi elit global atau engga tapi satu negar \n",
      " virus corona kalah di taiwan dgn tanpa lockdown entah mereka percaya konspirasi elit global atau engga tapi satu negar \n",
      " virus corona kalah di taiwan dgn tanpa lockdown entah mereka percaya konspirasi elit global atau engga tapi satu negar \n",
      " virus corona kalah di taiwan dgn tanpa lockdown entah mereka percaya konspirasi elit global atau engga tapi satu negar \n",
      " virus corona kalah di taiwan dgn tanpa lockdown entah mereka percaya konspirasi elit global atau engga tapi satu negar \n",
      " virus corona kalah di taiwan dgn tanpa lockdown entah mereka percaya konspirasi elit global atau engga tapi satu negar \n",
      " virus corona kalah di taiwan dgn tanpa lockdown entah mereka percaya konspirasi elit global atau engga tapi satu negar \n",
      " virus corona kalah di taiwan dgn tanpa lockdown entah mereka percaya konspirasi elit global atau engga tapi satu negar \n"
     ]
    }
   ],
   "source": [
    "user = []\n",
    "scores = []\n",
    "q = ['corona','covid','konspirasi corona']\n",
    "for tweet in tweepy.Cursor(api.search, q=q, lang=\"id\", result_type=\"recent\", rpp=100).items(1000):\n",
    "    user = '@'+tweet.user.screen_name\n",
    "    tw = tweet.text\n",
    "    tw = unicodedata.normalize('NFKD', tw).encode('ascii', 'ignore').decode('utf-8', 'ignore')\n",
    "    tw = re.sub('([@#][\\\\w_-]+)',' ',tw)\n",
    "    tw = re.sub(r'http\\S+',' ',tw)\n",
    "    tw = re.sub(r'[^\\w\\s]',' ',tw)\n",
    "    tw = re.sub('RT|cc', '', tw) \n",
    "    tw = re.sub(r'(.)\\\\1{2,}', r'\\\\1', tw)\n",
    "    tw = re.sub(r'\\\\b[a-zA-Z]\\\\b', ' ', tw)\n",
    "    tw = re.sub('[\\\\s]+', ' ', tw)\n",
    "    tw = tw.lower()\n",
    "    print(tw)\n",
    "    csvWriter.writerow([tweet.created_at, tw, tweet.retweet_count, tweet.favorite_count, user, tweet.user.name, tweet.user.location, tweet.user.geo_enabled, tweet.user.friends_count, tweet.user.followers_count, tweet.user.statuses_count, tweet.user.default_profile_image])"
   ]
  },
  {
   "cell_type": "markdown",
   "metadata": {},
   "source": [
    "### BOT ANALYSIS USING BOTOMETER"
   ]
  },
  {
   "cell_type": "code",
   "execution_count": 51,
   "metadata": {},
   "outputs": [],
   "source": [
    "df = pd.read_excel(\"Bot_Analysis_Clean.xlsx\")\n",
    "tweet = df[\"tweet\"]\n",
    "username = df[\"username\"]\n",
    "scores = df[\"scores\"]\n",
    "sc01 = df[scores<1.0]\n",
    "sc12 = df[(scores>=1.0) & (scores <2.0)]\n",
    "sc23 = df[(scores>=2.0) & (scores <3.0)]\n",
    "sc34 = df[(scores>=3.0) & (scores <4.0)]\n",
    "sc45 = df[scores>=4.0]"
   ]
  },
  {
   "cell_type": "code",
   "execution_count": 14,
   "metadata": {},
   "outputs": [],
   "source": [
    "bom = botometer.Botometer(wait_on_ratelimit=True,\n",
    "                          rapidapi_key=rapidapi_key,\n",
    "                          **twitter_app_auth)"
   ]
  },
  {
   "cell_type": "code",
   "execution_count": 94,
   "metadata": {},
   "outputs": [],
   "source": [
    "workbook = xlsxwriter.Workbook('Bot_Analysis_Clean.xlsx')\n",
    "worksheet = workbook.add_worksheet()\n",
    "\n",
    "col, row = 15,2"
   ]
  },
  {
   "cell_type": "code",
   "execution_count": 101,
   "metadata": {},
   "outputs": [
    {
     "ename": "KeyError",
     "evalue": "'scores'",
     "output_type": "error",
     "traceback": [
      "\u001b[1;31m---------------------------------------------------------------------------\u001b[0m",
      "\u001b[1;31mKeyError\u001b[0m                                  Traceback (most recent call last)",
      "\u001b[1;32m<ipython-input-101-a3a534afff6a>\u001b[0m in \u001b[0;36m<module>\u001b[1;34m\u001b[0m\n\u001b[0;32m      1\u001b[0m \u001b[0mi\u001b[0m \u001b[1;33m=\u001b[0m \u001b[1;36m0\u001b[0m\u001b[1;33m\u001b[0m\u001b[1;33m\u001b[0m\u001b[0m\n\u001b[0;32m      2\u001b[0m \u001b[1;32mfor\u001b[0m \u001b[0mscreen_name\u001b[0m\u001b[1;33m,\u001b[0m \u001b[0mresult\u001b[0m \u001b[1;32min\u001b[0m \u001b[0mbom\u001b[0m\u001b[1;33m.\u001b[0m\u001b[0mcheck_accounts_in\u001b[0m\u001b[1;33m(\u001b[0m\u001b[0musername\u001b[0m\u001b[1;33m)\u001b[0m\u001b[1;33m:\u001b[0m\u001b[1;33m\u001b[0m\u001b[1;33m\u001b[0m\u001b[0m\n\u001b[1;32m----> 3\u001b[1;33m     \u001b[0mscores\u001b[0m \u001b[1;33m=\u001b[0m \u001b[0mresult\u001b[0m\u001b[1;33m[\u001b[0m\u001b[1;34m'scores'\u001b[0m\u001b[1;33m]\u001b[0m\u001b[1;33m[\u001b[0m\u001b[1;34m'universal'\u001b[0m\u001b[1;33m]\u001b[0m\u001b[1;33m\u001b[0m\u001b[1;33m\u001b[0m\u001b[0m\n\u001b[0m\u001b[0;32m      4\u001b[0m \u001b[1;31m#     rowValues = [scores]\u001b[0m\u001b[1;33m\u001b[0m\u001b[1;33m\u001b[0m\u001b[1;33m\u001b[0m\u001b[0m\n\u001b[0;32m      5\u001b[0m     \u001b[0mworksheet\u001b[0m\u001b[1;33m.\u001b[0m\u001b[0mwrite_row\u001b[0m\u001b[1;33m(\u001b[0m\u001b[0mrow\u001b[0m\u001b[1;33m,\u001b[0m \u001b[0mcol\u001b[0m\u001b[1;33m,\u001b[0m \u001b[0mrowValues\u001b[0m\u001b[1;33m)\u001b[0m\u001b[1;33m\u001b[0m\u001b[1;33m\u001b[0m\u001b[0m\n",
      "\u001b[1;31mKeyError\u001b[0m: 'scores'"
     ]
    }
   ],
   "source": [
    "i = 0\n",
    "for screen_name, result in bom.check_accounts_in(username):\n",
    "    scores = result['scores']['universal']\n",
    "#     rowValues = [scores]\n",
    "    worksheet.write_row(row, col, rowValues)\n",
    "    row+= 1\n",
    "    i+=1\n",
    "workbook.close()"
   ]
  },
  {
   "cell_type": "code",
   "execution_count": 33,
   "metadata": {},
   "outputs": [
    {
     "data": {
      "text/plain": [
       "1205"
      ]
     },
     "execution_count": 33,
     "metadata": {},
     "output_type": "execute_result"
    }
   ],
   "source": [
    "len(sc01)"
   ]
  },
  {
   "cell_type": "code",
   "execution_count": 10,
   "metadata": {},
   "outputs": [
    {
     "data": {
      "text/plain": [
       "[0.4]"
      ]
     },
     "execution_count": 10,
     "metadata": {},
     "output_type": "execute_result"
    }
   ],
   "source": [
    "sc01"
   ]
  },
  {
   "cell_type": "code",
   "execution_count": 15,
   "metadata": {},
   "outputs": [
    {
     "data": {
      "text/plain": [
       "0           @Megadiah739\n",
       "1       @sambilindonesia\n",
       "2              @wilsjuni\n",
       "3           @ryolandafit\n",
       "4           @dido_myname\n",
       "              ...       \n",
       "2433     @Kodim_0410_Kbl\n",
       "2434       @galongkucing\n",
       "2435          @yohandewa\n",
       "2436       @alvinoilhami\n",
       "2437                 NaN\n",
       "Name: username, Length: 2438, dtype: object"
      ]
     },
     "execution_count": 15,
     "metadata": {},
     "output_type": "execute_result"
    }
   ],
   "source": [
    "username"
   ]
  },
  {
   "cell_type": "code",
   "execution_count": 42,
   "metadata": {},
   "outputs": [
    {
     "data": {
      "image/png": "[encoded data removed]",
      "text/plain": [
       "<Figure size 432x288 with 1 Axes>"
      ]
     },
     "metadata": {
      "needs_background": "light"
     },
     "output_type": "display_data"
    }
   ],
   "source": [
    "users = [len(sc01), len(sc12), len(sc23), len(sc34), len(sc45)]\n",
    "bot_scores = ('0 - 1', '1 - 2', '2 - 3', '3 - 4', '4 - 5')\n",
    "y_pos = np.arange(len(bot_scores))\n",
    "plt.bar(y_pos, users, color=['forestgreen', 'limegreen', 'yellowgreen', 'orange', 'red'])\n",
    "plt.title('Total Users by Bot Score')\n",
    "plt.xlabel('Bot Score')\n",
    "plt.ylabel('Users')\n",
    "plt.xticks(y_pos, bot_scores)\n",
    "plt.show()"
   ]
  },
  {
   "cell_type": "code",
   "execution_count": 67,
   "metadata": {},
   "outputs": [
    {
     "data": {
      "image/png": "[encoded data removed]",
      "text/plain": [
       "<Figure size 432x288 with 1 Axes>"
      ]
     },
     "metadata": {},
     "output_type": "display_data"
    }
   ],
   "source": [
    "labels = '0 - 1', '1 - 2', '2 - 3', '3 - 4', '4 - 5'\n",
    "sizes = [len(sc01)/len(scores)*100, len(sc12)/len(scores)*100, len(sc23)/len(scores)*100, len(sc34)/len(scores)*100,len(sc45)/len(scores)*100]\n",
    "colors = 'forestgreen', 'limegreen', 'yellowgreen', 'orange', 'red'\n",
    "fig1, ax1 = plt.subplots()\n",
    "ax1.pie(sizes, labels=labels, autopct='%1.1f%%', colors = colors,\n",
    "        shadow=True, startangle=90)\n",
    "ax1.axis('equal')  # Equal aspect ratio ensures that pie is drawn as a circle.\n",
    "\n",
    "plt.show()"
   ]
  },
  {
   "cell_type": "code",
   "execution_count": 103,
   "metadata": {},
   "outputs": [
    {
     "data": {
      "application/vnd.plotly.v1+json": {
       "config": {
        "plotlyServerURL": "https://plot.ly"
       },
       "data": [
        {
         "domain": {
          "x": [
           0,
           1
          ],
          "y": [
           0,
           1
          ]
         },
         "gauge": {
          "axis": {
           "range": [
            null,
            5
           ]
          },
          "bar": {
           "color": "white"
          },
          "steps": [
           {
            "color": "forestgreen",
            "range": [
             0,
             1
            ]
           },
           {
            "color": "limegreen",
            "range": [
             1,
             2
            ]
           },
           {
            "color": "yellowgreen",
            "range": [
             2,
             3
            ]
           },
           {
            "color": "orange",
            "range": [
             3,
             4
            ]
           },
           {
            "color": "red",
            "range": [
             4,
             5
            ]
           }
          ]
         },
         "mode": "gauge+number",
         "title": {
          "text": "Bot Score"
         },
         "type": "indicator",
         "value": 1.346468867530303
        }
       ],
       "layout": {
        "template": {
         "data": {
          "bar": [
           {
            "error_x": {
             "color": "#2a3f5f"
            },
            "error_y": {
             "color": "#2a3f5f"
            },
            "marker": {
             "line": {
              "color": "#E5ECF6",
              "width": 0.5
             }
            },
            "type": "bar"
           }
          ],
          "barpolar": [
           {
            "marker": {
             "line": {
              "color": "#E5ECF6",
              "width": 0.5
             }
            },
            "type": "barpolar"
           }
          ],
          "carpet": [
           {
            "aaxis": {
             "endlinecolor": "#2a3f5f",
             "gridcolor": "white",
             "linecolor": "white",
             "minorgridcolor": "white",
             "startlinecolor": "#2a3f5f"
            },
            "baxis": {
             "endlinecolor": "#2a3f5f",
             "gridcolor": "white",
             "linecolor": "white",
             "minorgridcolor": "white",
             "startlinecolor": "#2a3f5f"
            },
            "type": "carpet"
           }
          ],
          "choropleth": [
           {
            "colorbar": {
             "outlinewidth": 0,
             "ticks": ""
            },
            "type": "choropleth"
           }
          ],
          "contour": [
           {
            "colorbar": {
             "outlinewidth": 0,
             "ticks": ""
            },
            "colorscale": [
             [
              0,
              "#0d0887"
             ],
             [
              0.1111111111111111,
              "#46039f"
             ],
             [
              0.2222222222222222,
              "#7201a8"
             ],
             [
              0.3333333333333333,
              "#9c179e"
             ],
             [
              0.4444444444444444,
              "#bd3786"
             ],
             [
              0.5555555555555556,
              "#d8576b"
             ],
             [
              0.6666666666666666,
              "#ed7953"
             ],
             [
              0.7777777777777778,
              "#fb9f3a"
             ],
             [
              0.8888888888888888,
              "#fdca26"
             ],
             [
              1,
              "#f0f921"
             ]
            ],
            "type": "contour"
           }
          ],
          "contourcarpet": [
           {
            "colorbar": {
             "outlinewidth": 0,
             "ticks": ""
            },
            "type": "contourcarpet"
           }
          ],
          "heatmap": [
           {
            "colorbar": {
             "outlinewidth": 0,
             "ticks": ""
            },
            "colorscale": [
             [
              0,
              "#0d0887"
             ],
             [
              0.1111111111111111,
              "#46039f"
             ],
             [
              0.2222222222222222,
              "#7201a8"
             ],
             [
              0.3333333333333333,
              "#9c179e"
             ],
             [
              0.4444444444444444,
              "#bd3786"
             ],
             [
              0.5555555555555556,
              "#d8576b"
             ],
             [
              0.6666666666666666,
              "#ed7953"
             ],
             [
              0.7777777777777778,
              "#fb9f3a"
             ],
             [
              0.8888888888888888,
              "#fdca26"
             ],
             [
              1,
              "#f0f921"
             ]
            ],
            "type": "heatmap"
           }
          ],
          "heatmapgl": [
           {
            "colorbar": {
             "outlinewidth": 0,
             "ticks": ""
            },
            "colorscale": [
             [
              0,
              "#0d0887"
             ],
             [
              0.1111111111111111,
              "#46039f"
             ],
             [
              0.2222222222222222,
              "#7201a8"
             ],
             [
              0.3333333333333333,
              "#9c179e"
             ],
             [
              0.4444444444444444,
              "#bd3786"
             ],
             [
              0.5555555555555556,
              "#d8576b"
             ],
             [
              0.6666666666666666,
              "#ed7953"
             ],
             [
              0.7777777777777778,
              "#fb9f3a"
             ],
             [
              0.8888888888888888,
              "#fdca26"
             ],
             [
              1,
              "#f0f921"
             ]
            ],
            "type": "heatmapgl"
           }
          ],
          "histogram": [
           {
            "marker": {
             "colorbar": {
              "outlinewidth": 0,
              "ticks": ""
             }
            },
            "type": "histogram"
           }
          ],
          "histogram2d": [
           {
            "colorbar": {
             "outlinewidth": 0,
             "ticks": ""
            },
            "colorscale": [
             [
              0,
              "#0d0887"
             ],
             [
              0.1111111111111111,
              "#46039f"
             ],
             [
              0.2222222222222222,
              "#7201a8"
             ],
             [
              0.3333333333333333,
              "#9c179e"
             ],
             [
              0.4444444444444444,
              "#bd3786"
             ],
             [
              0.5555555555555556,
              "#d8576b"
             ],
             [
              0.6666666666666666,
              "#ed7953"
             ],
             [
              0.7777777777777778,
              "#fb9f3a"
             ],
             [
              0.8888888888888888,
              "#fdca26"
             ],
             [
              1,
              "#f0f921"
             ]
            ],
            "type": "histogram2d"
           }
          ],
          "histogram2dcontour": [
           {
            "colorbar": {
             "outlinewidth": 0,
             "ticks": ""
            },
            "colorscale": [
             [
              0,
              "#0d0887"
             ],
             [
              0.1111111111111111,
              "#46039f"
             ],
             [
              0.2222222222222222,
              "#7201a8"
             ],
             [
              0.3333333333333333,
              "#9c179e"
             ],
             [
              0.4444444444444444,
              "#bd3786"
             ],
             [
              0.5555555555555556,
              "#d8576b"
             ],
             [
              0.6666666666666666,
              "#ed7953"
             ],
             [
              0.7777777777777778,
              "#fb9f3a"
             ],
             [
              0.8888888888888888,
              "#fdca26"
             ],
             [
              1,
              "#f0f921"
             ]
            ],
            "type": "histogram2dcontour"
           }
          ],
          "mesh3d": [
           {
            "colorbar": {
             "outlinewidth": 0,
             "ticks": ""
            },
            "type": "mesh3d"
           }
          ],
          "parcoords": [
           {
            "line": {
             "colorbar": {
              "outlinewidth": 0,
              "ticks": ""
             }
            },
            "type": "parcoords"
           }
          ],
          "pie": [
           {
            "automargin": true,
            "type": "pie"
           }
          ],
          "scatter": [
           {
            "marker": {
             "colorbar": {
              "outlinewidth": 0,
              "ticks": ""
             }
            },
            "type": "scatter"
           }
          ],
          "scatter3d": [
           {
            "line": {
             "colorbar": {
              "outlinewidth": 0,
              "ticks": ""
             }
            },
            "marker": {
             "colorbar": {
              "outlinewidth": 0,
              "ticks": ""
             }
            },
            "type": "scatter3d"
           }
          ],
          "scattercarpet": [
           {
            "marker": {
             "colorbar": {
              "outlinewidth": 0,
              "ticks": ""
             }
            },
            "type": "scattercarpet"
           }
          ],
          "scattergeo": [
           {
            "marker": {
             "colorbar": {
              "outlinewidth": 0,
              "ticks": ""
             }
            },
            "type": "scattergeo"
           }
          ],
          "scattergl": [
           {
            "marker": {
             "colorbar": {
              "outlinewidth": 0,
              "ticks": ""
             }
            },
            "type": "scattergl"
           }
          ],
          "scattermapbox": [
           {
            "marker": {
             "colorbar": {
              "outlinewidth": 0,
              "ticks": ""
             }
            },
            "type": "scattermapbox"
           }
          ],
          "scatterpolar": [
           {
            "marker": {
             "colorbar": {
              "outlinewidth": 0,
              "ticks": ""
             }
            },
            "type": "scatterpolar"
           }
          ],
          "scatterpolargl": [
           {
            "marker": {
             "colorbar": {
              "outlinewidth": 0,
              "ticks": ""
             }
            },
            "type": "scatterpolargl"
           }
          ],
          "scatterternary": [
           {
            "marker": {
             "colorbar": {
              "outlinewidth": 0,
              "ticks": ""
             }
            },
            "type": "scatterternary"
           }
          ],
          "surface": [
           {
            "colorbar": {
             "outlinewidth": 0,
             "ticks": ""
            },
            "colorscale": [
             [
              0,
              "#0d0887"
             ],
             [
              0.1111111111111111,
              "#46039f"
             ],
             [
              0.2222222222222222,
              "#7201a8"
             ],
             [
              0.3333333333333333,
              "#9c179e"
             ],
             [
              0.4444444444444444,
              "#bd3786"
             ],
             [
              0.5555555555555556,
              "#d8576b"
             ],
             [
              0.6666666666666666,
              "#ed7953"
             ],
             [
              0.7777777777777778,
              "#fb9f3a"
             ],
             [
              0.8888888888888888,
              "#fdca26"
             ],
             [
              1,
              "#f0f921"
             ]
            ],
            "type": "surface"
           }
          ],
          "table": [
           {
            "cells": {
             "fill": {
              "color": "#EBF0F8"
             },
             "line": {
              "color": "white"
             }
            },
            "header": {
             "fill": {
              "color": "#C8D4E3"
             },
             "line": {
              "color": "white"
             }
            },
            "type": "table"
           }
          ]
         },
         "layout": {
          "annotationdefaults": {
           "arrowcolor": "#2a3f5f",
           "arrowhead": 0,
           "arrowwidth": 1
          },
          "coloraxis": {
           "colorbar": {
            "outlinewidth": 0,
            "ticks": ""
           }
          },
          "colorscale": {
           "diverging": [
            [
             0,
             "#8e0152"
            ],
            [
             0.1,
             "#c51b7d"
            ],
            [
             0.2,
             "#de77ae"
            ],
            [
             0.3,
             "#f1b6da"
            ],
            [
             0.4,
             "#fde0ef"
            ],
            [
             0.5,
             "#f7f7f7"
            ],
            [
             0.6,
             "#e6f5d0"
            ],
            [
             0.7,
             "#b8e186"
            ],
            [
             0.8,
             "#7fbc41"
            ],
            [
             0.9,
             "#4d9221"
            ],
            [
             1,
             "#276419"
            ]
           ],
           "sequential": [
            [
             0,
             "#0d0887"
            ],
            [
             0.1111111111111111,
             "#46039f"
            ],
            [
             0.2222222222222222,
             "#7201a8"
            ],
            [
             0.3333333333333333,
             "#9c179e"
            ],
            [
             0.4444444444444444,
             "#bd3786"
            ],
            [
             0.5555555555555556,
             "#d8576b"
            ],
            [
             0.6666666666666666,
             "#ed7953"
            ],
            [
             0.7777777777777778,
             "#fb9f3a"
            ],
            [
             0.8888888888888888,
             "#fdca26"
            ],
            [
             1,
             "#f0f921"
            ]
           ],
           "sequentialminus": [
            [
             0,
             "#0d0887"
            ],
            [
             0.1111111111111111,
             "#46039f"
            ],
            [
             0.2222222222222222,
             "#7201a8"
            ],
            [
             0.3333333333333333,
             "#9c179e"
            ],
            [
             0.4444444444444444,
             "#bd3786"
            ],
            [
             0.5555555555555556,
             "#d8576b"
            ],
            [
             0.6666666666666666,
             "#ed7953"
            ],
            [
             0.7777777777777778,
             "#fb9f3a"
            ],
            [
             0.8888888888888888,
             "#fdca26"
            ],
            [
             1,
             "#f0f921"
            ]
           ]
          },
          "colorway": [
           "#636efa",
           "#EF553B",
           "#00cc96",
           "#ab63fa",
           "#FFA15A",
           "#19d3f3",
           "#FF6692",
           "#B6E880",
           "#FF97FF",
           "#FECB52"
          ],
          "font": {
           "color": "#2a3f5f"
          },
          "geo": {
           "bgcolor": "white",
           "lakecolor": "white",
           "landcolor": "#E5ECF6",
           "showlakes": true,
           "showland": true,
           "subunitcolor": "white"
          },
          "hoverlabel": {
           "align": "left"
          },
          "hovermode": "closest",
          "mapbox": {
           "style": "light"
          },
          "paper_bgcolor": "white",
          "plot_bgcolor": "#E5ECF6",
          "polar": {
           "angularaxis": {
            "gridcolor": "white",
            "linecolor": "white",
            "ticks": ""
           },
           "bgcolor": "#E5ECF6",
           "radialaxis": {
            "gridcolor": "white",
            "linecolor": "white",
            "ticks": ""
           }
          },
          "scene": {
           "xaxis": {
            "backgroundcolor": "#E5ECF6",
            "gridcolor": "white",
            "gridwidth": 2,
            "linecolor": "white",
            "showbackground": true,
            "ticks": "",
            "zerolinecolor": "white"
           },
           "yaxis": {
            "backgroundcolor": "#E5ECF6",
            "gridcolor": "white",
            "gridwidth": 2,
            "linecolor": "white",
            "showbackground": true,
            "ticks": "",
            "zerolinecolor": "white"
           },
           "zaxis": {
            "backgroundcolor": "#E5ECF6",
            "gridcolor": "white",
            "gridwidth": 2,
            "linecolor": "white",
            "showbackground": true,
            "ticks": "",
            "zerolinecolor": "white"
           }
          },
          "shapedefaults": {
           "line": {
            "color": "#2a3f5f"
           }
          },
          "ternary": {
           "aaxis": {
            "gridcolor": "white",
            "linecolor": "white",
            "ticks": ""
           },
           "baxis": {
            "gridcolor": "white",
            "linecolor": "white",
            "ticks": ""
           },
           "bgcolor": "#E5ECF6",
           "caxis": {
            "gridcolor": "white",
            "linecolor": "white",
            "ticks": ""
           }
          },
          "title": {
           "x": 0.05
          },
          "xaxis": {
           "automargin": true,
           "gridcolor": "white",
           "linecolor": "white",
           "ticks": "",
           "title": {
            "standoff": 15
           },
           "zerolinecolor": "white",
           "zerolinewidth": 2
          },
          "yaxis": {
           "automargin": true,
           "gridcolor": "white",
           "linecolor": "white",
           "ticks": "",
           "title": {
            "standoff": 15
           },
           "zerolinecolor": "white",
           "zerolinewidth": 2
          }
         }
        }
       }
      },
      "text/html": [
       "<div>\n",
       "        \n",
       "        \n",
       "            <div id=\"ea72a542-e480-44d8-8a3d-305632302ce1\" class=\"plotly-graph-div\" style=\"height:525px; width:100%;\"></div>\n",
       "            <script type=\"text/javascript\">\n",
       "                require([\"plotly\"], function(Plotly) {\n",
       "                    window.PLOTLYENV=window.PLOTLYENV || {};\n",
       "                    \n",
       "                if (document.getElementById(\"ea72a542-e480-44d8-8a3d-305632302ce1\")) {\n",
       "                    Plotly.newPlot(\n",
       "                        'ea72a542-e480-44d8-8a3d-305632302ce1',\n",
       "                        [{\"domain\": {\"x\": [0, 1], \"y\": [0, 1]}, \"gauge\": {\"axis\": {\"range\": [null, 5]}, \"bar\": {\"color\": \"white\"}, \"steps\": [{\"color\": \"forestgreen\", \"range\": [0, 1]}, {\"color\": \"limegreen\", \"range\": [1, 2]}, {\"color\": \"yellowgreen\", \"range\": [2, 3]}, {\"color\": \"orange\", \"range\": [3, 4]}, {\"color\": \"red\", \"range\": [4, 5]}]}, \"mode\": \"gauge+number\", \"title\": {\"text\": \"Bot Score\"}, \"type\": \"indicator\", \"value\": 1.346468867530303}],\n",
       "                        {\"template\": {\"data\": {\"bar\": [{\"error_x\": {\"color\": \"#2a3f5f\"}, \"error_y\": {\"color\": \"#2a3f5f\"}, \"marker\": {\"line\": {\"color\": \"#E5ECF6\", \"width\": 0.5}}, \"type\": \"bar\"}], \"barpolar\": [{\"marker\": {\"line\": {\"color\": \"#E5ECF6\", \"width\": 0.5}}, \"type\": \"barpolar\"}], \"carpet\": [{\"aaxis\": {\"endlinecolor\": \"#2a3f5f\", \"gridcolor\": \"white\", \"linecolor\": \"white\", \"minorgridcolor\": \"white\", \"startlinecolor\": \"#2a3f5f\"}, \"baxis\": {\"endlinecolor\": \"#2a3f5f\", \"gridcolor\": \"white\", \"linecolor\": \"white\", \"minorgridcolor\": \"white\", \"startlinecolor\": \"#2a3f5f\"}, \"type\": \"carpet\"}], \"choropleth\": [{\"colorbar\": {\"outlinewidth\": 0, \"ticks\": \"\"}, \"type\": \"choropleth\"}], \"contour\": [{\"colorbar\": {\"outlinewidth\": 0, \"ticks\": \"\"}, \"colorscale\": [[0.0, \"#0d0887\"], [0.1111111111111111, \"#46039f\"], [0.2222222222222222, \"#7201a8\"], [0.3333333333333333, \"#9c179e\"], [0.4444444444444444, \"#bd3786\"], [0.5555555555555556, \"#d8576b\"], [0.6666666666666666, \"#ed7953\"], [0.7777777777777778, \"#fb9f3a\"], [0.8888888888888888, \"#fdca26\"], [1.0, \"#f0f921\"]], \"type\": \"contour\"}], \"contourcarpet\": [{\"colorbar\": {\"outlinewidth\": 0, \"ticks\": \"\"}, \"type\": \"contourcarpet\"}], \"heatmap\": [{\"colorbar\": {\"outlinewidth\": 0, \"ticks\": \"\"}, \"colorscale\": [[0.0, \"#0d0887\"], [0.1111111111111111, \"#46039f\"], [0.2222222222222222, \"#7201a8\"], [0.3333333333333333, \"#9c179e\"], [0.4444444444444444, \"#bd3786\"], [0.5555555555555556, \"#d8576b\"], [0.6666666666666666, \"#ed7953\"], [0.7777777777777778, \"#fb9f3a\"], [0.8888888888888888, \"#fdca26\"], [1.0, \"#f0f921\"]], \"type\": \"heatmap\"}], \"heatmapgl\": [{\"colorbar\": {\"outlinewidth\": 0, \"ticks\": \"\"}, \"colorscale\": [[0.0, \"#0d0887\"], [0.1111111111111111, \"#46039f\"], [0.2222222222222222, \"#7201a8\"], [0.3333333333333333, \"#9c179e\"], [0.4444444444444444, \"#bd3786\"], [0.5555555555555556, \"#d8576b\"], [0.6666666666666666, \"#ed7953\"], [0.7777777777777778, \"#fb9f3a\"], [0.8888888888888888, \"#fdca26\"], [1.0, \"#f0f921\"]], \"type\": \"heatmapgl\"}], \"histogram\": [{\"marker\": {\"colorbar\": {\"outlinewidth\": 0, \"ticks\": \"\"}}, \"type\": \"histogram\"}], \"histogram2d\": [{\"colorbar\": {\"outlinewidth\": 0, \"ticks\": \"\"}, \"colorscale\": [[0.0, \"#0d0887\"], [0.1111111111111111, \"#46039f\"], [0.2222222222222222, \"#7201a8\"], [0.3333333333333333, \"#9c179e\"], [0.4444444444444444, \"#bd3786\"], [0.5555555555555556, \"#d8576b\"], [0.6666666666666666, \"#ed7953\"], [0.7777777777777778, \"#fb9f3a\"], [0.8888888888888888, \"#fdca26\"], [1.0, \"#f0f921\"]], \"type\": \"histogram2d\"}], \"histogram2dcontour\": [{\"colorbar\": {\"outlinewidth\": 0, \"ticks\": \"\"}, \"colorscale\": [[0.0, \"#0d0887\"], [0.1111111111111111, \"#46039f\"], [0.2222222222222222, \"#7201a8\"], [0.3333333333333333, \"#9c179e\"], [0.4444444444444444, \"#bd3786\"], [0.5555555555555556, \"#d8576b\"], [0.6666666666666666, \"#ed7953\"], [0.7777777777777778, \"#fb9f3a\"], [0.8888888888888888, \"#fdca26\"], [1.0, \"#f0f921\"]], \"type\": \"histogram2dcontour\"}], \"mesh3d\": [{\"colorbar\": {\"outlinewidth\": 0, \"ticks\": \"\"}, \"type\": \"mesh3d\"}], \"parcoords\": [{\"line\": {\"colorbar\": {\"outlinewidth\": 0, \"ticks\": \"\"}}, \"type\": \"parcoords\"}], \"pie\": [{\"automargin\": true, \"type\": \"pie\"}], \"scatter\": [{\"marker\": {\"colorbar\": {\"outlinewidth\": 0, \"ticks\": \"\"}}, \"type\": \"scatter\"}], \"scatter3d\": [{\"line\": {\"colorbar\": {\"outlinewidth\": 0, \"ticks\": \"\"}}, \"marker\": {\"colorbar\": {\"outlinewidth\": 0, \"ticks\": \"\"}}, \"type\": \"scatter3d\"}], \"scattercarpet\": [{\"marker\": {\"colorbar\": {\"outlinewidth\": 0, \"ticks\": \"\"}}, \"type\": \"scattercarpet\"}], \"scattergeo\": [{\"marker\": {\"colorbar\": {\"outlinewidth\": 0, \"ticks\": \"\"}}, \"type\": \"scattergeo\"}], \"scattergl\": [{\"marker\": {\"colorbar\": {\"outlinewidth\": 0, \"ticks\": \"\"}}, \"type\": \"scattergl\"}], \"scattermapbox\": [{\"marker\": {\"colorbar\": {\"outlinewidth\": 0, \"ticks\": \"\"}}, \"type\": \"scattermapbox\"}], \"scatterpolar\": [{\"marker\": {\"colorbar\": {\"outlinewidth\": 0, \"ticks\": \"\"}}, \"type\": \"scatterpolar\"}], \"scatterpolargl\": [{\"marker\": {\"colorbar\": {\"outlinewidth\": 0, \"ticks\": \"\"}}, \"type\": \"scatterpolargl\"}], \"scatterternary\": [{\"marker\": {\"colorbar\": {\"outlinewidth\": 0, \"ticks\": \"\"}}, \"type\": \"scatterternary\"}], \"surface\": [{\"colorbar\": {\"outlinewidth\": 0, \"ticks\": \"\"}, \"colorscale\": [[0.0, \"#0d0887\"], [0.1111111111111111, \"#46039f\"], [0.2222222222222222, \"#7201a8\"], [0.3333333333333333, \"#9c179e\"], [0.4444444444444444, \"#bd3786\"], [0.5555555555555556, \"#d8576b\"], [0.6666666666666666, \"#ed7953\"], [0.7777777777777778, \"#fb9f3a\"], [0.8888888888888888, \"#fdca26\"], [1.0, \"#f0f921\"]], \"type\": \"surface\"}], \"table\": [{\"cells\": {\"fill\": {\"color\": \"#EBF0F8\"}, \"line\": {\"color\": \"white\"}}, \"header\": {\"fill\": {\"color\": \"#C8D4E3\"}, \"line\": {\"color\": \"white\"}}, \"type\": \"table\"}]}, \"layout\": {\"annotationdefaults\": {\"arrowcolor\": \"#2a3f5f\", \"arrowhead\": 0, \"arrowwidth\": 1}, \"coloraxis\": {\"colorbar\": {\"outlinewidth\": 0, \"ticks\": \"\"}}, \"colorscale\": {\"diverging\": [[0, \"#8e0152\"], [0.1, \"#c51b7d\"], [0.2, \"#de77ae\"], [0.3, \"#f1b6da\"], [0.4, \"#fde0ef\"], [0.5, \"#f7f7f7\"], [0.6, \"#e6f5d0\"], [0.7, \"#b8e186\"], [0.8, \"#7fbc41\"], [0.9, \"#4d9221\"], [1, \"#276419\"]], \"sequential\": [[0.0, \"#0d0887\"], [0.1111111111111111, \"#46039f\"], [0.2222222222222222, \"#7201a8\"], [0.3333333333333333, \"#9c179e\"], [0.4444444444444444, \"#bd3786\"], [0.5555555555555556, \"#d8576b\"], [0.6666666666666666, \"#ed7953\"], [0.7777777777777778, \"#fb9f3a\"], [0.8888888888888888, \"#fdca26\"], [1.0, \"#f0f921\"]], \"sequentialminus\": [[0.0, \"#0d0887\"], [0.1111111111111111, \"#46039f\"], [0.2222222222222222, \"#7201a8\"], [0.3333333333333333, \"#9c179e\"], [0.4444444444444444, \"#bd3786\"], [0.5555555555555556, \"#d8576b\"], [0.6666666666666666, \"#ed7953\"], [0.7777777777777778, \"#fb9f3a\"], [0.8888888888888888, \"#fdca26\"], [1.0, \"#f0f921\"]]}, \"colorway\": [\"#636efa\", \"#EF553B\", \"#00cc96\", \"#ab63fa\", \"#FFA15A\", \"#19d3f3\", \"#FF6692\", \"#B6E880\", \"#FF97FF\", \"#FECB52\"], \"font\": {\"color\": \"#2a3f5f\"}, \"geo\": {\"bgcolor\": \"white\", \"lakecolor\": \"white\", \"landcolor\": \"#E5ECF6\", \"showlakes\": true, \"showland\": true, \"subunitcolor\": \"white\"}, \"hoverlabel\": {\"align\": \"left\"}, \"hovermode\": \"closest\", \"mapbox\": {\"style\": \"light\"}, \"paper_bgcolor\": \"white\", \"plot_bgcolor\": \"#E5ECF6\", \"polar\": {\"angularaxis\": {\"gridcolor\": \"white\", \"linecolor\": \"white\", \"ticks\": \"\"}, \"bgcolor\": \"#E5ECF6\", \"radialaxis\": {\"gridcolor\": \"white\", \"linecolor\": \"white\", \"ticks\": \"\"}}, \"scene\": {\"xaxis\": {\"backgroundcolor\": \"#E5ECF6\", \"gridcolor\": \"white\", \"gridwidth\": 2, \"linecolor\": \"white\", \"showbackground\": true, \"ticks\": \"\", \"zerolinecolor\": \"white\"}, \"yaxis\": {\"backgroundcolor\": \"#E5ECF6\", \"gridcolor\": \"white\", \"gridwidth\": 2, \"linecolor\": \"white\", \"showbackground\": true, \"ticks\": \"\", \"zerolinecolor\": \"white\"}, \"zaxis\": {\"backgroundcolor\": \"#E5ECF6\", \"gridcolor\": \"white\", \"gridwidth\": 2, \"linecolor\": \"white\", \"showbackground\": true, \"ticks\": \"\", \"zerolinecolor\": \"white\"}}, \"shapedefaults\": {\"line\": {\"color\": \"#2a3f5f\"}}, \"ternary\": {\"aaxis\": {\"gridcolor\": \"white\", \"linecolor\": \"white\", \"ticks\": \"\"}, \"baxis\": {\"gridcolor\": \"white\", \"linecolor\": \"white\", \"ticks\": \"\"}, \"bgcolor\": \"#E5ECF6\", \"caxis\": {\"gridcolor\": \"white\", \"linecolor\": \"white\", \"ticks\": \"\"}}, \"title\": {\"x\": 0.05}, \"xaxis\": {\"automargin\": true, \"gridcolor\": \"white\", \"linecolor\": \"white\", \"ticks\": \"\", \"title\": {\"standoff\": 15}, \"zerolinecolor\": \"white\", \"zerolinewidth\": 2}, \"yaxis\": {\"automargin\": true, \"gridcolor\": \"white\", \"linecolor\": \"white\", \"ticks\": \"\", \"title\": {\"standoff\": 15}, \"zerolinecolor\": \"white\", \"zerolinewidth\": 2}}}},\n",
       "                        {\"responsive\": true}\n",
       "                    ).then(function(){\n",
       "                            \n",
       "var gd = document.getElementById('ea72a542-e480-44d8-8a3d-305632302ce1');\n",
       "var x = new MutationObserver(function (mutations, observer) {{\n",
       "        var display = window.getComputedStyle(gd).display;\n",
       "        if (!display || display === 'none') {{\n",
       "            console.log([gd, 'removed!']);\n",
       "            Plotly.purge(gd);\n",
       "            observer.disconnect();\n",
       "        }}\n",
       "}});\n",
       "\n",
       "// Listen for the removal of the full notebook cells\n",
       "var notebookContainer = gd.closest('#notebook-container');\n",
       "if (notebookContainer) {{\n",
       "    x.observe(notebookContainer, {childList: true});\n",
       "}}\n",
       "\n",
       "// Listen for the clearing of the current output cell\n",
       "var outputEl = gd.closest('.output');\n",
       "if (outputEl) {{\n",
       "    x.observe(outputEl, {childList: true});\n",
       "}}\n",
       "\n",
       "                        })\n",
       "                };\n",
       "                });\n",
       "            </script>\n",
       "        </div>"
      ]
     },
     "metadata": {},
     "output_type": "display_data"
    }
   ],
   "source": [
    "fig = go.Figure(go.Indicator(\n",
    "    domain = {'x': [0, 1], 'y': [0, 1]},\n",
    "    value = df[\"scores\"].mean(),\n",
    "    mode = \"gauge+number\",\n",
    "    title = {'text': \"Bot Score\"},\n",
    "    gauge = {'axis': {'range': [None, 5]},\n",
    "             'bar': {'color': \"white\"},\n",
    "             'steps' : [\n",
    "                 {'range': [0, 1], 'color': \"forestgreen\"},\n",
    "                 {'range': [1, 2], 'color': \"limegreen\"},\n",
    "                 {'range': [2, 3], 'color': \"yellowgreen\"},\n",
    "                 {'range': [3, 4], 'color': \"orange\"},\n",
    "                 {'range': [4, 5], 'color': \"red\"}]}))\n",
    "fig.show()"
   ]
  },
  {
   "cell_type": "markdown",
   "metadata": {},
   "source": [
    "### ANALISA AKUN BOT"
   ]
  },
  {
   "cell_type": "code",
   "execution_count": 171,
   "metadata": {},
   "outputs": [],
   "source": [
    "followers45_less30 = sc45[sc45[\"followers\"]<=30]\n",
    "followers45_more30 = sc45[sc45[\"followers\"]>30]\n",
    "status45_less50 = sc45[sc45[\"statuses_count\"]<50]\n",
    "status45_more50 = sc45[sc45[\"statuses_count\"]>50]\n",
    "location45_null = sc45[sc45[\"location\"].isnull()]\n",
    "location45_notnull = sc45[sc45[\"location\"].notnull()]\n",
    "geo45_true = sc45[sc45[\"geo_enabled\"]==1]\n",
    "geo45_false = sc45[sc45[\"geo_enabled\"]==0]\n",
    "img45_true = sc45[sc45[\"default_profil_img\"]==1]\n",
    "img45_false = sc45[sc45[\"default_profil_img\"]==0]\n",
    "ratio45_more10 = sc45[sc45[\"ratio\"]>10]\n",
    "ratio45_less10 = sc45[sc45[\"ratio\"]<10]"
   ]
  },
  {
   "cell_type": "code",
   "execution_count": 202,
   "metadata": {},
   "outputs": [
    {
     "data": {
      "application/vnd.plotly.v1+json": {
       "config": {
        "plotlyServerURL": "https://plot.ly"
       },
       "data": [
        {
         "orientation": "h",
         "type": "bar",
         "x": [
          73,
          42,
          61,
          97,
          10,
          28
         ],
         "y": [
          "followers",
          "status",
          "location",
          "geo enabled",
          "default image",
          "ratio"
         ]
        }
       ],
       "layout": {
        "template": {
         "data": {
          "bar": [
           {
            "error_x": {
             "color": "#2a3f5f"
            },
            "error_y": {
             "color": "#2a3f5f"
            },
            "marker": {
             "line": {
              "color": "#E5ECF6",
              "width": 0.5
             }
            },
            "type": "bar"
           }
          ],
          "barpolar": [
           {
            "marker": {
             "line": {
              "color": "#E5ECF6",
              "width": 0.5
             }
            },
            "type": "barpolar"
           }
          ],
          "carpet": [
           {
            "aaxis": {
             "endlinecolor": "#2a3f5f",
             "gridcolor": "white",
             "linecolor": "white",
             "minorgridcolor": "white",
             "startlinecolor": "#2a3f5f"
            },
            "baxis": {
             "endlinecolor": "#2a3f5f",
             "gridcolor": "white",
             "linecolor": "white",
             "minorgridcolor": "white",
             "startlinecolor": "#2a3f5f"
            },
            "type": "carpet"
           }
          ],
          "choropleth": [
           {
            "colorbar": {
             "outlinewidth": 0,
             "ticks": ""
            },
            "type": "choropleth"
           }
          ],
          "contour": [
           {
            "colorbar": {
             "outlinewidth": 0,
             "ticks": ""
            },
            "colorscale": [
             [
              0,
              "#0d0887"
             ],
             [
              0.1111111111111111,
              "#46039f"
             ],
             [
              0.2222222222222222,
              "#7201a8"
             ],
             [
              0.3333333333333333,
              "#9c179e"
             ],
             [
              0.4444444444444444,
              "#bd3786"
             ],
             [
              0.5555555555555556,
              "#d8576b"
             ],
             [
              0.6666666666666666,
              "#ed7953"
             ],
             [
              0.7777777777777778,
              "#fb9f3a"
             ],
             [
              0.8888888888888888,
              "#fdca26"
             ],
             [
              1,
              "#f0f921"
             ]
            ],
            "type": "contour"
           }
          ],
          "contourcarpet": [
           {
            "colorbar": {
             "outlinewidth": 0,
             "ticks": ""
            },
            "type": "contourcarpet"
           }
          ],
          "heatmap": [
           {
            "colorbar": {
             "outlinewidth": 0,
             "ticks": ""
            },
            "colorscale": [
             [
              0,
              "#0d0887"
             ],
             [
              0.1111111111111111,
              "#46039f"
             ],
             [
              0.2222222222222222,
              "#7201a8"
             ],
             [
              0.3333333333333333,
              "#9c179e"
             ],
             [
              0.4444444444444444,
              "#bd3786"
             ],
             [
              0.5555555555555556,
              "#d8576b"
             ],
             [
              0.6666666666666666,
              "#ed7953"
             ],
             [
              0.7777777777777778,
              "#fb9f3a"
             ],
             [
              0.8888888888888888,
              "#fdca26"
             ],
             [
              1,
              "#f0f921"
             ]
            ],
            "type": "heatmap"
           }
          ],
          "heatmapgl": [
           {
            "colorbar": {
             "outlinewidth": 0,
             "ticks": ""
            },
            "colorscale": [
             [
              0,
              "#0d0887"
             ],
             [
              0.1111111111111111,
              "#46039f"
             ],
             [
              0.2222222222222222,
              "#7201a8"
             ],
             [
              0.3333333333333333,
              "#9c179e"
             ],
             [
              0.4444444444444444,
              "#bd3786"
             ],
             [
              0.5555555555555556,
              "#d8576b"
             ],
             [
              0.6666666666666666,
              "#ed7953"
             ],
             [
              0.7777777777777778,
              "#fb9f3a"
             ],
             [
              0.8888888888888888,
              "#fdca26"
             ],
             [
              1,
              "#f0f921"
             ]
            ],
            "type": "heatmapgl"
           }
          ],
          "histogram": [
           {
            "marker": {
             "colorbar": {
              "outlinewidth": 0,
              "ticks": ""
             }
            },
            "type": "histogram"
           }
          ],
          "histogram2d": [
           {
            "colorbar": {
             "outlinewidth": 0,
             "ticks": ""
            },
            "colorscale": [
             [
              0,
              "#0d0887"
             ],
             [
              0.1111111111111111,
              "#46039f"
             ],
             [
              0.2222222222222222,
              "#7201a8"
             ],
             [
              0.3333333333333333,
              "#9c179e"
             ],
             [
              0.4444444444444444,
              "#bd3786"
             ],
             [
              0.5555555555555556,
              "#d8576b"
             ],
             [
              0.6666666666666666,
              "#ed7953"
             ],
             [
              0.7777777777777778,
              "#fb9f3a"
             ],
             [
              0.8888888888888888,
              "#fdca26"
             ],
             [
              1,
              "#f0f921"
             ]
            ],
            "type": "histogram2d"
           }
          ],
          "histogram2dcontour": [
           {
            "colorbar": {
             "outlinewidth": 0,
             "ticks": ""
            },
            "colorscale": [
             [
              0,
              "#0d0887"
             ],
             [
              0.1111111111111111,
              "#46039f"
             ],
             [
              0.2222222222222222,
              "#7201a8"
             ],
             [
              0.3333333333333333,
              "#9c179e"
             ],
             [
              0.4444444444444444,
              "#bd3786"
             ],
             [
              0.5555555555555556,
              "#d8576b"
             ],
             [
              0.6666666666666666,
              "#ed7953"
             ],
             [
              0.7777777777777778,
              "#fb9f3a"
             ],
             [
              0.8888888888888888,
              "#fdca26"
             ],
             [
              1,
              "#f0f921"
             ]
            ],
            "type": "histogram2dcontour"
           }
          ],
          "mesh3d": [
           {
            "colorbar": {
             "outlinewidth": 0,
             "ticks": ""
            },
            "type": "mesh3d"
           }
          ],
          "parcoords": [
           {
            "line": {
             "colorbar": {
              "outlinewidth": 0,
              "ticks": ""
             }
            },
            "type": "parcoords"
           }
          ],
          "pie": [
           {
            "automargin": true,
            "type": "pie"
           }
          ],
          "scatter": [
           {
            "marker": {
             "colorbar": {
              "outlinewidth": 0,
              "ticks": ""
             }
            },
            "type": "scatter"
           }
          ],
          "scatter3d": [
           {
            "line": {
             "colorbar": {
              "outlinewidth": 0,
              "ticks": ""
             }
            },
            "marker": {
             "colorbar": {
              "outlinewidth": 0,
              "ticks": ""
             }
            },
            "type": "scatter3d"
           }
          ],
          "scattercarpet": [
           {
            "marker": {
             "colorbar": {
              "outlinewidth": 0,
              "ticks": ""
             }
            },
            "type": "scattercarpet"
           }
          ],
          "scattergeo": [
           {
            "marker": {
             "colorbar": {
              "outlinewidth": 0,
              "ticks": ""
             }
            },
            "type": "scattergeo"
           }
          ],
          "scattergl": [
           {
            "marker": {
             "colorbar": {
              "outlinewidth": 0,
              "ticks": ""
             }
            },
            "type": "scattergl"
           }
          ],
          "scattermapbox": [
           {
            "marker": {
             "colorbar": {
              "outlinewidth": 0,
              "ticks": ""
             }
            },
            "type": "scattermapbox"
           }
          ],
          "scatterpolar": [
           {
            "marker": {
             "colorbar": {
              "outlinewidth": 0,
              "ticks": ""
             }
            },
            "type": "scatterpolar"
           }
          ],
          "scatterpolargl": [
           {
            "marker": {
             "colorbar": {
              "outlinewidth": 0,
              "ticks": ""
             }
            },
            "type": "scatterpolargl"
           }
          ],
          "scatterternary": [
           {
            "marker": {
             "colorbar": {
              "outlinewidth": 0,
              "ticks": ""
             }
            },
            "type": "scatterternary"
           }
          ],
          "surface": [
           {
            "colorbar": {
             "outlinewidth": 0,
             "ticks": ""
            },
            "colorscale": [
             [
              0,
              "#0d0887"
             ],
             [
              0.1111111111111111,
              "#46039f"
             ],
             [
              0.2222222222222222,
              "#7201a8"
             ],
             [
              0.3333333333333333,
              "#9c179e"
             ],
             [
              0.4444444444444444,
              "#bd3786"
             ],
             [
              0.5555555555555556,
              "#d8576b"
             ],
             [
              0.6666666666666666,
              "#ed7953"
             ],
             [
              0.7777777777777778,
              "#fb9f3a"
             ],
             [
              0.8888888888888888,
              "#fdca26"
             ],
             [
              1,
              "#f0f921"
             ]
            ],
            "type": "surface"
           }
          ],
          "table": [
           {
            "cells": {
             "fill": {
              "color": "#EBF0F8"
             },
             "line": {
              "color": "white"
             }
            },
            "header": {
             "fill": {
              "color": "#C8D4E3"
             },
             "line": {
              "color": "white"
             }
            },
            "type": "table"
           }
          ]
         },
         "layout": {
          "annotationdefaults": {
           "arrowcolor": "#2a3f5f",
           "arrowhead": 0,
           "arrowwidth": 1
          },
          "coloraxis": {
           "colorbar": {
            "outlinewidth": 0,
            "ticks": ""
           }
          },
          "colorscale": {
           "diverging": [
            [
             0,
             "#8e0152"
            ],
            [
             0.1,
             "#c51b7d"
            ],
            [
             0.2,
             "#de77ae"
            ],
            [
             0.3,
             "#f1b6da"
            ],
            [
             0.4,
             "#fde0ef"
            ],
            [
             0.5,
             "#f7f7f7"
            ],
            [
             0.6,
             "#e6f5d0"
            ],
            [
             0.7,
             "#b8e186"
            ],
            [
             0.8,
             "#7fbc41"
            ],
            [
             0.9,
             "#4d9221"
            ],
            [
             1,
             "#276419"
            ]
           ],
           "sequential": [
            [
             0,
             "#0d0887"
            ],
            [
             0.1111111111111111,
             "#46039f"
            ],
            [
             0.2222222222222222,
             "#7201a8"
            ],
            [
             0.3333333333333333,
             "#9c179e"
            ],
            [
             0.4444444444444444,
             "#bd3786"
            ],
            [
             0.5555555555555556,
             "#d8576b"
            ],
            [
             0.6666666666666666,
             "#ed7953"
            ],
            [
             0.7777777777777778,
             "#fb9f3a"
            ],
            [
             0.8888888888888888,
             "#fdca26"
            ],
            [
             1,
             "#f0f921"
            ]
           ],
           "sequentialminus": [
            [
             0,
             "#0d0887"
            ],
            [
             0.1111111111111111,
             "#46039f"
            ],
            [
             0.2222222222222222,
             "#7201a8"
            ],
            [
             0.3333333333333333,
             "#9c179e"
            ],
            [
             0.4444444444444444,
             "#bd3786"
            ],
            [
             0.5555555555555556,
             "#d8576b"
            ],
            [
             0.6666666666666666,
             "#ed7953"
            ],
            [
             0.7777777777777778,
             "#fb9f3a"
            ],
            [
             0.8888888888888888,
             "#fdca26"
            ],
            [
             1,
             "#f0f921"
            ]
           ]
          },
          "colorway": [
           "#636efa",
           "#EF553B",
           "#00cc96",
           "#ab63fa",
           "#FFA15A",
           "#19d3f3",
           "#FF6692",
           "#B6E880",
           "#FF97FF",
           "#FECB52"
          ],
          "font": {
           "color": "#2a3f5f"
          },
          "geo": {
           "bgcolor": "white",
           "lakecolor": "white",
           "landcolor": "#E5ECF6",
           "showlakes": true,
           "showland": true,
           "subunitcolor": "white"
          },
          "hoverlabel": {
           "align": "left"
          },
          "hovermode": "closest",
          "mapbox": {
           "style": "light"
          },
          "paper_bgcolor": "white",
          "plot_bgcolor": "#E5ECF6",
          "polar": {
           "angularaxis": {
            "gridcolor": "white",
            "linecolor": "white",
            "ticks": ""
           },
           "bgcolor": "#E5ECF6",
           "radialaxis": {
            "gridcolor": "white",
            "linecolor": "white",
            "ticks": ""
           }
          },
          "scene": {
           "xaxis": {
            "backgroundcolor": "#E5ECF6",
            "gridcolor": "white",
            "gridwidth": 2,
            "linecolor": "white",
            "showbackground": true,
            "ticks": "",
            "zerolinecolor": "white"
           },
           "yaxis": {
            "backgroundcolor": "#E5ECF6",
            "gridcolor": "white",
            "gridwidth": 2,
            "linecolor": "white",
            "showbackground": true,
            "ticks": "",
            "zerolinecolor": "white"
           },
           "zaxis": {
            "backgroundcolor": "#E5ECF6",
            "gridcolor": "white",
            "gridwidth": 2,
            "linecolor": "white",
            "showbackground": true,
            "ticks": "",
            "zerolinecolor": "white"
           }
          },
          "shapedefaults": {
           "line": {
            "color": "#2a3f5f"
           }
          },
          "ternary": {
           "aaxis": {
            "gridcolor": "white",
            "linecolor": "white",
            "ticks": ""
           },
           "baxis": {
            "gridcolor": "white",
            "linecolor": "white",
            "ticks": ""
           },
           "bgcolor": "#E5ECF6",
           "caxis": {
            "gridcolor": "white",
            "linecolor": "white",
            "ticks": ""
           }
          },
          "title": {
           "x": 0.05
          },
          "xaxis": {
           "automargin": true,
           "gridcolor": "white",
           "linecolor": "white",
           "ticks": "",
           "title": {
            "standoff": 15
           },
           "zerolinecolor": "white",
           "zerolinewidth": 2
          },
          "yaxis": {
           "automargin": true,
           "gridcolor": "white",
           "linecolor": "white",
           "ticks": "",
           "title": {
            "standoff": 15
           },
           "zerolinecolor": "white",
           "zerolinewidth": 2
          }
         }
        }
       }
      },
      "text/html": [
       "<div>\n",
       "        \n",
       "        \n",
       "            <div id=\"6a9dc8a2-5a1c-402f-834a-b4ad3c2319f9\" class=\"plotly-graph-div\" style=\"height:525px; width:100%;\"></div>\n",
       "            <script type=\"text/javascript\">\n",
       "                require([\"plotly\"], function(Plotly) {\n",
       "                    window.PLOTLYENV=window.PLOTLYENV || {};\n",
       "                    \n",
       "                if (document.getElementById(\"6a9dc8a2-5a1c-402f-834a-b4ad3c2319f9\")) {\n",
       "                    Plotly.newPlot(\n",
       "                        '6a9dc8a2-5a1c-402f-834a-b4ad3c2319f9',\n",
       "                        [{\"orientation\": \"h\", \"type\": \"bar\", \"x\": [73, 42, 61, 97, 10, 28], \"y\": [\"followers\", \"status\", \"location\", \"geo enabled\", \"default image\", \"ratio\"]}],\n",
       "                        {\"template\": {\"data\": {\"bar\": [{\"error_x\": {\"color\": \"#2a3f5f\"}, \"error_y\": {\"color\": \"#2a3f5f\"}, \"marker\": {\"line\": {\"color\": \"#E5ECF6\", \"width\": 0.5}}, \"type\": \"bar\"}], \"barpolar\": [{\"marker\": {\"line\": {\"color\": \"#E5ECF6\", \"width\": 0.5}}, \"type\": \"barpolar\"}], \"carpet\": [{\"aaxis\": {\"endlinecolor\": \"#2a3f5f\", \"gridcolor\": \"white\", \"linecolor\": \"white\", \"minorgridcolor\": \"white\", \"startlinecolor\": \"#2a3f5f\"}, \"baxis\": {\"endlinecolor\": \"#2a3f5f\", \"gridcolor\": \"white\", \"linecolor\": \"white\", \"minorgridcolor\": \"white\", \"startlinecolor\": \"#2a3f5f\"}, \"type\": \"carpet\"}], \"choropleth\": [{\"colorbar\": {\"outlinewidth\": 0, \"ticks\": \"\"}, \"type\": \"choropleth\"}], \"contour\": [{\"colorbar\": {\"outlinewidth\": 0, \"ticks\": \"\"}, \"colorscale\": [[0.0, \"#0d0887\"], [0.1111111111111111, \"#46039f\"], [0.2222222222222222, \"#7201a8\"], [0.3333333333333333, \"#9c179e\"], [0.4444444444444444, \"#bd3786\"], [0.5555555555555556, \"#d8576b\"], [0.6666666666666666, \"#ed7953\"], [0.7777777777777778, \"#fb9f3a\"], [0.8888888888888888, \"#fdca26\"], [1.0, \"#f0f921\"]], \"type\": \"contour\"}], \"contourcarpet\": [{\"colorbar\": {\"outlinewidth\": 0, \"ticks\": \"\"}, \"type\": \"contourcarpet\"}], \"heatmap\": [{\"colorbar\": {\"outlinewidth\": 0, \"ticks\": \"\"}, \"colorscale\": [[0.0, \"#0d0887\"], [0.1111111111111111, \"#46039f\"], [0.2222222222222222, \"#7201a8\"], [0.3333333333333333, \"#9c179e\"], [0.4444444444444444, \"#bd3786\"], [0.5555555555555556, \"#d8576b\"], [0.6666666666666666, \"#ed7953\"], [0.7777777777777778, \"#fb9f3a\"], [0.8888888888888888, \"#fdca26\"], [1.0, \"#f0f921\"]], \"type\": \"heatmap\"}], \"heatmapgl\": [{\"colorbar\": {\"outlinewidth\": 0, \"ticks\": \"\"}, \"colorscale\": [[0.0, \"#0d0887\"], [0.1111111111111111, \"#46039f\"], [0.2222222222222222, \"#7201a8\"], [0.3333333333333333, \"#9c179e\"], [0.4444444444444444, \"#bd3786\"], [0.5555555555555556, \"#d8576b\"], [0.6666666666666666, \"#ed7953\"], [0.7777777777777778, \"#fb9f3a\"], [0.8888888888888888, \"#fdca26\"], [1.0, \"#f0f921\"]], \"type\": \"heatmapgl\"}], \"histogram\": [{\"marker\": {\"colorbar\": {\"outlinewidth\": 0, \"ticks\": \"\"}}, \"type\": \"histogram\"}], \"histogram2d\": [{\"colorbar\": {\"outlinewidth\": 0, \"ticks\": \"\"}, \"colorscale\": [[0.0, \"#0d0887\"], [0.1111111111111111, \"#46039f\"], [0.2222222222222222, \"#7201a8\"], [0.3333333333333333, \"#9c179e\"], [0.4444444444444444, \"#bd3786\"], [0.5555555555555556, \"#d8576b\"], [0.6666666666666666, \"#ed7953\"], [0.7777777777777778, \"#fb9f3a\"], [0.8888888888888888, \"#fdca26\"], [1.0, \"#f0f921\"]], \"type\": \"histogram2d\"}], \"histogram2dcontour\": [{\"colorbar\": {\"outlinewidth\": 0, \"ticks\": \"\"}, \"colorscale\": [[0.0, \"#0d0887\"], [0.1111111111111111, \"#46039f\"], [0.2222222222222222, \"#7201a8\"], [0.3333333333333333, \"#9c179e\"], [0.4444444444444444, \"#bd3786\"], [0.5555555555555556, \"#d8576b\"], [0.6666666666666666, \"#ed7953\"], [0.7777777777777778, \"#fb9f3a\"], [0.8888888888888888, \"#fdca26\"], [1.0, \"#f0f921\"]], \"type\": \"histogram2dcontour\"}], \"mesh3d\": [{\"colorbar\": {\"outlinewidth\": 0, \"ticks\": \"\"}, \"type\": \"mesh3d\"}], \"parcoords\": [{\"line\": {\"colorbar\": {\"outlinewidth\": 0, \"ticks\": \"\"}}, \"type\": \"parcoords\"}], \"pie\": [{\"automargin\": true, \"type\": \"pie\"}], \"scatter\": [{\"marker\": {\"colorbar\": {\"outlinewidth\": 0, \"ticks\": \"\"}}, \"type\": \"scatter\"}], \"scatter3d\": [{\"line\": {\"colorbar\": {\"outlinewidth\": 0, \"ticks\": \"\"}}, \"marker\": {\"colorbar\": {\"outlinewidth\": 0, \"ticks\": \"\"}}, \"type\": \"scatter3d\"}], \"scattercarpet\": [{\"marker\": {\"colorbar\": {\"outlinewidth\": 0, \"ticks\": \"\"}}, \"type\": \"scattercarpet\"}], \"scattergeo\": [{\"marker\": {\"colorbar\": {\"outlinewidth\": 0, \"ticks\": \"\"}}, \"type\": \"scattergeo\"}], \"scattergl\": [{\"marker\": {\"colorbar\": {\"outlinewidth\": 0, \"ticks\": \"\"}}, \"type\": \"scattergl\"}], \"scattermapbox\": [{\"marker\": {\"colorbar\": {\"outlinewidth\": 0, \"ticks\": \"\"}}, \"type\": \"scattermapbox\"}], \"scatterpolar\": [{\"marker\": {\"colorbar\": {\"outlinewidth\": 0, \"ticks\": \"\"}}, \"type\": \"scatterpolar\"}], \"scatterpolargl\": [{\"marker\": {\"colorbar\": {\"outlinewidth\": 0, \"ticks\": \"\"}}, \"type\": \"scatterpolargl\"}], \"scatterternary\": [{\"marker\": {\"colorbar\": {\"outlinewidth\": 0, \"ticks\": \"\"}}, \"type\": \"scatterternary\"}], \"surface\": [{\"colorbar\": {\"outlinewidth\": 0, \"ticks\": \"\"}, \"colorscale\": [[0.0, \"#0d0887\"], [0.1111111111111111, \"#46039f\"], [0.2222222222222222, \"#7201a8\"], [0.3333333333333333, \"#9c179e\"], [0.4444444444444444, \"#bd3786\"], [0.5555555555555556, \"#d8576b\"], [0.6666666666666666, \"#ed7953\"], [0.7777777777777778, \"#fb9f3a\"], [0.8888888888888888, \"#fdca26\"], [1.0, \"#f0f921\"]], \"type\": \"surface\"}], \"table\": [{\"cells\": {\"fill\": {\"color\": \"#EBF0F8\"}, \"line\": {\"color\": \"white\"}}, \"header\": {\"fill\": {\"color\": \"#C8D4E3\"}, \"line\": {\"color\": \"white\"}}, \"type\": \"table\"}]}, \"layout\": {\"annotationdefaults\": {\"arrowcolor\": \"#2a3f5f\", \"arrowhead\": 0, \"arrowwidth\": 1}, \"coloraxis\": {\"colorbar\": {\"outlinewidth\": 0, \"ticks\": \"\"}}, \"colorscale\": {\"diverging\": [[0, \"#8e0152\"], [0.1, \"#c51b7d\"], [0.2, \"#de77ae\"], [0.3, \"#f1b6da\"], [0.4, \"#fde0ef\"], [0.5, \"#f7f7f7\"], [0.6, \"#e6f5d0\"], [0.7, \"#b8e186\"], [0.8, \"#7fbc41\"], [0.9, \"#4d9221\"], [1, \"#276419\"]], \"sequential\": [[0.0, \"#0d0887\"], [0.1111111111111111, \"#46039f\"], [0.2222222222222222, \"#7201a8\"], [0.3333333333333333, \"#9c179e\"], [0.4444444444444444, \"#bd3786\"], [0.5555555555555556, \"#d8576b\"], [0.6666666666666666, \"#ed7953\"], [0.7777777777777778, \"#fb9f3a\"], [0.8888888888888888, \"#fdca26\"], [1.0, \"#f0f921\"]], \"sequentialminus\": [[0.0, \"#0d0887\"], [0.1111111111111111, \"#46039f\"], [0.2222222222222222, \"#7201a8\"], [0.3333333333333333, \"#9c179e\"], [0.4444444444444444, \"#bd3786\"], [0.5555555555555556, \"#d8576b\"], [0.6666666666666666, \"#ed7953\"], [0.7777777777777778, \"#fb9f3a\"], [0.8888888888888888, \"#fdca26\"], [1.0, \"#f0f921\"]]}, \"colorway\": [\"#636efa\", \"#EF553B\", \"#00cc96\", \"#ab63fa\", \"#FFA15A\", \"#19d3f3\", \"#FF6692\", \"#B6E880\", \"#FF97FF\", \"#FECB52\"], \"font\": {\"color\": \"#2a3f5f\"}, \"geo\": {\"bgcolor\": \"white\", \"lakecolor\": \"white\", \"landcolor\": \"#E5ECF6\", \"showlakes\": true, \"showland\": true, \"subunitcolor\": \"white\"}, \"hoverlabel\": {\"align\": \"left\"}, \"hovermode\": \"closest\", \"mapbox\": {\"style\": \"light\"}, \"paper_bgcolor\": \"white\", \"plot_bgcolor\": \"#E5ECF6\", \"polar\": {\"angularaxis\": {\"gridcolor\": \"white\", \"linecolor\": \"white\", \"ticks\": \"\"}, \"bgcolor\": \"#E5ECF6\", \"radialaxis\": {\"gridcolor\": \"white\", \"linecolor\": \"white\", \"ticks\": \"\"}}, \"scene\": {\"xaxis\": {\"backgroundcolor\": \"#E5ECF6\", \"gridcolor\": \"white\", \"gridwidth\": 2, \"linecolor\": \"white\", \"showbackground\": true, \"ticks\": \"\", \"zerolinecolor\": \"white\"}, \"yaxis\": {\"backgroundcolor\": \"#E5ECF6\", \"gridcolor\": \"white\", \"gridwidth\": 2, \"linecolor\": \"white\", \"showbackground\": true, \"ticks\": \"\", \"zerolinecolor\": \"white\"}, \"zaxis\": {\"backgroundcolor\": \"#E5ECF6\", \"gridcolor\": \"white\", \"gridwidth\": 2, \"linecolor\": \"white\", \"showbackground\": true, \"ticks\": \"\", \"zerolinecolor\": \"white\"}}, \"shapedefaults\": {\"line\": {\"color\": \"#2a3f5f\"}}, \"ternary\": {\"aaxis\": {\"gridcolor\": \"white\", \"linecolor\": \"white\", \"ticks\": \"\"}, \"baxis\": {\"gridcolor\": \"white\", \"linecolor\": \"white\", \"ticks\": \"\"}, \"bgcolor\": \"#E5ECF6\", \"caxis\": {\"gridcolor\": \"white\", \"linecolor\": \"white\", \"ticks\": \"\"}}, \"title\": {\"x\": 0.05}, \"xaxis\": {\"automargin\": true, \"gridcolor\": \"white\", \"linecolor\": \"white\", \"ticks\": \"\", \"title\": {\"standoff\": 15}, \"zerolinecolor\": \"white\", \"zerolinewidth\": 2}, \"yaxis\": {\"automargin\": true, \"gridcolor\": \"white\", \"linecolor\": \"white\", \"ticks\": \"\", \"title\": {\"standoff\": 15}, \"zerolinecolor\": \"white\", \"zerolinewidth\": 2}}}},\n",
       "                        {\"responsive\": true}\n",
       "                    ).then(function(){\n",
       "                            \n",
       "var gd = document.getElementById('6a9dc8a2-5a1c-402f-834a-b4ad3c2319f9');\n",
       "var x = new MutationObserver(function (mutations, observer) {{\n",
       "        var display = window.getComputedStyle(gd).display;\n",
       "        if (!display || display === 'none') {{\n",
       "            console.log([gd, 'removed!']);\n",
       "            Plotly.purge(gd);\n",
       "            observer.disconnect();\n",
       "        }}\n",
       "}});\n",
       "\n",
       "// Listen for the removal of the full notebook cells\n",
       "var notebookContainer = gd.closest('#notebook-container');\n",
       "if (notebookContainer) {{\n",
       "    x.observe(notebookContainer, {childList: true});\n",
       "}}\n",
       "\n",
       "// Listen for the clearing of the current output cell\n",
       "var outputEl = gd.closest('.output');\n",
       "if (outputEl) {{\n",
       "    x.observe(outputEl, {childList: true});\n",
       "}}\n",
       "\n",
       "                        })\n",
       "                };\n",
       "                });\n",
       "            </script>\n",
       "        </div>"
      ]
     },
     "metadata": {},
     "output_type": "display_data"
    }
   ],
   "source": [
    "fig = go.Figure(go.Bar(\n",
    "            x=[len(followers45_less30), len(status45_less50), len(location45_null), len(geo45_false), len(img45_true), len(ratio45_more10)],\n",
    "            y=['followers', 'status', 'location', 'geo enabled', 'default image', 'ratio'],\n",
    "            orientation='h'))\n",
    "fig.show()"
   ]
  },
  {
   "cell_type": "code",
   "execution_count": 173,
   "metadata": {},
   "outputs": [
    {
     "data": {
      "image/png": "[encoded data removed]",
      "text/plain": [
       "<Figure size 432x288 with 1 Axes>"
      ]
     },
     "metadata": {
      "needs_background": "light"
     },
     "output_type": "display_data"
    }
   ],
   "source": [
    "true = [len(followers45_less30), len(status45_less50), len(location45_null), len(geo45_false), len(img45_true), len(ratio45_more10)]\n",
    "false = [len(followers45_more30), len(status45_more50), len(location45_notnull), len(geo45_true), len(img45_false), len(ratio45_less10)]\n",
    "index = ['followers < 30', 'status < 50', 'location is null', 'disabled geo loc', 'use default image','ratio more 10:1']\n",
    "df = pd.DataFrame({'false': false, 'true': true}, index=index)\n",
    "ax = df.plot.barh(color=['salmon','royalblue'])"
   ]
  },
  {
   "cell_type": "markdown",
   "metadata": {},
   "source": [
    "### ANALISA KARAKTERISTIK AKUN"
   ]
  },
  {
   "cell_type": "code",
   "execution_count": 175,
   "metadata": {},
   "outputs": [],
   "source": [
    "#akun skor 0-1\n",
    "followers01_less30 = sc01[sc01[\"followers\"]<=30]\n",
    "status01_less50 = sc01[sc01[\"statuses_count\"]<50]\n",
    "location01_null = sc01[sc01[\"location\"].isnull()]\n",
    "geo01_false = sc01[sc01[\"geo_enabled\"]==0]\n",
    "img01_true = sc01[sc01[\"default_profil_img\"]==1]\n",
    "ratio01_more10 = sc01[sc01[\"ratio\"]>10]\n",
    "\n",
    "#akun skor 1-2\n",
    "followers12_less30 = sc12[sc12[\"followers\"]<=30]\n",
    "status12_less50 = sc12[sc12[\"statuses_count\"]<50]\n",
    "location12_null = sc12[sc12[\"location\"].isnull()]\n",
    "geo12_false = sc12[sc12[\"geo_enabled\"]==0]\n",
    "img12_true = sc12[sc12[\"default_profil_img\"]==1]\n",
    "ratio12_more10 = sc12[sc12[\"ratio\"]>10]\n",
    "\n",
    "#akun skor 2-3\n",
    "followers23_less30 = sc23[sc23[\"followers\"]<=30]\n",
    "status23_less50 = sc23[sc23[\"statuses_count\"]<50]\n",
    "location23_null = sc23[sc23[\"location\"].isnull()]\n",
    "geo23_false = sc23[sc23[\"geo_enabled\"]==0]\n",
    "img23_true = sc23[sc23[\"default_profil_img\"]==1]\n",
    "ratio23_more10 = sc23[sc23[\"ratio\"]>10]\n",
    "\n",
    "#akun skor 3-4\n",
    "followers34_less30 = sc34[sc34[\"followers\"]<=30]\n",
    "status34_less50 = sc34[sc34[\"statuses_count\"]<50]\n",
    "location34_null = sc34[sc34[\"location\"].isnull()]\n",
    "geo34_false = sc34[sc34[\"geo_enabled\"]==0]\n",
    "img34_true = sc34[sc34[\"default_profil_img\"]==1]\n",
    "ratio34_more10 = sc34[sc34[\"ratio\"]>10]\n",
    "\n",
    "followers45_less30 = sc45[sc45[\"followers\"]<=30]\n",
    "status45_less50 = sc45[sc45[\"statuses_count\"]<50]\n",
    "location45_null = sc45[sc45[\"location\"].isnull()]\n",
    "geo45_false = sc45[sc45[\"geo_enabled\"]==0]\n",
    "img45_true = sc45[sc45[\"default_profil_img\"]==1]\n",
    "ratio45_more10 = sc45[sc45[\"ratio\"]>10]"
   ]
  },
  {
   "cell_type": "code",
   "execution_count": 196,
   "metadata": {},
   "outputs": [
    {
     "data": {
      "application/vnd.plotly.v1+json": {
       "config": {
        "plotlyServerURL": "https://plot.ly"
       },
       "data": [
        {
         "name": "Followers < 30",
         "type": "bar",
         "x": [
          "0-1",
          "1-2",
          "2-3",
          "3-4",
          "4-5"
         ],
         "y": [
          27,
          82,
          67,
          60,
          73
         ]
        },
        {
         "name": "Status < 50",
         "type": "bar",
         "x": [
          "0-1",
          "1-2",
          "2-3",
          "3-4",
          "4-5"
         ],
         "y": [
          1,
          6,
          7,
          23,
          42
         ]
        },
        {
         "name": "Null Location",
         "type": "bar",
         "x": [
          "0-1",
          "1-2",
          "2-3",
          "3-4",
          "4-5"
         ],
         "y": [
          300,
          246,
          123,
          88,
          61
         ]
        },
        {
         "name": "Disabled Geo",
         "type": "bar",
         "x": [
          "0-1",
          "1-2",
          "2-3",
          "3-4",
          "4-5"
         ],
         "y": [
          446,
          372,
          210,
          136,
          97
         ]
        },
        {
         "name": "Default Image",
         "type": "bar",
         "x": [
          "0-1",
          "1-2",
          "2-3",
          "3-4",
          "4-5"
         ],
         "y": [
          6,
          13,
          5,
          10,
          10
         ]
        },
        {
         "name": "Ratio > 10:1",
         "type": "bar",
         "x": [
          "0-1",
          "1-2",
          "2-3",
          "3-4",
          "4-5"
         ],
         "y": [
          10,
          37,
          22,
          25,
          28
         ]
        }
       ],
       "layout": {
        "barmode": "group",
        "template": {
         "data": {
          "bar": [
           {
            "error_x": {
             "color": "#2a3f5f"
            },
            "error_y": {
             "color": "#2a3f5f"
            },
            "marker": {
             "line": {
              "color": "#E5ECF6",
              "width": 0.5
             }
            },
            "type": "bar"
           }
          ],
          "barpolar": [
           {
            "marker": {
             "line": {
              "color": "#E5ECF6",
              "width": 0.5
             }
            },
            "type": "barpolar"
           }
          ],
          "carpet": [
           {
            "aaxis": {
             "endlinecolor": "#2a3f5f",
             "gridcolor": "white",
             "linecolor": "white",
             "minorgridcolor": "white",
             "startlinecolor": "#2a3f5f"
            },
            "baxis": {
             "endlinecolor": "#2a3f5f",
             "gridcolor": "white",
             "linecolor": "white",
             "minorgridcolor": "white",
             "startlinecolor": "#2a3f5f"
            },
            "type": "carpet"
           }
          ],
          "choropleth": [
           {
            "colorbar": {
             "outlinewidth": 0,
             "ticks": ""
            },
            "type": "choropleth"
           }
          ],
          "contour": [
           {
            "colorbar": {
             "outlinewidth": 0,
             "ticks": ""
            },
            "colorscale": [
             [
              0,
              "#0d0887"
             ],
             [
              0.1111111111111111,
              "#46039f"
             ],
             [
              0.2222222222222222,
              "#7201a8"
             ],
             [
              0.3333333333333333,
              "#9c179e"
             ],
             [
              0.4444444444444444,
              "#bd3786"
             ],
             [
              0.5555555555555556,
              "#d8576b"
             ],
             [
              0.6666666666666666,
              "#ed7953"
             ],
             [
              0.7777777777777778,
              "#fb9f3a"
             ],
             [
              0.8888888888888888,
              "#fdca26"
             ],
             [
              1,
              "#f0f921"
             ]
            ],
            "type": "contour"
           }
          ],
          "contourcarpet": [
           {
            "colorbar": {
             "outlinewidth": 0,
             "ticks": ""
            },
            "type": "contourcarpet"
           }
          ],
          "heatmap": [
           {
            "colorbar": {
             "outlinewidth": 0,
             "ticks": ""
            },
            "colorscale": [
             [
              0,
              "#0d0887"
             ],
             [
              0.1111111111111111,
              "#46039f"
             ],
             [
              0.2222222222222222,
              "#7201a8"
             ],
             [
              0.3333333333333333,
              "#9c179e"
             ],
             [
              0.4444444444444444,
              "#bd3786"
             ],
             [
              0.5555555555555556,
              "#d8576b"
             ],
             [
              0.6666666666666666,
              "#ed7953"
             ],
             [
              0.7777777777777778,
              "#fb9f3a"
             ],
             [
              0.8888888888888888,
              "#fdca26"
             ],
             [
              1,
              "#f0f921"
             ]
            ],
            "type": "heatmap"
           }
          ],
          "heatmapgl": [
           {
            "colorbar": {
             "outlinewidth": 0,
             "ticks": ""
            },
            "colorscale": [
             [
              0,
              "#0d0887"
             ],
             [
              0.1111111111111111,
              "#46039f"
             ],
             [
              0.2222222222222222,
              "#7201a8"
             ],
             [
              0.3333333333333333,
              "#9c179e"
             ],
             [
              0.4444444444444444,
              "#bd3786"
             ],
             [
              0.5555555555555556,
              "#d8576b"
             ],
             [
              0.6666666666666666,
              "#ed7953"
             ],
             [
              0.7777777777777778,
              "#fb9f3a"
             ],
             [
              0.8888888888888888,
              "#fdca26"
             ],
             [
              1,
              "#f0f921"
             ]
            ],
            "type": "heatmapgl"
           }
          ],
          "histogram": [
           {
            "marker": {
             "colorbar": {
              "outlinewidth": 0,
              "ticks": ""
             }
            },
            "type": "histogram"
           }
          ],
          "histogram2d": [
           {
            "colorbar": {
             "outlinewidth": 0,
             "ticks": ""
            },
            "colorscale": [
             [
              0,
              "#0d0887"
             ],
             [
              0.1111111111111111,
              "#46039f"
             ],
             [
              0.2222222222222222,
              "#7201a8"
             ],
             [
              0.3333333333333333,
              "#9c179e"
             ],
             [
              0.4444444444444444,
              "#bd3786"
             ],
             [
              0.5555555555555556,
              "#d8576b"
             ],
             [
              0.6666666666666666,
              "#ed7953"
             ],
             [
              0.7777777777777778,
              "#fb9f3a"
             ],
             [
              0.8888888888888888,
              "#fdca26"
             ],
             [
              1,
              "#f0f921"
             ]
            ],
            "type": "histogram2d"
           }
          ],
          "histogram2dcontour": [
           {
            "colorbar": {
             "outlinewidth": 0,
             "ticks": ""
            },
            "colorscale": [
             [
              0,
              "#0d0887"
             ],
             [
              0.1111111111111111,
              "#46039f"
             ],
             [
              0.2222222222222222,
              "#7201a8"
             ],
             [
              0.3333333333333333,
              "#9c179e"
             ],
             [
              0.4444444444444444,
              "#bd3786"
             ],
             [
              0.5555555555555556,
              "#d8576b"
             ],
             [
              0.6666666666666666,
              "#ed7953"
             ],
             [
              0.7777777777777778,
              "#fb9f3a"
             ],
             [
              0.8888888888888888,
              "#fdca26"
             ],
             [
              1,
              "#f0f921"
             ]
            ],
            "type": "histogram2dcontour"
           }
          ],
          "mesh3d": [
           {
            "colorbar": {
             "outlinewidth": 0,
             "ticks": ""
            },
            "type": "mesh3d"
           }
          ],
          "parcoords": [
           {
            "line": {
             "colorbar": {
              "outlinewidth": 0,
              "ticks": ""
             }
            },
            "type": "parcoords"
           }
          ],
          "pie": [
           {
            "automargin": true,
            "type": "pie"
           }
          ],
          "scatter": [
           {
            "marker": {
             "colorbar": {
              "outlinewidth": 0,
              "ticks": ""
             }
            },
            "type": "scatter"
           }
          ],
          "scatter3d": [
           {
            "line": {
             "colorbar": {
              "outlinewidth": 0,
              "ticks": ""
             }
            },
            "marker": {
             "colorbar": {
              "outlinewidth": 0,
              "ticks": ""
             }
            },
            "type": "scatter3d"
           }
          ],
          "scattercarpet": [
           {
            "marker": {
             "colorbar": {
              "outlinewidth": 0,
              "ticks": ""
             }
            },
            "type": "scattercarpet"
           }
          ],
          "scattergeo": [
           {
            "marker": {
             "colorbar": {
              "outlinewidth": 0,
              "ticks": ""
             }
            },
            "type": "scattergeo"
           }
          ],
          "scattergl": [
           {
            "marker": {
             "colorbar": {
              "outlinewidth": 0,
              "ticks": ""
             }
            },
            "type": "scattergl"
           }
          ],
          "scattermapbox": [
           {
            "marker": {
             "colorbar": {
              "outlinewidth": 0,
              "ticks": ""
             }
            },
            "type": "scattermapbox"
           }
          ],
          "scatterpolar": [
           {
            "marker": {
             "colorbar": {
              "outlinewidth": 0,
              "ticks": ""
             }
            },
            "type": "scatterpolar"
           }
          ],
          "scatterpolargl": [
           {
            "marker": {
             "colorbar": {
              "outlinewidth": 0,
              "ticks": ""
             }
            },
            "type": "scatterpolargl"
           }
          ],
          "scatterternary": [
           {
            "marker": {
             "colorbar": {
              "outlinewidth": 0,
              "ticks": ""
             }
            },
            "type": "scatterternary"
           }
          ],
          "surface": [
           {
            "colorbar": {
             "outlinewidth": 0,
             "ticks": ""
            },
            "colorscale": [
             [
              0,
              "#0d0887"
             ],
             [
              0.1111111111111111,
              "#46039f"
             ],
             [
              0.2222222222222222,
              "#7201a8"
             ],
             [
              0.3333333333333333,
              "#9c179e"
             ],
             [
              0.4444444444444444,
              "#bd3786"
             ],
             [
              0.5555555555555556,
              "#d8576b"
             ],
             [
              0.6666666666666666,
              "#ed7953"
             ],
             [
              0.7777777777777778,
              "#fb9f3a"
             ],
             [
              0.8888888888888888,
              "#fdca26"
             ],
             [
              1,
              "#f0f921"
             ]
            ],
            "type": "surface"
           }
          ],
          "table": [
           {
            "cells": {
             "fill": {
              "color": "#EBF0F8"
             },
             "line": {
              "color": "white"
             }
            },
            "header": {
             "fill": {
              "color": "#C8D4E3"
             },
             "line": {
              "color": "white"
             }
            },
            "type": "table"
           }
          ]
         },
         "layout": {
          "annotationdefaults": {
           "arrowcolor": "#2a3f5f",
           "arrowhead": 0,
           "arrowwidth": 1
          },
          "coloraxis": {
           "colorbar": {
            "outlinewidth": 0,
            "ticks": ""
           }
          },
          "colorscale": {
           "diverging": [
            [
             0,
             "#8e0152"
            ],
            [
             0.1,
             "#c51b7d"
            ],
            [
             0.2,
             "#de77ae"
            ],
            [
             0.3,
             "#f1b6da"
            ],
            [
             0.4,
             "#fde0ef"
            ],
            [
             0.5,
             "#f7f7f7"
            ],
            [
             0.6,
             "#e6f5d0"
            ],
            [
             0.7,
             "#b8e186"
            ],
            [
             0.8,
             "#7fbc41"
            ],
            [
             0.9,
             "#4d9221"
            ],
            [
             1,
             "#276419"
            ]
           ],
           "sequential": [
            [
             0,
             "#0d0887"
            ],
            [
             0.1111111111111111,
             "#46039f"
            ],
            [
             0.2222222222222222,
             "#7201a8"
            ],
            [
             0.3333333333333333,
             "#9c179e"
            ],
            [
             0.4444444444444444,
             "#bd3786"
            ],
            [
             0.5555555555555556,
             "#d8576b"
            ],
            [
             0.6666666666666666,
             "#ed7953"
            ],
            [
             0.7777777777777778,
             "#fb9f3a"
            ],
            [
             0.8888888888888888,
             "#fdca26"
            ],
            [
             1,
             "#f0f921"
            ]
           ],
           "sequentialminus": [
            [
             0,
             "#0d0887"
            ],
            [
             0.1111111111111111,
             "#46039f"
            ],
            [
             0.2222222222222222,
             "#7201a8"
            ],
            [
             0.3333333333333333,
             "#9c179e"
            ],
            [
             0.4444444444444444,
             "#bd3786"
            ],
            [
             0.5555555555555556,
             "#d8576b"
            ],
            [
             0.6666666666666666,
             "#ed7953"
            ],
            [
             0.7777777777777778,
             "#fb9f3a"
            ],
            [
             0.8888888888888888,
             "#fdca26"
            ],
            [
             1,
             "#f0f921"
            ]
           ]
          },
          "colorway": [
           "#636efa",
           "#EF553B",
           "#00cc96",
           "#ab63fa",
           "#FFA15A",
           "#19d3f3",
           "#FF6692",
           "#B6E880",
           "#FF97FF",
           "#FECB52"
          ],
          "font": {
           "color": "#2a3f5f"
          },
          "geo": {
           "bgcolor": "white",
           "lakecolor": "white",
           "landcolor": "#E5ECF6",
           "showlakes": true,
           "showland": true,
           "subunitcolor": "white"
          },
          "hoverlabel": {
           "align": "left"
          },
          "hovermode": "closest",
          "mapbox": {
           "style": "light"
          },
          "paper_bgcolor": "white",
          "plot_bgcolor": "#E5ECF6",
          "polar": {
           "angularaxis": {
            "gridcolor": "white",
            "linecolor": "white",
            "ticks": ""
           },
           "bgcolor": "#E5ECF6",
           "radialaxis": {
            "gridcolor": "white",
            "linecolor": "white",
            "ticks": ""
           }
          },
          "scene": {
           "xaxis": {
            "backgroundcolor": "#E5ECF6",
            "gridcolor": "white",
            "gridwidth": 2,
            "linecolor": "white",
            "showbackground": true,
            "ticks": "",
            "zerolinecolor": "white"
           },
           "yaxis": {
            "backgroundcolor": "#E5ECF6",
            "gridcolor": "white",
            "gridwidth": 2,
            "linecolor": "white",
            "showbackground": true,
            "ticks": "",
            "zerolinecolor": "white"
           },
           "zaxis": {
            "backgroundcolor": "#E5ECF6",
            "gridcolor": "white",
            "gridwidth": 2,
            "linecolor": "white",
            "showbackground": true,
            "ticks": "",
            "zerolinecolor": "white"
           }
          },
          "shapedefaults": {
           "line": {
            "color": "#2a3f5f"
           }
          },
          "ternary": {
           "aaxis": {
            "gridcolor": "white",
            "linecolor": "white",
            "ticks": ""
           },
           "baxis": {
            "gridcolor": "white",
            "linecolor": "white",
            "ticks": ""
           },
           "bgcolor": "#E5ECF6",
           "caxis": {
            "gridcolor": "white",
            "linecolor": "white",
            "ticks": ""
           }
          },
          "title": {
           "x": 0.05
          },
          "xaxis": {
           "automargin": true,
           "gridcolor": "white",
           "linecolor": "white",
           "ticks": "",
           "title": {
            "standoff": 15
           },
           "zerolinecolor": "white",
           "zerolinewidth": 2
          },
          "yaxis": {
           "automargin": true,
           "gridcolor": "white",
           "linecolor": "white",
           "ticks": "",
           "title": {
            "standoff": 15
           },
           "zerolinecolor": "white",
           "zerolinewidth": 2
          }
         }
        }
       }
      },
      "text/html": [
       "<div>\n",
       "        \n",
       "        \n",
       "            <div id=\"3a422458-f485-4d75-81ab-1a48f7b01721\" class=\"plotly-graph-div\" style=\"height:525px; width:100%;\"></div>\n",
       "            <script type=\"text/javascript\">\n",
       "                require([\"plotly\"], function(Plotly) {\n",
       "                    window.PLOTLYENV=window.PLOTLYENV || {};\n",
       "                    \n",
       "                if (document.getElementById(\"3a422458-f485-4d75-81ab-1a48f7b01721\")) {\n",
       "                    Plotly.newPlot(\n",
       "                        '3a422458-f485-4d75-81ab-1a48f7b01721',\n",
       "                        [{\"name\": \"Followers < 30\", \"type\": \"bar\", \"x\": [\"0-1\", \"1-2\", \"2-3\", \"3-4\", \"4-5\"], \"y\": [27, 82, 67, 60, 73]}, {\"name\": \"Status < 50\", \"type\": \"bar\", \"x\": [\"0-1\", \"1-2\", \"2-3\", \"3-4\", \"4-5\"], \"y\": [1, 6, 7, 23, 42]}, {\"name\": \"Null Location\", \"type\": \"bar\", \"x\": [\"0-1\", \"1-2\", \"2-3\", \"3-4\", \"4-5\"], \"y\": [300, 246, 123, 88, 61]}, {\"name\": \"Disabled Geo\", \"type\": \"bar\", \"x\": [\"0-1\", \"1-2\", \"2-3\", \"3-4\", \"4-5\"], \"y\": [446, 372, 210, 136, 97]}, {\"name\": \"Default Image\", \"type\": \"bar\", \"x\": [\"0-1\", \"1-2\", \"2-3\", \"3-4\", \"4-5\"], \"y\": [6, 13, 5, 10, 10]}, {\"name\": \"Ratio > 10:1\", \"type\": \"bar\", \"x\": [\"0-1\", \"1-2\", \"2-3\", \"3-4\", \"4-5\"], \"y\": [10, 37, 22, 25, 28]}],\n",
       "                        {\"barmode\": \"group\", \"template\": {\"data\": {\"bar\": [{\"error_x\": {\"color\": \"#2a3f5f\"}, \"error_y\": {\"color\": \"#2a3f5f\"}, \"marker\": {\"line\": {\"color\": \"#E5ECF6\", \"width\": 0.5}}, \"type\": \"bar\"}], \"barpolar\": [{\"marker\": {\"line\": {\"color\": \"#E5ECF6\", \"width\": 0.5}}, \"type\": \"barpolar\"}], \"carpet\": [{\"aaxis\": {\"endlinecolor\": \"#2a3f5f\", \"gridcolor\": \"white\", \"linecolor\": \"white\", \"minorgridcolor\": \"white\", \"startlinecolor\": \"#2a3f5f\"}, \"baxis\": {\"endlinecolor\": \"#2a3f5f\", \"gridcolor\": \"white\", \"linecolor\": \"white\", \"minorgridcolor\": \"white\", \"startlinecolor\": \"#2a3f5f\"}, \"type\": \"carpet\"}], \"choropleth\": [{\"colorbar\": {\"outlinewidth\": 0, \"ticks\": \"\"}, \"type\": \"choropleth\"}], \"contour\": [{\"colorbar\": {\"outlinewidth\": 0, \"ticks\": \"\"}, \"colorscale\": [[0.0, \"#0d0887\"], [0.1111111111111111, \"#46039f\"], [0.2222222222222222, \"#7201a8\"], [0.3333333333333333, \"#9c179e\"], [0.4444444444444444, \"#bd3786\"], [0.5555555555555556, \"#d8576b\"], [0.6666666666666666, \"#ed7953\"], [0.7777777777777778, \"#fb9f3a\"], [0.8888888888888888, \"#fdca26\"], [1.0, \"#f0f921\"]], \"type\": \"contour\"}], \"contourcarpet\": [{\"colorbar\": {\"outlinewidth\": 0, \"ticks\": \"\"}, \"type\": \"contourcarpet\"}], \"heatmap\": [{\"colorbar\": {\"outlinewidth\": 0, \"ticks\": \"\"}, \"colorscale\": [[0.0, \"#0d0887\"], [0.1111111111111111, \"#46039f\"], [0.2222222222222222, \"#7201a8\"], [0.3333333333333333, \"#9c179e\"], [0.4444444444444444, \"#bd3786\"], [0.5555555555555556, \"#d8576b\"], [0.6666666666666666, \"#ed7953\"], [0.7777777777777778, \"#fb9f3a\"], [0.8888888888888888, \"#fdca26\"], [1.0, \"#f0f921\"]], \"type\": \"heatmap\"}], \"heatmapgl\": [{\"colorbar\": {\"outlinewidth\": 0, \"ticks\": \"\"}, \"colorscale\": [[0.0, \"#0d0887\"], [0.1111111111111111, \"#46039f\"], [0.2222222222222222, \"#7201a8\"], [0.3333333333333333, \"#9c179e\"], [0.4444444444444444, \"#bd3786\"], [0.5555555555555556, \"#d8576b\"], [0.6666666666666666, \"#ed7953\"], [0.7777777777777778, \"#fb9f3a\"], [0.8888888888888888, \"#fdca26\"], [1.0, \"#f0f921\"]], \"type\": \"heatmapgl\"}], \"histogram\": [{\"marker\": {\"colorbar\": {\"outlinewidth\": 0, \"ticks\": \"\"}}, \"type\": \"histogram\"}], \"histogram2d\": [{\"colorbar\": {\"outlinewidth\": 0, \"ticks\": \"\"}, \"colorscale\": [[0.0, \"#0d0887\"], [0.1111111111111111, \"#46039f\"], [0.2222222222222222, \"#7201a8\"], [0.3333333333333333, \"#9c179e\"], [0.4444444444444444, \"#bd3786\"], [0.5555555555555556, \"#d8576b\"], [0.6666666666666666, \"#ed7953\"], [0.7777777777777778, \"#fb9f3a\"], [0.8888888888888888, \"#fdca26\"], [1.0, \"#f0f921\"]], \"type\": \"histogram2d\"}], \"histogram2dcontour\": [{\"colorbar\": {\"outlinewidth\": 0, \"ticks\": \"\"}, \"colorscale\": [[0.0, \"#0d0887\"], [0.1111111111111111, \"#46039f\"], [0.2222222222222222, \"#7201a8\"], [0.3333333333333333, \"#9c179e\"], [0.4444444444444444, \"#bd3786\"], [0.5555555555555556, \"#d8576b\"], [0.6666666666666666, \"#ed7953\"], [0.7777777777777778, \"#fb9f3a\"], [0.8888888888888888, \"#fdca26\"], [1.0, \"#f0f921\"]], \"type\": \"histogram2dcontour\"}], \"mesh3d\": [{\"colorbar\": {\"outlinewidth\": 0, \"ticks\": \"\"}, \"type\": \"mesh3d\"}], \"parcoords\": [{\"line\": {\"colorbar\": {\"outlinewidth\": 0, \"ticks\": \"\"}}, \"type\": \"parcoords\"}], \"pie\": [{\"automargin\": true, \"type\": \"pie\"}], \"scatter\": [{\"marker\": {\"colorbar\": {\"outlinewidth\": 0, \"ticks\": \"\"}}, \"type\": \"scatter\"}], \"scatter3d\": [{\"line\": {\"colorbar\": {\"outlinewidth\": 0, \"ticks\": \"\"}}, \"marker\": {\"colorbar\": {\"outlinewidth\": 0, \"ticks\": \"\"}}, \"type\": \"scatter3d\"}], \"scattercarpet\": [{\"marker\": {\"colorbar\": {\"outlinewidth\": 0, \"ticks\": \"\"}}, \"type\": \"scattercarpet\"}], \"scattergeo\": [{\"marker\": {\"colorbar\": {\"outlinewidth\": 0, \"ticks\": \"\"}}, \"type\": \"scattergeo\"}], \"scattergl\": [{\"marker\": {\"colorbar\": {\"outlinewidth\": 0, \"ticks\": \"\"}}, \"type\": \"scattergl\"}], \"scattermapbox\": [{\"marker\": {\"colorbar\": {\"outlinewidth\": 0, \"ticks\": \"\"}}, \"type\": \"scattermapbox\"}], \"scatterpolar\": [{\"marker\": {\"colorbar\": {\"outlinewidth\": 0, \"ticks\": \"\"}}, \"type\": \"scatterpolar\"}], \"scatterpolargl\": [{\"marker\": {\"colorbar\": {\"outlinewidth\": 0, \"ticks\": \"\"}}, \"type\": \"scatterpolargl\"}], \"scatterternary\": [{\"marker\": {\"colorbar\": {\"outlinewidth\": 0, \"ticks\": \"\"}}, \"type\": \"scatterternary\"}], \"surface\": [{\"colorbar\": {\"outlinewidth\": 0, \"ticks\": \"\"}, \"colorscale\": [[0.0, \"#0d0887\"], [0.1111111111111111, \"#46039f\"], [0.2222222222222222, \"#7201a8\"], [0.3333333333333333, \"#9c179e\"], [0.4444444444444444, \"#bd3786\"], [0.5555555555555556, \"#d8576b\"], [0.6666666666666666, \"#ed7953\"], [0.7777777777777778, \"#fb9f3a\"], [0.8888888888888888, \"#fdca26\"], [1.0, \"#f0f921\"]], \"type\": \"surface\"}], \"table\": [{\"cells\": {\"fill\": {\"color\": \"#EBF0F8\"}, \"line\": {\"color\": \"white\"}}, \"header\": {\"fill\": {\"color\": \"#C8D4E3\"}, \"line\": {\"color\": \"white\"}}, \"type\": \"table\"}]}, \"layout\": {\"annotationdefaults\": {\"arrowcolor\": \"#2a3f5f\", \"arrowhead\": 0, \"arrowwidth\": 1}, \"coloraxis\": {\"colorbar\": {\"outlinewidth\": 0, \"ticks\": \"\"}}, \"colorscale\": {\"diverging\": [[0, \"#8e0152\"], [0.1, \"#c51b7d\"], [0.2, \"#de77ae\"], [0.3, \"#f1b6da\"], [0.4, \"#fde0ef\"], [0.5, \"#f7f7f7\"], [0.6, \"#e6f5d0\"], [0.7, \"#b8e186\"], [0.8, \"#7fbc41\"], [0.9, \"#4d9221\"], [1, \"#276419\"]], \"sequential\": [[0.0, \"#0d0887\"], [0.1111111111111111, \"#46039f\"], [0.2222222222222222, \"#7201a8\"], [0.3333333333333333, \"#9c179e\"], [0.4444444444444444, \"#bd3786\"], [0.5555555555555556, \"#d8576b\"], [0.6666666666666666, \"#ed7953\"], [0.7777777777777778, \"#fb9f3a\"], [0.8888888888888888, \"#fdca26\"], [1.0, \"#f0f921\"]], \"sequentialminus\": [[0.0, \"#0d0887\"], [0.1111111111111111, \"#46039f\"], [0.2222222222222222, \"#7201a8\"], [0.3333333333333333, \"#9c179e\"], [0.4444444444444444, \"#bd3786\"], [0.5555555555555556, \"#d8576b\"], [0.6666666666666666, \"#ed7953\"], [0.7777777777777778, \"#fb9f3a\"], [0.8888888888888888, \"#fdca26\"], [1.0, \"#f0f921\"]]}, \"colorway\": [\"#636efa\", \"#EF553B\", \"#00cc96\", \"#ab63fa\", \"#FFA15A\", \"#19d3f3\", \"#FF6692\", \"#B6E880\", \"#FF97FF\", \"#FECB52\"], \"font\": {\"color\": \"#2a3f5f\"}, \"geo\": {\"bgcolor\": \"white\", \"lakecolor\": \"white\", \"landcolor\": \"#E5ECF6\", \"showlakes\": true, \"showland\": true, \"subunitcolor\": \"white\"}, \"hoverlabel\": {\"align\": \"left\"}, \"hovermode\": \"closest\", \"mapbox\": {\"style\": \"light\"}, \"paper_bgcolor\": \"white\", \"plot_bgcolor\": \"#E5ECF6\", \"polar\": {\"angularaxis\": {\"gridcolor\": \"white\", \"linecolor\": \"white\", \"ticks\": \"\"}, \"bgcolor\": \"#E5ECF6\", \"radialaxis\": {\"gridcolor\": \"white\", \"linecolor\": \"white\", \"ticks\": \"\"}}, \"scene\": {\"xaxis\": {\"backgroundcolor\": \"#E5ECF6\", \"gridcolor\": \"white\", \"gridwidth\": 2, \"linecolor\": \"white\", \"showbackground\": true, \"ticks\": \"\", \"zerolinecolor\": \"white\"}, \"yaxis\": {\"backgroundcolor\": \"#E5ECF6\", \"gridcolor\": \"white\", \"gridwidth\": 2, \"linecolor\": \"white\", \"showbackground\": true, \"ticks\": \"\", \"zerolinecolor\": \"white\"}, \"zaxis\": {\"backgroundcolor\": \"#E5ECF6\", \"gridcolor\": \"white\", \"gridwidth\": 2, \"linecolor\": \"white\", \"showbackground\": true, \"ticks\": \"\", \"zerolinecolor\": \"white\"}}, \"shapedefaults\": {\"line\": {\"color\": \"#2a3f5f\"}}, \"ternary\": {\"aaxis\": {\"gridcolor\": \"white\", \"linecolor\": \"white\", \"ticks\": \"\"}, \"baxis\": {\"gridcolor\": \"white\", \"linecolor\": \"white\", \"ticks\": \"\"}, \"bgcolor\": \"#E5ECF6\", \"caxis\": {\"gridcolor\": \"white\", \"linecolor\": \"white\", \"ticks\": \"\"}}, \"title\": {\"x\": 0.05}, \"xaxis\": {\"automargin\": true, \"gridcolor\": \"white\", \"linecolor\": \"white\", \"ticks\": \"\", \"title\": {\"standoff\": 15}, \"zerolinecolor\": \"white\", \"zerolinewidth\": 2}, \"yaxis\": {\"automargin\": true, \"gridcolor\": \"white\", \"linecolor\": \"white\", \"ticks\": \"\", \"title\": {\"standoff\": 15}, \"zerolinecolor\": \"white\", \"zerolinewidth\": 2}}}},\n",
       "                        {\"responsive\": true}\n",
       "                    ).then(function(){\n",
       "                            \n",
       "var gd = document.getElementById('3a422458-f485-4d75-81ab-1a48f7b01721');\n",
       "var x = new MutationObserver(function (mutations, observer) {{\n",
       "        var display = window.getComputedStyle(gd).display;\n",
       "        if (!display || display === 'none') {{\n",
       "            console.log([gd, 'removed!']);\n",
       "            Plotly.purge(gd);\n",
       "            observer.disconnect();\n",
       "        }}\n",
       "}});\n",
       "\n",
       "// Listen for the removal of the full notebook cells\n",
       "var notebookContainer = gd.closest('#notebook-container');\n",
       "if (notebookContainer) {{\n",
       "    x.observe(notebookContainer, {childList: true});\n",
       "}}\n",
       "\n",
       "// Listen for the clearing of the current output cell\n",
       "var outputEl = gd.closest('.output');\n",
       "if (outputEl) {{\n",
       "    x.observe(outputEl, {childList: true});\n",
       "}}\n",
       "\n",
       "                        })\n",
       "                };\n",
       "                });\n",
       "            </script>\n",
       "        </div>"
      ]
     },
     "metadata": {},
     "output_type": "display_data"
    }
   ],
   "source": [
    "score=['0-1', '1-2', '2-3', '3-4', '4-5']\n",
    "\n",
    "fig = go.Figure(data=[\n",
    "    go.Bar(name='Followers < 30', x=score, y=[len(followers01_less30), len(followers12_less30), len(followers23_less30), len(followers34_less30), len(followers45_less30)]),\n",
    "    go.Bar(name='Status < 50', x=score, y=[len(status01_less50),len(status12_less50),len(status23_less50),len(status34_less50),len(status45_less50)]),\n",
    "    go.Bar(name='Null Location', x=score, y=[len(location01_null),len(location12_null),len(location23_null),len(location34_null),len(location45_null)]),\n",
    "    go.Bar(name='Disabled Geo', x=score, y=[len(geo01_false),len(geo12_false),len(geo23_false),len(geo34_false),len(geo45_false)]),\n",
    "    go.Bar(name='Default Image', x=score, y=[len(img01_true),len(img12_true),len(img23_true),len(img34_true),len(img45_true)]),\n",
    "    go.Bar(name='Ratio > 10:1', x=score, y=[len(ratio01_more10),len(ratio12_more10),len(ratio23_more10),len(ratio34_more10),len(ratio45_more10)])\n",
    "])\n",
    "# Change the bar mode\n",
    "fig.update_layout(barmode='group')\n",
    "fig.show()"
   ]
  },
  {
   "cell_type": "code",
   "execution_count": null,
   "metadata": {},
   "outputs": [],
   "source": []
  }
 ],
 "metadata": {
  "kernelspec": {
   "display_name": "Python 3",
   "language": "python",
   "name": "python3"
  },
  "language_info": {
   "codemirror_mode": {
    "name": "ipython",
    "version": 3
   },
   "file_extension": ".py",
   "mimetype": "text/x-python",
   "name": "python",
   "nbconvert_exporter": "python",
   "pygments_lexer": "ipython3",
   "version": "3.7.6"
  }
 },
 "nbformat": 4,
 "nbformat_minor": 4
}
